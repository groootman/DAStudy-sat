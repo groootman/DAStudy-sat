{
 "cells": [
  {
   "cell_type": "markdown",
   "id": "e079e519",
   "metadata": {
    "id": "e079e519"
   },
   "source": [
    "# EDA"
   ]
  },
  {
   "cell_type": "markdown",
   "id": "bc2028ff",
   "metadata": {
    "id": "bc2028ff"
   },
   "source": [
    "## 데이터 불러오기"
   ]
  },
  {
   "cell_type": "code",
   "execution_count": 1,
   "id": "1dc5440c",
   "metadata": {
    "executionInfo": {
     "elapsed": 4,
     "status": "ok",
     "timestamp": 1707827667964,
     "user": {
      "displayName": "Jeong Gyu Lee",
      "userId": "08214646354511941606"
     },
     "user_tz": -540
    },
    "id": "1dc5440c"
   },
   "outputs": [],
   "source": [
    "import pandas as pd\n",
    "import numpy as np\n",
    "from datetime import datetime"
   ]
  },
  {
   "cell_type": "code",
   "execution_count": 2,
   "id": "41b90485",
   "metadata": {
    "executionInfo": {
     "elapsed": 2,
     "status": "ok",
     "timestamp": 1707827678321,
     "user": {
      "displayName": "Jeong Gyu Lee",
      "userId": "08214646354511941606"
     },
     "user_tz": -540
    },
    "id": "41b90485"
   },
   "outputs": [],
   "source": [
    "filename = 'C:/Users/LG/PythonDataWorkspace/DATA STUDY/240127 ONINE STORE/events.csv'"
   ]
  },
  {
   "cell_type": "code",
   "execution_count": 3,
   "id": "a790573d",
   "metadata": {
    "colab": {
     "base_uri": "https://localhost:8080/"
    },
    "executionInfo": {
     "elapsed": 1930,
     "status": "ok",
     "timestamp": 1707827712552,
     "user": {
      "displayName": "Jeong Gyu Lee",
      "userId": "08214646354511941606"
     },
     "user_tz": -540
    },
    "id": "a790573d",
    "outputId": "890b595d-b7b7-4b03-add7-250119441a46"
   },
   "outputs": [
    {
     "data": {
      "text/plain": [
       "['event_time,event_type,product_id,category_id,category_code,brand,price,user_id,user_session\\n',\n",
       " '2020-09-24 11:57:06 UTC,view,1996170,2.14E+18,electronics.telephone,,31.9,1.52E+18,LJuJVLEjPT\\n',\n",
       " '2020-09-24 11:57:26 UTC,view,139905,2.14E+18,computers.components.cooler,zalman,17.16,1.52E+18,tdicluNnRY\\n',\n",
       " '2020-09-24 11:57:27 UTC,view,215454,2.14E+18,,,9.81,1.52E+18,4TMArHtXQy\\n',\n",
       " '2020-09-24 11:57:33 UTC,view,635807,2.14E+18,computers.peripherals.printer,pantum,113.81,1.52E+18,aGFYrNgC08\\n']"
      ]
     },
     "execution_count": 3,
     "metadata": {},
     "output_type": "execute_result"
    }
   ],
   "source": [
    "f = open(filename, 'r')\n",
    "f.readlines()[:5]"
   ]
  },
  {
   "cell_type": "code",
   "execution_count": 4,
   "id": "974565ad",
   "metadata": {
    "executionInfo": {
     "elapsed": 1257,
     "status": "ok",
     "timestamp": 1707827714994,
     "user": {
      "displayName": "Jeong Gyu Lee",
      "userId": "08214646354511941606"
     },
     "user_tz": -540
    },
    "id": "974565ad"
   },
   "outputs": [],
   "source": [
    "data = pd.read_csv(filename)"
   ]
  },
  {
   "cell_type": "code",
   "execution_count": 5,
   "id": "7f681c02",
   "metadata": {
    "colab": {
     "base_uri": "https://localhost:8080/",
     "height": 597
    },
    "executionInfo": {
     "elapsed": 530,
     "status": "ok",
     "timestamp": 1707827715523,
     "user": {
      "displayName": "Jeong Gyu Lee",
      "userId": "08214646354511941606"
     },
     "user_tz": -540
    },
    "id": "7f681c02",
    "outputId": "0e8f6a53-1096-4502-f273-6b91e9f27a79"
   },
   "outputs": [
    {
     "data": {
      "text/html": [
       "<div>\n",
       "<style scoped>\n",
       "    .dataframe tbody tr th:only-of-type {\n",
       "        vertical-align: middle;\n",
       "    }\n",
       "\n",
       "    .dataframe tbody tr th {\n",
       "        vertical-align: top;\n",
       "    }\n",
       "\n",
       "    .dataframe thead th {\n",
       "        text-align: right;\n",
       "    }\n",
       "</style>\n",
       "<table border=\"1\" class=\"dataframe\">\n",
       "  <thead>\n",
       "    <tr style=\"text-align: right;\">\n",
       "      <th></th>\n",
       "      <th>event_time</th>\n",
       "      <th>event_type</th>\n",
       "      <th>product_id</th>\n",
       "      <th>category_id</th>\n",
       "      <th>category_code</th>\n",
       "      <th>brand</th>\n",
       "      <th>price</th>\n",
       "      <th>user_id</th>\n",
       "      <th>user_session</th>\n",
       "    </tr>\n",
       "  </thead>\n",
       "  <tbody>\n",
       "    <tr>\n",
       "      <th>0</th>\n",
       "      <td>2020-09-24 11:57:06</td>\n",
       "      <td>view</td>\n",
       "      <td>1996170</td>\n",
       "      <td>2.140000e+18</td>\n",
       "      <td>electronics.telephone</td>\n",
       "      <td>NaN</td>\n",
       "      <td>31.90</td>\n",
       "      <td>1.520000e+18</td>\n",
       "      <td>LJuJVLEjPT</td>\n",
       "    </tr>\n",
       "    <tr>\n",
       "      <th>1</th>\n",
       "      <td>2020-09-24 11:57:26</td>\n",
       "      <td>view</td>\n",
       "      <td>139905</td>\n",
       "      <td>2.140000e+18</td>\n",
       "      <td>computers.components.cooler</td>\n",
       "      <td>zalman</td>\n",
       "      <td>17.16</td>\n",
       "      <td>1.520000e+18</td>\n",
       "      <td>tdicluNnRY</td>\n",
       "    </tr>\n",
       "    <tr>\n",
       "      <th>2</th>\n",
       "      <td>2020-09-24 11:57:27</td>\n",
       "      <td>view</td>\n",
       "      <td>215454</td>\n",
       "      <td>2.140000e+18</td>\n",
       "      <td>NaN</td>\n",
       "      <td>NaN</td>\n",
       "      <td>9.81</td>\n",
       "      <td>1.520000e+18</td>\n",
       "      <td>4TMArHtXQy</td>\n",
       "    </tr>\n",
       "    <tr>\n",
       "      <th>3</th>\n",
       "      <td>2020-09-24 11:57:33</td>\n",
       "      <td>view</td>\n",
       "      <td>635807</td>\n",
       "      <td>2.140000e+18</td>\n",
       "      <td>computers.peripherals.printer</td>\n",
       "      <td>pantum</td>\n",
       "      <td>113.81</td>\n",
       "      <td>1.520000e+18</td>\n",
       "      <td>aGFYrNgC08</td>\n",
       "    </tr>\n",
       "    <tr>\n",
       "      <th>4</th>\n",
       "      <td>2020-09-24 11:57:36</td>\n",
       "      <td>view</td>\n",
       "      <td>3658723</td>\n",
       "      <td>2.140000e+18</td>\n",
       "      <td>NaN</td>\n",
       "      <td>cameronsino</td>\n",
       "      <td>15.87</td>\n",
       "      <td>1.520000e+18</td>\n",
       "      <td>aa4mmk0kwQ</td>\n",
       "    </tr>\n",
       "    <tr>\n",
       "      <th>...</th>\n",
       "      <td>...</td>\n",
       "      <td>...</td>\n",
       "      <td>...</td>\n",
       "      <td>...</td>\n",
       "      <td>...</td>\n",
       "      <td>...</td>\n",
       "      <td>...</td>\n",
       "      <td>...</td>\n",
       "      <td>...</td>\n",
       "    </tr>\n",
       "    <tr>\n",
       "      <th>481994</th>\n",
       "      <td>2020-12-21 22:13:24</td>\n",
       "      <td>view</td>\n",
       "      <td>4154736</td>\n",
       "      <td>2.140000e+18</td>\n",
       "      <td>computers.peripherals.keyboard</td>\n",
       "      <td>roccat</td>\n",
       "      <td>113.17</td>\n",
       "      <td>1.520000e+18</td>\n",
       "      <td>aIgZll0RBP</td>\n",
       "    </tr>\n",
       "    <tr>\n",
       "      <th>481995</th>\n",
       "      <td>2020-12-21 22:14:15</td>\n",
       "      <td>view</td>\n",
       "      <td>4156223</td>\n",
       "      <td>2.140000e+18</td>\n",
       "      <td>electronics.audio.headphone</td>\n",
       "      <td>borofone</td>\n",
       "      <td>15.56</td>\n",
       "      <td>1.520000e+18</td>\n",
       "      <td>2nhXNJGCeS</td>\n",
       "    </tr>\n",
       "    <tr>\n",
       "      <th>481996</th>\n",
       "      <td>2020-12-21 22:15:59</td>\n",
       "      <td>view</td>\n",
       "      <td>4102122</td>\n",
       "      <td>2.140000e+18</td>\n",
       "      <td>NaN</td>\n",
       "      <td>baseus</td>\n",
       "      <td>13.65</td>\n",
       "      <td>1.520000e+18</td>\n",
       "      <td>KCb5plBKl6</td>\n",
       "    </tr>\n",
       "    <tr>\n",
       "      <th>481997</th>\n",
       "      <td>2020-12-21 22:18:03</td>\n",
       "      <td>view</td>\n",
       "      <td>1413341</td>\n",
       "      <td>2.140000e+18</td>\n",
       "      <td>computers.components.cpu</td>\n",
       "      <td>amd</td>\n",
       "      <td>191.52</td>\n",
       "      <td>1.520000e+18</td>\n",
       "      <td>rLnNMr2xIw</td>\n",
       "    </tr>\n",
       "    <tr>\n",
       "      <th>481998</th>\n",
       "      <td>2020-12-21 22:18:12</td>\n",
       "      <td>view</td>\n",
       "      <td>1570050</td>\n",
       "      <td>2.140000e+18</td>\n",
       "      <td>computers.components.motherboard</td>\n",
       "      <td>asrock</td>\n",
       "      <td>87.40</td>\n",
       "      <td>1.520000e+18</td>\n",
       "      <td>rLnNMr2xIw</td>\n",
       "    </tr>\n",
       "  </tbody>\n",
       "</table>\n",
       "<p>481999 rows × 9 columns</p>\n",
       "</div>"
      ],
      "text/plain": [
       "                event_time event_type  product_id   category_id  \\\n",
       "0      2020-09-24 11:57:06       view     1996170  2.140000e+18   \n",
       "1      2020-09-24 11:57:26       view      139905  2.140000e+18   \n",
       "2      2020-09-24 11:57:27       view      215454  2.140000e+18   \n",
       "3      2020-09-24 11:57:33       view      635807  2.140000e+18   \n",
       "4      2020-09-24 11:57:36       view     3658723  2.140000e+18   \n",
       "...                    ...        ...         ...           ...   \n",
       "481994 2020-12-21 22:13:24       view     4154736  2.140000e+18   \n",
       "481995 2020-12-21 22:14:15       view     4156223  2.140000e+18   \n",
       "481996 2020-12-21 22:15:59       view     4102122  2.140000e+18   \n",
       "481997 2020-12-21 22:18:03       view     1413341  2.140000e+18   \n",
       "481998 2020-12-21 22:18:12       view     1570050  2.140000e+18   \n",
       "\n",
       "                           category_code        brand   price       user_id  \\\n",
       "0                  electronics.telephone          NaN   31.90  1.520000e+18   \n",
       "1            computers.components.cooler       zalman   17.16  1.520000e+18   \n",
       "2                                    NaN          NaN    9.81  1.520000e+18   \n",
       "3          computers.peripherals.printer       pantum  113.81  1.520000e+18   \n",
       "4                                    NaN  cameronsino   15.87  1.520000e+18   \n",
       "...                                  ...          ...     ...           ...   \n",
       "481994    computers.peripherals.keyboard       roccat  113.17  1.520000e+18   \n",
       "481995       electronics.audio.headphone     borofone   15.56  1.520000e+18   \n",
       "481996                               NaN       baseus   13.65  1.520000e+18   \n",
       "481997          computers.components.cpu          amd  191.52  1.520000e+18   \n",
       "481998  computers.components.motherboard       asrock   87.40  1.520000e+18   \n",
       "\n",
       "       user_session  \n",
       "0        LJuJVLEjPT  \n",
       "1        tdicluNnRY  \n",
       "2        4TMArHtXQy  \n",
       "3        aGFYrNgC08  \n",
       "4        aa4mmk0kwQ  \n",
       "...             ...  \n",
       "481994   aIgZll0RBP  \n",
       "481995   2nhXNJGCeS  \n",
       "481996   KCb5plBKl6  \n",
       "481997   rLnNMr2xIw  \n",
       "481998   rLnNMr2xIw  \n",
       "\n",
       "[481999 rows x 9 columns]"
      ]
     },
     "execution_count": 5,
     "metadata": {},
     "output_type": "execute_result"
    }
   ],
   "source": [
    "data[\"event_time\"] = pd.to_datetime(data[\"event_time\"].str[:19])\n",
    "data"
   ]
  },
  {
   "cell_type": "code",
   "execution_count": 6,
   "id": "ef9cdfc1",
   "metadata": {},
   "outputs": [
    {
     "data": {
      "text/plain": [
       "['event_time',\n",
       " 'event_type',\n",
       " 'product_id',\n",
       " 'category_id',\n",
       " 'category_code',\n",
       " 'brand',\n",
       " 'price',\n",
       " 'user_id',\n",
       " 'user_session']"
      ]
     },
     "execution_count": 6,
     "metadata": {},
     "output_type": "execute_result"
    }
   ],
   "source": [
    "list(data)"
   ]
  },
  {
   "cell_type": "markdown",
   "id": "d0336e01",
   "metadata": {
    "id": "d0336e01"
   },
   "source": [
    "## 이상치 확인"
   ]
  },
  {
   "cell_type": "code",
   "execution_count": 7,
   "id": "a546dcd0",
   "metadata": {
    "colab": {
     "base_uri": "https://localhost:8080/",
     "height": 363
    },
    "executionInfo": {
     "elapsed": 397,
     "status": "ok",
     "timestamp": 1707827717113,
     "user": {
      "displayName": "Jeong Gyu Lee",
      "userId": "08214646354511941606"
     },
     "user_tz": -540
    },
    "id": "a546dcd0",
    "outputId": "1e2914d3-7829-487e-f674-828792b723d6"
   },
   "outputs": [
    {
     "data": {
      "text/html": [
       "<div>\n",
       "<style scoped>\n",
       "    .dataframe tbody tr th:only-of-type {\n",
       "        vertical-align: middle;\n",
       "    }\n",
       "\n",
       "    .dataframe tbody tr th {\n",
       "        vertical-align: top;\n",
       "    }\n",
       "\n",
       "    .dataframe thead th {\n",
       "        text-align: right;\n",
       "    }\n",
       "</style>\n",
       "<table border=\"1\" class=\"dataframe\">\n",
       "  <thead>\n",
       "    <tr style=\"text-align: right;\">\n",
       "      <th></th>\n",
       "      <th>event_time</th>\n",
       "      <th>event_type</th>\n",
       "      <th>product_id</th>\n",
       "      <th>category_id</th>\n",
       "      <th>category_code</th>\n",
       "      <th>brand</th>\n",
       "      <th>price</th>\n",
       "      <th>user_id</th>\n",
       "      <th>user_session</th>\n",
       "    </tr>\n",
       "  </thead>\n",
       "  <tbody>\n",
       "    <tr>\n",
       "      <th>418716</th>\n",
       "      <td>2020-12-09 18:31:21</td>\n",
       "      <td>view</td>\n",
       "      <td>4170916</td>\n",
       "      <td>2.140000e+18</td>\n",
       "      <td>computers.peripherals.monitor</td>\n",
       "      <td>lg</td>\n",
       "      <td>64771.06</td>\n",
       "      <td>1.520000e+18</td>\n",
       "      <td>3cyaesEFAP</td>\n",
       "    </tr>\n",
       "    <tr>\n",
       "      <th>86316</th>\n",
       "      <td>2020-10-14 06:26:41</td>\n",
       "      <td>view</td>\n",
       "      <td>4170916</td>\n",
       "      <td>2.140000e+18</td>\n",
       "      <td>computers.peripherals.monitor</td>\n",
       "      <td>lg</td>\n",
       "      <td>64771.06</td>\n",
       "      <td>1.520000e+18</td>\n",
       "      <td>M91MkaVScv</td>\n",
       "    </tr>\n",
       "    <tr>\n",
       "      <th>51272</th>\n",
       "      <td>2020-10-06 06:54:04</td>\n",
       "      <td>view</td>\n",
       "      <td>4170916</td>\n",
       "      <td>2.140000e+18</td>\n",
       "      <td>computers.peripherals.monitor</td>\n",
       "      <td>lg</td>\n",
       "      <td>64771.06</td>\n",
       "      <td>1.520000e+18</td>\n",
       "      <td>pfaAniPp5L</td>\n",
       "    </tr>\n",
       "    <tr>\n",
       "      <th>298701</th>\n",
       "      <td>2020-11-17 11:13:29</td>\n",
       "      <td>view</td>\n",
       "      <td>4078837</td>\n",
       "      <td>2.140000e+18</td>\n",
       "      <td>electronics.video.tv</td>\n",
       "      <td>samsung</td>\n",
       "      <td>42590.13</td>\n",
       "      <td>1.520000e+18</td>\n",
       "      <td>HXN3XBovmM</td>\n",
       "    </tr>\n",
       "    <tr>\n",
       "      <th>324573</th>\n",
       "      <td>2020-11-20 19:28:42</td>\n",
       "      <td>view</td>\n",
       "      <td>4078837</td>\n",
       "      <td>2.140000e+18</td>\n",
       "      <td>electronics.video.tv</td>\n",
       "      <td>samsung</td>\n",
       "      <td>42590.13</td>\n",
       "      <td>1.520000e+18</td>\n",
       "      <td>JkHJ3MLtXV</td>\n",
       "    </tr>\n",
       "    <tr>\n",
       "      <th>395298</th>\n",
       "      <td>2020-12-04 13:58:20</td>\n",
       "      <td>view</td>\n",
       "      <td>4078837</td>\n",
       "      <td>2.140000e+18</td>\n",
       "      <td>electronics.video.tv</td>\n",
       "      <td>samsung</td>\n",
       "      <td>42590.13</td>\n",
       "      <td>1.520000e+18</td>\n",
       "      <td>5IhxKg1wPN</td>\n",
       "    </tr>\n",
       "    <tr>\n",
       "      <th>13638</th>\n",
       "      <td>2020-09-27 21:29:46</td>\n",
       "      <td>view</td>\n",
       "      <td>4078834</td>\n",
       "      <td>2.140000e+18</td>\n",
       "      <td>electronics.video.tv</td>\n",
       "      <td>samsung</td>\n",
       "      <td>27775.87</td>\n",
       "      <td>1.520000e+18</td>\n",
       "      <td>NGhlgCsxv1</td>\n",
       "    </tr>\n",
       "    <tr>\n",
       "      <th>20028</th>\n",
       "      <td>2020-09-29 08:54:53</td>\n",
       "      <td>view</td>\n",
       "      <td>4078834</td>\n",
       "      <td>2.140000e+18</td>\n",
       "      <td>electronics.video.tv</td>\n",
       "      <td>samsung</td>\n",
       "      <td>27775.87</td>\n",
       "      <td>1.520000e+18</td>\n",
       "      <td>NGhlgCsxv1</td>\n",
       "    </tr>\n",
       "    <tr>\n",
       "      <th>329065</th>\n",
       "      <td>2020-11-21 15:07:35</td>\n",
       "      <td>view</td>\n",
       "      <td>4078834</td>\n",
       "      <td>2.140000e+18</td>\n",
       "      <td>electronics.video.tv</td>\n",
       "      <td>samsung</td>\n",
       "      <td>27775.87</td>\n",
       "      <td>1.520000e+18</td>\n",
       "      <td>I6pge0lwoQ</td>\n",
       "    </tr>\n",
       "    <tr>\n",
       "      <th>447859</th>\n",
       "      <td>2020-12-15 14:55:49</td>\n",
       "      <td>view</td>\n",
       "      <td>4078834</td>\n",
       "      <td>2.140000e+18</td>\n",
       "      <td>electronics.video.tv</td>\n",
       "      <td>samsung</td>\n",
       "      <td>27775.87</td>\n",
       "      <td>1.520000e+18</td>\n",
       "      <td>NYUVyRmTda</td>\n",
       "    </tr>\n",
       "  </tbody>\n",
       "</table>\n",
       "</div>"
      ],
      "text/plain": [
       "                event_time event_type  product_id   category_id  \\\n",
       "418716 2020-12-09 18:31:21       view     4170916  2.140000e+18   \n",
       "86316  2020-10-14 06:26:41       view     4170916  2.140000e+18   \n",
       "51272  2020-10-06 06:54:04       view     4170916  2.140000e+18   \n",
       "298701 2020-11-17 11:13:29       view     4078837  2.140000e+18   \n",
       "324573 2020-11-20 19:28:42       view     4078837  2.140000e+18   \n",
       "395298 2020-12-04 13:58:20       view     4078837  2.140000e+18   \n",
       "13638  2020-09-27 21:29:46       view     4078834  2.140000e+18   \n",
       "20028  2020-09-29 08:54:53       view     4078834  2.140000e+18   \n",
       "329065 2020-11-21 15:07:35       view     4078834  2.140000e+18   \n",
       "447859 2020-12-15 14:55:49       view     4078834  2.140000e+18   \n",
       "\n",
       "                        category_code    brand     price       user_id  \\\n",
       "418716  computers.peripherals.monitor       lg  64771.06  1.520000e+18   \n",
       "86316   computers.peripherals.monitor       lg  64771.06  1.520000e+18   \n",
       "51272   computers.peripherals.monitor       lg  64771.06  1.520000e+18   \n",
       "298701           electronics.video.tv  samsung  42590.13  1.520000e+18   \n",
       "324573           electronics.video.tv  samsung  42590.13  1.520000e+18   \n",
       "395298           electronics.video.tv  samsung  42590.13  1.520000e+18   \n",
       "13638            electronics.video.tv  samsung  27775.87  1.520000e+18   \n",
       "20028            electronics.video.tv  samsung  27775.87  1.520000e+18   \n",
       "329065           electronics.video.tv  samsung  27775.87  1.520000e+18   \n",
       "447859           electronics.video.tv  samsung  27775.87  1.520000e+18   \n",
       "\n",
       "       user_session  \n",
       "418716   3cyaesEFAP  \n",
       "86316    M91MkaVScv  \n",
       "51272    pfaAniPp5L  \n",
       "298701   HXN3XBovmM  \n",
       "324573   JkHJ3MLtXV  \n",
       "395298   5IhxKg1wPN  \n",
       "13638    NGhlgCsxv1  \n",
       "20028    NGhlgCsxv1  \n",
       "329065   I6pge0lwoQ  \n",
       "447859   NYUVyRmTda  "
      ]
     },
     "execution_count": 7,
     "metadata": {},
     "output_type": "execute_result"
    }
   ],
   "source": [
    "out_data = data.sort_values(by = \"price\", ascending = False)\n",
    "out_data.head(10)"
   ]
  },
  {
   "cell_type": "code",
   "execution_count": 8,
   "id": "3c3da89b",
   "metadata": {
    "colab": {
     "base_uri": "https://localhost:8080/",
     "height": 430
    },
    "executionInfo": {
     "elapsed": 1016,
     "status": "ok",
     "timestamp": 1707827718927,
     "user": {
      "displayName": "Jeong Gyu Lee",
      "userId": "08214646354511941606"
     },
     "user_tz": -540
    },
    "id": "3c3da89b",
    "outputId": "cc228172-bbd1-4015-9340-a89a8bd4e5d8"
   },
   "outputs": [
    {
     "data": {
      "image/png": "[encoded data removed]",
      "text/plain": [
       "<Figure size 640x480 with 1 Axes>"
      ]
     },
     "metadata": {},
     "output_type": "display_data"
    }
   ],
   "source": [
    "# boxplot\n",
    "import matplotlib as mpl\n",
    "import matplotlib.pyplot as plt\n",
    "\n",
    "out_data.boxplot(column = ['price'])\n",
    "plt.show()"
   ]
  },
  {
   "cell_type": "code",
   "execution_count": 9,
   "id": "1692cbd0",
   "metadata": {
    "colab": {
     "base_uri": "https://localhost:8080/",
     "height": 424
    },
    "executionInfo": {
     "elapsed": 362,
     "status": "ok",
     "timestamp": 1707827719287,
     "user": {
      "displayName": "Jeong Gyu Lee",
      "userId": "08214646354511941606"
     },
     "user_tz": -540
    },
    "id": "1692cbd0",
    "outputId": "75adab1a-01d5-4aef-99be-e142158e81ea"
   },
   "outputs": [
    {
     "data": {
      "text/html": [
       "<div>\n",
       "<style scoped>\n",
       "    .dataframe tbody tr th:only-of-type {\n",
       "        vertical-align: middle;\n",
       "    }\n",
       "\n",
       "    .dataframe tbody tr th {\n",
       "        vertical-align: top;\n",
       "    }\n",
       "\n",
       "    .dataframe thead th {\n",
       "        text-align: right;\n",
       "    }\n",
       "</style>\n",
       "<table border=\"1\" class=\"dataframe\">\n",
       "  <thead>\n",
       "    <tr style=\"text-align: right;\">\n",
       "      <th></th>\n",
       "      <th>event_time</th>\n",
       "      <th>event_type</th>\n",
       "      <th>product_id</th>\n",
       "      <th>category_id</th>\n",
       "      <th>category_code</th>\n",
       "      <th>brand</th>\n",
       "      <th>price</th>\n",
       "      <th>user_id</th>\n",
       "      <th>user_session</th>\n",
       "    </tr>\n",
       "  </thead>\n",
       "  <tbody>\n",
       "    <tr>\n",
       "      <th>418716</th>\n",
       "      <td>2020-12-09 18:31:21</td>\n",
       "      <td>view</td>\n",
       "      <td>4170916</td>\n",
       "      <td>2.140000e+18</td>\n",
       "      <td>computers.peripherals.monitor</td>\n",
       "      <td>lg</td>\n",
       "      <td>64771.06</td>\n",
       "      <td>1.520000e+18</td>\n",
       "      <td>3cyaesEFAP</td>\n",
       "    </tr>\n",
       "    <tr>\n",
       "      <th>86316</th>\n",
       "      <td>2020-10-14 06:26:41</td>\n",
       "      <td>view</td>\n",
       "      <td>4170916</td>\n",
       "      <td>2.140000e+18</td>\n",
       "      <td>computers.peripherals.monitor</td>\n",
       "      <td>lg</td>\n",
       "      <td>64771.06</td>\n",
       "      <td>1.520000e+18</td>\n",
       "      <td>M91MkaVScv</td>\n",
       "    </tr>\n",
       "    <tr>\n",
       "      <th>51272</th>\n",
       "      <td>2020-10-06 06:54:04</td>\n",
       "      <td>view</td>\n",
       "      <td>4170916</td>\n",
       "      <td>2.140000e+18</td>\n",
       "      <td>computers.peripherals.monitor</td>\n",
       "      <td>lg</td>\n",
       "      <td>64771.06</td>\n",
       "      <td>1.520000e+18</td>\n",
       "      <td>pfaAniPp5L</td>\n",
       "    </tr>\n",
       "    <tr>\n",
       "      <th>298701</th>\n",
       "      <td>2020-11-17 11:13:29</td>\n",
       "      <td>view</td>\n",
       "      <td>4078837</td>\n",
       "      <td>2.140000e+18</td>\n",
       "      <td>electronics.video.tv</td>\n",
       "      <td>samsung</td>\n",
       "      <td>42590.13</td>\n",
       "      <td>1.520000e+18</td>\n",
       "      <td>HXN3XBovmM</td>\n",
       "    </tr>\n",
       "    <tr>\n",
       "      <th>324573</th>\n",
       "      <td>2020-11-20 19:28:42</td>\n",
       "      <td>view</td>\n",
       "      <td>4078837</td>\n",
       "      <td>2.140000e+18</td>\n",
       "      <td>electronics.video.tv</td>\n",
       "      <td>samsung</td>\n",
       "      <td>42590.13</td>\n",
       "      <td>1.520000e+18</td>\n",
       "      <td>JkHJ3MLtXV</td>\n",
       "    </tr>\n",
       "    <tr>\n",
       "      <th>...</th>\n",
       "      <td>...</td>\n",
       "      <td>...</td>\n",
       "      <td>...</td>\n",
       "      <td>...</td>\n",
       "      <td>...</td>\n",
       "      <td>...</td>\n",
       "      <td>...</td>\n",
       "      <td>...</td>\n",
       "      <td>...</td>\n",
       "    </tr>\n",
       "    <tr>\n",
       "      <th>125258</th>\n",
       "      <td>2020-10-21 05:10:34</td>\n",
       "      <td>view</td>\n",
       "      <td>89031</td>\n",
       "      <td>2.140000e+18</td>\n",
       "      <td>NaN</td>\n",
       "      <td>NaN</td>\n",
       "      <td>319.67</td>\n",
       "      <td>1.520000e+18</td>\n",
       "      <td>5NECOxJxBR</td>\n",
       "    </tr>\n",
       "    <tr>\n",
       "      <th>261512</th>\n",
       "      <td>2020-11-11 19:17:35</td>\n",
       "      <td>view</td>\n",
       "      <td>89031</td>\n",
       "      <td>2.140000e+18</td>\n",
       "      <td>NaN</td>\n",
       "      <td>NaN</td>\n",
       "      <td>319.67</td>\n",
       "      <td>1.520000e+18</td>\n",
       "      <td>FiGRcSzQon</td>\n",
       "    </tr>\n",
       "    <tr>\n",
       "      <th>435536</th>\n",
       "      <td>2020-12-13 10:50:13</td>\n",
       "      <td>view</td>\n",
       "      <td>89031</td>\n",
       "      <td>2.140000e+18</td>\n",
       "      <td>NaN</td>\n",
       "      <td>NaN</td>\n",
       "      <td>319.67</td>\n",
       "      <td>1.520000e+18</td>\n",
       "      <td>n9Mf5w1OiZ</td>\n",
       "    </tr>\n",
       "    <tr>\n",
       "      <th>100326</th>\n",
       "      <td>2020-10-16 17:19:56</td>\n",
       "      <td>view</td>\n",
       "      <td>89031</td>\n",
       "      <td>2.140000e+18</td>\n",
       "      <td>NaN</td>\n",
       "      <td>NaN</td>\n",
       "      <td>319.67</td>\n",
       "      <td>1.520000e+18</td>\n",
       "      <td>zpwzL3hHYo</td>\n",
       "    </tr>\n",
       "    <tr>\n",
       "      <th>413054</th>\n",
       "      <td>2020-12-08 16:33:38</td>\n",
       "      <td>cart</td>\n",
       "      <td>89031</td>\n",
       "      <td>2.140000e+18</td>\n",
       "      <td>NaN</td>\n",
       "      <td>NaN</td>\n",
       "      <td>319.67</td>\n",
       "      <td>1.520000e+18</td>\n",
       "      <td>U2gRH1HkwY</td>\n",
       "    </tr>\n",
       "  </tbody>\n",
       "</table>\n",
       "<p>42865 rows × 9 columns</p>\n",
       "</div>"
      ],
      "text/plain": [
       "                event_time event_type  product_id   category_id  \\\n",
       "418716 2020-12-09 18:31:21       view     4170916  2.140000e+18   \n",
       "86316  2020-10-14 06:26:41       view     4170916  2.140000e+18   \n",
       "51272  2020-10-06 06:54:04       view     4170916  2.140000e+18   \n",
       "298701 2020-11-17 11:13:29       view     4078837  2.140000e+18   \n",
       "324573 2020-11-20 19:28:42       view     4078837  2.140000e+18   \n",
       "...                    ...        ...         ...           ...   \n",
       "125258 2020-10-21 05:10:34       view       89031  2.140000e+18   \n",
       "261512 2020-11-11 19:17:35       view       89031  2.140000e+18   \n",
       "435536 2020-12-13 10:50:13       view       89031  2.140000e+18   \n",
       "100326 2020-10-16 17:19:56       view       89031  2.140000e+18   \n",
       "413054 2020-12-08 16:33:38       cart       89031  2.140000e+18   \n",
       "\n",
       "                        category_code    brand     price       user_id  \\\n",
       "418716  computers.peripherals.monitor       lg  64771.06  1.520000e+18   \n",
       "86316   computers.peripherals.monitor       lg  64771.06  1.520000e+18   \n",
       "51272   computers.peripherals.monitor       lg  64771.06  1.520000e+18   \n",
       "298701           electronics.video.tv  samsung  42590.13  1.520000e+18   \n",
       "324573           electronics.video.tv  samsung  42590.13  1.520000e+18   \n",
       "...                               ...      ...       ...           ...   \n",
       "125258                            NaN      NaN    319.67  1.520000e+18   \n",
       "261512                            NaN      NaN    319.67  1.520000e+18   \n",
       "435536                            NaN      NaN    319.67  1.520000e+18   \n",
       "100326                            NaN      NaN    319.67  1.520000e+18   \n",
       "413054                            NaN      NaN    319.67  1.520000e+18   \n",
       "\n",
       "       user_session  \n",
       "418716   3cyaesEFAP  \n",
       "86316    M91MkaVScv  \n",
       "51272    pfaAniPp5L  \n",
       "298701   HXN3XBovmM  \n",
       "324573   JkHJ3MLtXV  \n",
       "...             ...  \n",
       "125258   5NECOxJxBR  \n",
       "261512   FiGRcSzQon  \n",
       "435536   n9Mf5w1OiZ  \n",
       "100326   zpwzL3hHYo  \n",
       "413054   U2gRH1HkwY  \n",
       "\n",
       "[42865 rows x 9 columns]"
      ]
     },
     "execution_count": 9,
     "metadata": {},
     "output_type": "execute_result"
    }
   ],
   "source": [
    "# IQR\n",
    "Q1 = np.quantile(out_data['price'], 0.25)\n",
    "Q3 = np.quantile(out_data['price'], 0.75)\n",
    "IQR = Q3 - Q1\n",
    "\n",
    "UC = Q3 + (1.5 * IQR)\n",
    "LC = Q1 - (1.5 * IQR)\n",
    "\n",
    "out_data.loc[(out_data['price'] > UC) | (data['price'] < LC), :]"
   ]
  },
  {
   "cell_type": "code",
   "execution_count": 10,
   "id": "c141943d",
   "metadata": {
    "colab": {
     "base_uri": "https://localhost:8080/",
     "height": 430
    },
    "executionInfo": {
     "elapsed": 523,
     "status": "ok",
     "timestamp": 1707827721238,
     "user": {
      "displayName": "Jeong Gyu Lee",
      "userId": "08214646354511941606"
     },
     "user_tz": -540
    },
    "id": "c141943d",
    "outputId": "2329afab-6640-47b7-8beb-f8737d8062a9"
   },
   "outputs": [
    {
     "data": {
      "image/png": "[encoded data removed]",
      "text/plain": [
       "<Figure size 640x480 with 1 Axes>"
      ]
     },
     "metadata": {},
     "output_type": "display_data"
    }
   ],
   "source": [
    "plt.clf() # 초기화\n",
    "out_data.loc[(out_data['price'] <= UC) & (out_data['price'] >= LC), :].boxplot(column = ['price'])\n",
    "plt.show()"
   ]
  },
  {
   "cell_type": "markdown",
   "id": "b522b46d",
   "metadata": {
    "id": "b522b46d"
   },
   "source": [
    "## Unique값 확인"
   ]
  },
  {
   "cell_type": "code",
   "execution_count": 11,
   "id": "d3cd6815",
   "metadata": {
    "colab": {
     "base_uri": "https://localhost:8080/"
    },
    "executionInfo": {
     "elapsed": 1009,
     "status": "ok",
     "timestamp": 1707827728236,
     "user": {
      "displayName": "Jeong Gyu Lee",
      "userId": "08214646354511941606"
     },
     "user_tz": -540
    },
    "id": "d3cd6815",
    "outputId": "7580ab00-16a3-4bf5-d4ad-75084504eeda",
    "scrolled": true
   },
   "outputs": [
    {
     "name": "stdout",
     "output_type": "stream",
     "text": [
      "----------------------------------------------------------------------------\n",
      "event_time unique값 확인\n",
      "<DatetimeArray>\n",
      "['2020-09-24 11:57:06', '2020-09-24 11:57:26', '2020-09-24 11:57:27',\n",
      " '2020-09-24 11:57:33', '2020-09-24 11:57:36', '2020-09-24 11:57:59',\n",
      " '2020-09-24 11:58:23', '2020-09-24 11:58:24', '2020-09-24 11:58:25',\n",
      " '2020-09-24 11:58:31']\n",
      "Length: 10, dtype: datetime64[ns] ...\n",
      "460681 개\n",
      "----------------------------------------------------------------------------\n",
      "event_type unique값 확인\n",
      "['view' 'cart' 'purchase']\n",
      "3 개\n",
      "----------------------------------------------------------------------------\n",
      "product_id unique값 확인\n",
      "[1996170  139905  215454  635807 3658723  664325 3791349  716611  657859\n",
      "  811491] ...\n",
      "44732 개\n",
      "----------------------------------------------------------------------------\n",
      "category_id unique값 확인\n",
      "[2.14e+18 2.15e+18 2.23e+18 2.22e+18 2.18e+18 2.17e+18]\n",
      "6 개\n",
      "----------------------------------------------------------------------------\n",
      "category_code unique값 확인\n",
      "['electronics.telephone' 'computers.components.cooler' nan\n",
      " 'computers.peripherals.printer' 'construction.tools.saw'\n",
      " 'computers.desktop' 'computers.network.router' 'electronics.video.tv'\n",
      " 'auto.accessories.player' 'computers.components.motherboard'] ...\n",
      "108 개\n",
      "----------------------------------------------------------------------------\n",
      "brand unique값 확인\n",
      "[nan 'zalman' 'pantum' 'cameronsino' 'carver' 'd-link' 'ritmix' 'ricoh'\n",
      " 'sony' 'kenwood'] ...\n",
      "966 개\n",
      "----------------------------------------------------------------------------\n",
      "price unique값 확인\n",
      "[ 31.9   17.16   9.81 113.81  15.87  52.33 215.41  53.14  34.17  33.32] ...\n",
      "11528 개\n",
      "----------------------------------------------------------------------------\n",
      "user_id unique값 확인\n",
      "[1.52e+18]\n",
      "1 개\n",
      "----------------------------------------------------------------------------\n",
      "user_session unique값 확인\n",
      "['LJuJVLEjPT' 'tdicluNnRY' '4TMArHtXQy' 'aGFYrNgC08' 'aa4mmk0kwQ'\n",
      " 'vnkdP81DDW' 'J1t6sIYXiV' 'kVBeYDPcBw' 'HEl15U7JVy' 'F3VB9LYp39'] ...\n",
      "278521 개\n",
      "----------------------------------------------------------------------------\n"
     ]
    }
   ],
   "source": [
    "print(\"----------------------------------------------------------------------------\")\n",
    "\n",
    "for column in data.columns:\n",
    "    if len(data[column].unique()) > 10:\n",
    "        print(column + \" unique값 확인\")\n",
    "        print(data[column].unique()[:10], \"...\")\n",
    "        print(len(data[column].unique()), \"개\")\n",
    "        print(\"----------------------------------------------------------------------------\")\n",
    "    else:\n",
    "        print(column + \" unique값 확인\")\n",
    "        print(data[column].unique())\n",
    "        print(len(data[column].unique()), \"개\")\n",
    "        print(\"----------------------------------------------------------------------------\")"
   ]
  },
  {
   "cell_type": "markdown",
   "id": "6ac2b391",
   "metadata": {
    "id": "6ac2b391"
   },
   "source": [
    "## 결측치 확인"
   ]
  },
  {
   "cell_type": "code",
   "execution_count": 12,
   "id": "903d334d",
   "metadata": {
    "colab": {
     "base_uri": "https://localhost:8080/"
    },
    "executionInfo": {
     "elapsed": 414,
     "status": "ok",
     "timestamp": 1707827728970,
     "user": {
      "displayName": "Jeong Gyu Lee",
      "userId": "08214646354511941606"
     },
     "user_tz": -540
    },
    "id": "903d334d",
    "outputId": "381a4f66-80f0-407e-8963-b7a465223d83"
   },
   "outputs": [
    {
     "name": "stdout",
     "output_type": "stream",
     "text": [
      "---------------------------\n",
      "category_code 결측치 비율\n",
      "28.76 %\n",
      "---------------------------\n",
      "brand 결측치 비율\n",
      "24.87 %\n",
      "---------------------------\n",
      "user_session 결측치 비율\n",
      "0.03 %\n",
      "---------------------------\n"
     ]
    }
   ],
   "source": [
    "print(\"---------------------------\")\n",
    "\n",
    "row_count = data.shape[0]\n",
    "\n",
    "for column in data.columns:\n",
    "    null_count = data[column].isnull().sum()\n",
    "    if null_count > 0:\n",
    "        print(column + \" 결측치 비율\")\n",
    "        print(round(null_count / row_count * 100, 2), \"%\")\n",
    "        print(\"---------------------------\")\n",
    "    else:\n",
    "        pass"
   ]
  },
  {
   "cell_type": "markdown",
   "id": "ee3014d5",
   "metadata": {
    "id": "ee3014d5"
   },
   "source": [
    "## 데이터 정렬"
   ]
  },
  {
   "cell_type": "code",
   "execution_count": 13,
   "id": "4fc7fa20",
   "metadata": {
    "colab": {
     "base_uri": "https://localhost:8080/",
     "height": 455
    },
    "executionInfo": {
     "elapsed": 3499,
     "status": "ok",
     "timestamp": 1707827734505,
     "user": {
      "displayName": "Jeong Gyu Lee",
      "userId": "08214646354511941606"
     },
     "user_tz": -540
    },
    "id": "4fc7fa20",
    "outputId": "ac285d52-27bf-49e6-c72e-3cf4ce4b02fd"
   },
   "outputs": [
    {
     "data": {
      "text/html": [
       "<div>\n",
       "<style scoped>\n",
       "    .dataframe tbody tr th:only-of-type {\n",
       "        vertical-align: middle;\n",
       "    }\n",
       "\n",
       "    .dataframe tbody tr th {\n",
       "        vertical-align: top;\n",
       "    }\n",
       "\n",
       "    .dataframe thead th {\n",
       "        text-align: right;\n",
       "    }\n",
       "</style>\n",
       "<table border=\"1\" class=\"dataframe\">\n",
       "  <thead>\n",
       "    <tr style=\"text-align: right;\">\n",
       "      <th>event_type</th>\n",
       "      <th>view</th>\n",
       "      <th>cart</th>\n",
       "      <th>purchase</th>\n",
       "    </tr>\n",
       "    <tr>\n",
       "      <th>user_session</th>\n",
       "      <th></th>\n",
       "      <th></th>\n",
       "      <th></th>\n",
       "    </tr>\n",
       "  </thead>\n",
       "  <tbody>\n",
       "    <tr>\n",
       "      <th>000c34fa-991f-442a-8e07-8c472269bec6</th>\n",
       "      <td>2020-09-30 17:52:02</td>\n",
       "      <td>NaT</td>\n",
       "      <td>NaT</td>\n",
       "    </tr>\n",
       "    <tr>\n",
       "      <th>001P7lK0Pt</th>\n",
       "      <td>2020-11-06 01:25:30</td>\n",
       "      <td>NaT</td>\n",
       "      <td>NaT</td>\n",
       "    </tr>\n",
       "    <tr>\n",
       "      <th>002DmERG1w</th>\n",
       "      <td>2020-09-26 18:59:06</td>\n",
       "      <td>NaT</td>\n",
       "      <td>NaT</td>\n",
       "    </tr>\n",
       "    <tr>\n",
       "      <th>003QqC0jk0</th>\n",
       "      <td>2020-10-25 15:23:25</td>\n",
       "      <td>NaT</td>\n",
       "      <td>NaT</td>\n",
       "    </tr>\n",
       "    <tr>\n",
       "      <th>003pEktS1X</th>\n",
       "      <td>2020-11-02 18:11:24</td>\n",
       "      <td>NaT</td>\n",
       "      <td>NaT</td>\n",
       "    </tr>\n",
       "    <tr>\n",
       "      <th>...</th>\n",
       "      <td>...</td>\n",
       "      <td>...</td>\n",
       "      <td>...</td>\n",
       "    </tr>\n",
       "    <tr>\n",
       "      <th>zztce59nU2</th>\n",
       "      <td>2020-10-29 18:02:28</td>\n",
       "      <td>NaT</td>\n",
       "      <td>NaT</td>\n",
       "    </tr>\n",
       "    <tr>\n",
       "      <th>zztjHPLepJ</th>\n",
       "      <td>2020-11-14 18:31:44</td>\n",
       "      <td>NaT</td>\n",
       "      <td>NaT</td>\n",
       "    </tr>\n",
       "    <tr>\n",
       "      <th>zzvjiUwHhM</th>\n",
       "      <td>2020-12-18 10:31:55</td>\n",
       "      <td>NaT</td>\n",
       "      <td>NaT</td>\n",
       "    </tr>\n",
       "    <tr>\n",
       "      <th>zzxnA0nWEY</th>\n",
       "      <td>2020-11-17 11:34:14</td>\n",
       "      <td>NaT</td>\n",
       "      <td>NaT</td>\n",
       "    </tr>\n",
       "    <tr>\n",
       "      <th>zzy0qXtxYX</th>\n",
       "      <td>2020-11-08 17:08:01</td>\n",
       "      <td>NaT</td>\n",
       "      <td>NaT</td>\n",
       "    </tr>\n",
       "  </tbody>\n",
       "</table>\n",
       "<p>278520 rows × 3 columns</p>\n",
       "</div>"
      ],
      "text/plain": [
       "event_type                                          view cart purchase\n",
       "user_session                                                          \n",
       "000c34fa-991f-442a-8e07-8c472269bec6 2020-09-30 17:52:02  NaT      NaT\n",
       "001P7lK0Pt                           2020-11-06 01:25:30  NaT      NaT\n",
       "002DmERG1w                           2020-09-26 18:59:06  NaT      NaT\n",
       "003QqC0jk0                           2020-10-25 15:23:25  NaT      NaT\n",
       "003pEktS1X                           2020-11-02 18:11:24  NaT      NaT\n",
       "...                                                  ...  ...      ...\n",
       "zztce59nU2                           2020-10-29 18:02:28  NaT      NaT\n",
       "zztjHPLepJ                           2020-11-14 18:31:44  NaT      NaT\n",
       "zzvjiUwHhM                           2020-12-18 10:31:55  NaT      NaT\n",
       "zzxnA0nWEY                           2020-11-17 11:34:14  NaT      NaT\n",
       "zzy0qXtxYX                           2020-11-08 17:08:01  NaT      NaT\n",
       "\n",
       "[278520 rows x 3 columns]"
      ]
     },
     "execution_count": 13,
     "metadata": {},
     "output_type": "execute_result"
    }
   ],
   "source": [
    "data_copy_1 = data\n",
    "\n",
    "group_data = data_copy_1.groupby([\"user_session\", \"event_type\"]).agg(datetime = (\"event_time\", \"min\"))\n",
    "\n",
    "temp_df = pd.DataFrame(data_copy_1['event_type'].unique(), columns = [\"event_type\"])\n",
    "temp_df[\"step\"] = [1, 2, 3]\n",
    "temp_df.set_index(\"event_type\", append = False, inplace = True)\n",
    "\n",
    "merge_data = pd.merge(group_data, temp_df, left_on = \"event_type\", right_index = True)\n",
    "\n",
    "pivot_data = merge_data.reset_index().pivot(index = [\"user_session\"], columns = \"step\", values = \"datetime\")\n",
    "\n",
    "pivot_data.columns = temp_df.index\n",
    "pivot_data"
   ]
  },
  {
   "cell_type": "markdown",
   "id": "03d99ea0",
   "metadata": {
    "id": "03d99ea0"
   },
   "source": [
    "## 전환율 확인"
   ]
  },
  {
   "cell_type": "code",
   "execution_count": 14,
   "id": "e9e9a017",
   "metadata": {
    "colab": {
     "base_uri": "https://localhost:8080/"
    },
    "executionInfo": {
     "elapsed": 337,
     "status": "ok",
     "timestamp": 1707827738637,
     "user": {
      "displayName": "Jeong Gyu Lee",
      "userId": "08214646354511941606"
     },
     "user_tz": -540
    },
    "id": "e9e9a017",
    "outputId": "7536de6c-9e53-4125-e5fc-69dc1e578bd7"
   },
   "outputs": [
    {
     "name": "stdout",
     "output_type": "stream",
     "text": [
      "event별 횟수\n",
      "view  :  277475 회\n",
      "cart  :  20870 회\n",
      "purchase  :  12534 회\n",
      "\n",
      "event별 전환율\n",
      "cart  전환율 :  7.52 %\n",
      "purchase  전환율 :  60.06 %\n",
      "\n",
      "view 대비 purchase 전환율\n",
      "구매전환율 :  4.52 %\n"
     ]
    }
   ],
   "source": [
    "step_count = [pivot_data[event].notnull().sum() for event in pivot_data.columns]\n",
    "\n",
    "print(\"event별 횟수\")\n",
    "for num, event in enumerate(step_count):\n",
    "    print(pivot_data.columns[num], \" : \", event, \"회\")\n",
    "\n",
    "print(\"\")\n",
    "\n",
    "print(\"event별 전환율\")\n",
    "for num, event in enumerate(step_count[1:]):\n",
    "    step_rate = round(event / step_count[num] * 100, 2)\n",
    "    print(pivot_data.columns[num+1], \" 전환율 : \", step_rate, \"%\")\n",
    "\n",
    "print(\"\")\n",
    "\n",
    "print(\"view 대비 purchase 전환율\")\n",
    "purchase_to_view_rate = round(step_count[2] / step_count[0] * 100, 2)\n",
    "print(\"구매전환율 : \", purchase_to_view_rate, \"%\")"
   ]
  },
  {
   "cell_type": "markdown",
   "id": "ad71ad9a",
   "metadata": {
    "id": "ad71ad9a"
   },
   "source": [
    "## 퍼널 확인\n",
    "- 이전단계 퍼널 무시된 경우 확인"
   ]
  },
  {
   "cell_type": "code",
   "execution_count": 15,
   "id": "5b0d4fb5",
   "metadata": {
    "colab": {
     "base_uri": "https://localhost:8080/",
     "height": 455
    },
    "executionInfo": {
     "elapsed": 336,
     "status": "ok",
     "timestamp": 1707827747062,
     "user": {
      "displayName": "Jeong Gyu Lee",
      "userId": "08214646354511941606"
     },
     "user_tz": -540
    },
    "id": "5b0d4fb5",
    "outputId": "42503e56-c206-4975-e017-388bfe0e314e"
   },
   "outputs": [
    {
     "data": {
      "text/html": [
       "<div>\n",
       "<style scoped>\n",
       "    .dataframe tbody tr th:only-of-type {\n",
       "        vertical-align: middle;\n",
       "    }\n",
       "\n",
       "    .dataframe tbody tr th {\n",
       "        vertical-align: top;\n",
       "    }\n",
       "\n",
       "    .dataframe thead th {\n",
       "        text-align: right;\n",
       "    }\n",
       "</style>\n",
       "<table border=\"1\" class=\"dataframe\">\n",
       "  <thead>\n",
       "    <tr style=\"text-align: right;\">\n",
       "      <th>event_type</th>\n",
       "      <th>view</th>\n",
       "      <th>cart</th>\n",
       "      <th>purchase</th>\n",
       "    </tr>\n",
       "    <tr>\n",
       "      <th>user_session</th>\n",
       "      <th></th>\n",
       "      <th></th>\n",
       "      <th></th>\n",
       "    </tr>\n",
       "  </thead>\n",
       "  <tbody>\n",
       "    <tr>\n",
       "      <th>005wDfXQrv</th>\n",
       "      <td>2020-11-06 04:40:04</td>\n",
       "      <td>NaT</td>\n",
       "      <td>2020-11-06 04:40:50</td>\n",
       "    </tr>\n",
       "    <tr>\n",
       "      <th>02N2rUZOAe</th>\n",
       "      <td>2020-10-10 12:45:04</td>\n",
       "      <td>NaT</td>\n",
       "      <td>2020-10-10 12:59:57</td>\n",
       "    </tr>\n",
       "    <tr>\n",
       "      <th>06vthDebl0</th>\n",
       "      <td>NaT</td>\n",
       "      <td>NaT</td>\n",
       "      <td>2020-11-29 01:07:53</td>\n",
       "    </tr>\n",
       "    <tr>\n",
       "      <th>08suCcfQTi</th>\n",
       "      <td>NaT</td>\n",
       "      <td>NaT</td>\n",
       "      <td>2020-12-03 17:36:00</td>\n",
       "    </tr>\n",
       "    <tr>\n",
       "      <th>0AxRBHYjov</th>\n",
       "      <td>2020-12-19 09:20:05</td>\n",
       "      <td>NaT</td>\n",
       "      <td>2020-12-19 09:10:59</td>\n",
       "    </tr>\n",
       "    <tr>\n",
       "      <th>...</th>\n",
       "      <td>...</td>\n",
       "      <td>...</td>\n",
       "      <td>...</td>\n",
       "    </tr>\n",
       "    <tr>\n",
       "      <th>zgbb6Sph4R</th>\n",
       "      <td>NaT</td>\n",
       "      <td>NaT</td>\n",
       "      <td>2020-10-27 16:25:33</td>\n",
       "    </tr>\n",
       "    <tr>\n",
       "      <th>ziHsiqYtEr</th>\n",
       "      <td>2020-11-09 15:17:32</td>\n",
       "      <td>NaT</td>\n",
       "      <td>2020-11-09 16:46:35</td>\n",
       "    </tr>\n",
       "    <tr>\n",
       "      <th>zkZqKpQZIY</th>\n",
       "      <td>NaT</td>\n",
       "      <td>NaT</td>\n",
       "      <td>2020-10-23 12:31:13</td>\n",
       "    </tr>\n",
       "    <tr>\n",
       "      <th>zo4aXNzR5M</th>\n",
       "      <td>2020-11-25 17:07:16</td>\n",
       "      <td>NaT</td>\n",
       "      <td>2020-11-25 17:04:01</td>\n",
       "    </tr>\n",
       "    <tr>\n",
       "      <th>zs55HsPlel</th>\n",
       "      <td>2020-12-18 04:35:10</td>\n",
       "      <td>NaT</td>\n",
       "      <td>2020-12-18 04:35:41</td>\n",
       "    </tr>\n",
       "  </tbody>\n",
       "</table>\n",
       "<p>1767 rows × 3 columns</p>\n",
       "</div>"
      ],
      "text/plain": [
       "event_type                  view cart            purchase\n",
       "user_session                                             \n",
       "005wDfXQrv   2020-11-06 04:40:04  NaT 2020-11-06 04:40:50\n",
       "02N2rUZOAe   2020-10-10 12:45:04  NaT 2020-10-10 12:59:57\n",
       "06vthDebl0                   NaT  NaT 2020-11-29 01:07:53\n",
       "08suCcfQTi                   NaT  NaT 2020-12-03 17:36:00\n",
       "0AxRBHYjov   2020-12-19 09:20:05  NaT 2020-12-19 09:10:59\n",
       "...                          ...  ...                 ...\n",
       "zgbb6Sph4R                   NaT  NaT 2020-10-27 16:25:33\n",
       "ziHsiqYtEr   2020-11-09 15:17:32  NaT 2020-11-09 16:46:35\n",
       "zkZqKpQZIY                   NaT  NaT 2020-10-23 12:31:13\n",
       "zo4aXNzR5M   2020-11-25 17:07:16  NaT 2020-11-25 17:04:01\n",
       "zs55HsPlel   2020-12-18 04:35:10  NaT 2020-12-18 04:35:41\n",
       "\n",
       "[1767 rows x 3 columns]"
      ]
     },
     "execution_count": 15,
     "metadata": {},
     "output_type": "execute_result"
    }
   ],
   "source": [
    "# view 또는 cart 없이 purchase한 경우 확인\n",
    "pivot_data[(pivot_data['purchase'].isnull() == False) & ((pivot_data['view'].isnull() == True) | (pivot_data['cart'].isnull() == True))]"
   ]
  },
  {
   "cell_type": "code",
   "execution_count": 16,
   "id": "71f48441",
   "metadata": {
    "colab": {
     "base_uri": "https://localhost:8080/",
     "height": 238
    },
    "executionInfo": {
     "elapsed": 3,
     "status": "ok",
     "timestamp": 1707827748536,
     "user": {
      "displayName": "Jeong Gyu Lee",
      "userId": "08214646354511941606"
     },
     "user_tz": -540
    },
    "id": "71f48441",
    "outputId": "07aaee8d-dc92-4543-9604-0745609df00f"
   },
   "outputs": [
    {
     "data": {
      "text/html": [
       "<div>\n",
       "<style scoped>\n",
       "    .dataframe tbody tr th:only-of-type {\n",
       "        vertical-align: middle;\n",
       "    }\n",
       "\n",
       "    .dataframe tbody tr th {\n",
       "        vertical-align: top;\n",
       "    }\n",
       "\n",
       "    .dataframe thead th {\n",
       "        text-align: right;\n",
       "    }\n",
       "</style>\n",
       "<table border=\"1\" class=\"dataframe\">\n",
       "  <thead>\n",
       "    <tr style=\"text-align: right;\">\n",
       "      <th>event_type</th>\n",
       "      <th>view</th>\n",
       "      <th>cart</th>\n",
       "      <th>purchase</th>\n",
       "    </tr>\n",
       "    <tr>\n",
       "      <th>user_session</th>\n",
       "      <th></th>\n",
       "      <th></th>\n",
       "      <th></th>\n",
       "    </tr>\n",
       "  </thead>\n",
       "  <tbody>\n",
       "    <tr>\n",
       "      <th>3jTpf8HiYS</th>\n",
       "      <td>NaT</td>\n",
       "      <td>2020-09-29 12:57:29</td>\n",
       "      <td>2020-09-29 12:57:40</td>\n",
       "    </tr>\n",
       "    <tr>\n",
       "      <th>7DGcRi1GB8</th>\n",
       "      <td>NaT</td>\n",
       "      <td>2020-09-24 12:50:00</td>\n",
       "      <td>2020-09-24 12:50:55</td>\n",
       "    </tr>\n",
       "    <tr>\n",
       "      <th>C6RSxep5HL</th>\n",
       "      <td>NaT</td>\n",
       "      <td>2020-11-18 05:05:15</td>\n",
       "      <td>2020-11-18 05:06:31</td>\n",
       "    </tr>\n",
       "    <tr>\n",
       "      <th>ONO5SuHAuT</th>\n",
       "      <td>NaT</td>\n",
       "      <td>2020-10-18 18:50:06</td>\n",
       "      <td>2020-10-18 18:52:42</td>\n",
       "    </tr>\n",
       "    <tr>\n",
       "      <th>ulsfncCKHO</th>\n",
       "      <td>NaT</td>\n",
       "      <td>2020-12-13 06:22:02</td>\n",
       "      <td>2020-12-13 06:23:30</td>\n",
       "    </tr>\n",
       "  </tbody>\n",
       "</table>\n",
       "</div>"
      ],
      "text/plain": [
       "event_type   view                cart            purchase\n",
       "user_session                                             \n",
       "3jTpf8HiYS    NaT 2020-09-29 12:57:29 2020-09-29 12:57:40\n",
       "7DGcRi1GB8    NaT 2020-09-24 12:50:00 2020-09-24 12:50:55\n",
       "C6RSxep5HL    NaT 2020-11-18 05:05:15 2020-11-18 05:06:31\n",
       "ONO5SuHAuT    NaT 2020-10-18 18:50:06 2020-10-18 18:52:42\n",
       "ulsfncCKHO    NaT 2020-12-13 06:22:02 2020-12-13 06:23:30"
      ]
     },
     "execution_count": 16,
     "metadata": {},
     "output_type": "execute_result"
    }
   ],
   "source": [
    "# view 없이 cart와 purchase한 경우 확인\n",
    "pivot_data[(pivot_data['purchase'].isnull() == False) & (pivot_data['view'].isnull() == True) & (pivot_data['cart'].isnull() == False)]"
   ]
  },
  {
   "cell_type": "code",
   "execution_count": 17,
   "id": "605afbeb",
   "metadata": {
    "colab": {
     "base_uri": "https://localhost:8080/",
     "height": 455
    },
    "executionInfo": {
     "elapsed": 7,
     "status": "ok",
     "timestamp": 1707827748993,
     "user": {
      "displayName": "Jeong Gyu Lee",
      "userId": "08214646354511941606"
     },
     "user_tz": -540
    },
    "id": "605afbeb",
    "outputId": "78510d38-979b-44bb-fa44-1dcbd56df27c"
   },
   "outputs": [
    {
     "data": {
      "text/html": [
       "<div>\n",
       "<style scoped>\n",
       "    .dataframe tbody tr th:only-of-type {\n",
       "        vertical-align: middle;\n",
       "    }\n",
       "\n",
       "    .dataframe tbody tr th {\n",
       "        vertical-align: top;\n",
       "    }\n",
       "\n",
       "    .dataframe thead th {\n",
       "        text-align: right;\n",
       "    }\n",
       "</style>\n",
       "<table border=\"1\" class=\"dataframe\">\n",
       "  <thead>\n",
       "    <tr style=\"text-align: right;\">\n",
       "      <th>event_type</th>\n",
       "      <th>view</th>\n",
       "      <th>cart</th>\n",
       "      <th>purchase</th>\n",
       "    </tr>\n",
       "    <tr>\n",
       "      <th>user_session</th>\n",
       "      <th></th>\n",
       "      <th></th>\n",
       "      <th></th>\n",
       "    </tr>\n",
       "  </thead>\n",
       "  <tbody>\n",
       "    <tr>\n",
       "      <th>005wDfXQrv</th>\n",
       "      <td>2020-11-06 04:40:04</td>\n",
       "      <td>NaT</td>\n",
       "      <td>2020-11-06 04:40:50</td>\n",
       "    </tr>\n",
       "    <tr>\n",
       "      <th>02N2rUZOAe</th>\n",
       "      <td>2020-10-10 12:45:04</td>\n",
       "      <td>NaT</td>\n",
       "      <td>2020-10-10 12:59:57</td>\n",
       "    </tr>\n",
       "    <tr>\n",
       "      <th>0AxRBHYjov</th>\n",
       "      <td>2020-12-19 09:20:05</td>\n",
       "      <td>NaT</td>\n",
       "      <td>2020-12-19 09:10:59</td>\n",
       "    </tr>\n",
       "    <tr>\n",
       "      <th>0Ivxve1T4M</th>\n",
       "      <td>2020-10-03 15:57:55</td>\n",
       "      <td>NaT</td>\n",
       "      <td>2020-10-03 16:00:19</td>\n",
       "    </tr>\n",
       "    <tr>\n",
       "      <th>0TzN6Y5q8A</th>\n",
       "      <td>2020-10-23 06:24:04</td>\n",
       "      <td>NaT</td>\n",
       "      <td>2020-10-23 06:37:17</td>\n",
       "    </tr>\n",
       "    <tr>\n",
       "      <th>...</th>\n",
       "      <td>...</td>\n",
       "      <td>...</td>\n",
       "      <td>...</td>\n",
       "    </tr>\n",
       "    <tr>\n",
       "      <th>zRWedIZeaN</th>\n",
       "      <td>2020-10-15 16:26:10</td>\n",
       "      <td>NaT</td>\n",
       "      <td>2020-11-07 18:38:33</td>\n",
       "    </tr>\n",
       "    <tr>\n",
       "      <th>zXXvCQo00H</th>\n",
       "      <td>2020-11-27 05:19:14</td>\n",
       "      <td>NaT</td>\n",
       "      <td>2020-11-27 05:24:14</td>\n",
       "    </tr>\n",
       "    <tr>\n",
       "      <th>ziHsiqYtEr</th>\n",
       "      <td>2020-11-09 15:17:32</td>\n",
       "      <td>NaT</td>\n",
       "      <td>2020-11-09 16:46:35</td>\n",
       "    </tr>\n",
       "    <tr>\n",
       "      <th>zo4aXNzR5M</th>\n",
       "      <td>2020-11-25 17:07:16</td>\n",
       "      <td>NaT</td>\n",
       "      <td>2020-11-25 17:04:01</td>\n",
       "    </tr>\n",
       "    <tr>\n",
       "      <th>zs55HsPlel</th>\n",
       "      <td>2020-12-18 04:35:10</td>\n",
       "      <td>NaT</td>\n",
       "      <td>2020-12-18 04:35:41</td>\n",
       "    </tr>\n",
       "  </tbody>\n",
       "</table>\n",
       "<p>724 rows × 3 columns</p>\n",
       "</div>"
      ],
      "text/plain": [
       "event_type                  view cart            purchase\n",
       "user_session                                             \n",
       "005wDfXQrv   2020-11-06 04:40:04  NaT 2020-11-06 04:40:50\n",
       "02N2rUZOAe   2020-10-10 12:45:04  NaT 2020-10-10 12:59:57\n",
       "0AxRBHYjov   2020-12-19 09:20:05  NaT 2020-12-19 09:10:59\n",
       "0Ivxve1T4M   2020-10-03 15:57:55  NaT 2020-10-03 16:00:19\n",
       "0TzN6Y5q8A   2020-10-23 06:24:04  NaT 2020-10-23 06:37:17\n",
       "...                          ...  ...                 ...\n",
       "zRWedIZeaN   2020-10-15 16:26:10  NaT 2020-11-07 18:38:33\n",
       "zXXvCQo00H   2020-11-27 05:19:14  NaT 2020-11-27 05:24:14\n",
       "ziHsiqYtEr   2020-11-09 15:17:32  NaT 2020-11-09 16:46:35\n",
       "zo4aXNzR5M   2020-11-25 17:07:16  NaT 2020-11-25 17:04:01\n",
       "zs55HsPlel   2020-12-18 04:35:10  NaT 2020-12-18 04:35:41\n",
       "\n",
       "[724 rows x 3 columns]"
      ]
     },
     "execution_count": 17,
     "metadata": {},
     "output_type": "execute_result"
    }
   ],
   "source": [
    "# cart 없이 view와 purchase한 경우 확인\n",
    "pivot_data[(pivot_data['purchase'].isnull() == False) & (pivot_data['view'].isnull() == False) & (pivot_data['cart'].isnull() == True)]"
   ]
  },
  {
   "cell_type": "code",
   "execution_count": 18,
   "id": "22bc5ae4",
   "metadata": {
    "colab": {
     "base_uri": "https://localhost:8080/",
     "height": 455
    },
    "executionInfo": {
     "elapsed": 3,
     "status": "ok",
     "timestamp": 1707827749832,
     "user": {
      "displayName": "Jeong Gyu Lee",
      "userId": "08214646354511941606"
     },
     "user_tz": -540
    },
    "id": "22bc5ae4",
    "outputId": "7492706f-7477-46e4-eb55-7cf267f949e3"
   },
   "outputs": [
    {
     "data": {
      "text/html": [
       "<div>\n",
       "<style scoped>\n",
       "    .dataframe tbody tr th:only-of-type {\n",
       "        vertical-align: middle;\n",
       "    }\n",
       "\n",
       "    .dataframe tbody tr th {\n",
       "        vertical-align: top;\n",
       "    }\n",
       "\n",
       "    .dataframe thead th {\n",
       "        text-align: right;\n",
       "    }\n",
       "</style>\n",
       "<table border=\"1\" class=\"dataframe\">\n",
       "  <thead>\n",
       "    <tr style=\"text-align: right;\">\n",
       "      <th>event_type</th>\n",
       "      <th>view</th>\n",
       "      <th>cart</th>\n",
       "      <th>purchase</th>\n",
       "    </tr>\n",
       "    <tr>\n",
       "      <th>user_session</th>\n",
       "      <th></th>\n",
       "      <th></th>\n",
       "      <th></th>\n",
       "    </tr>\n",
       "  </thead>\n",
       "  <tbody>\n",
       "    <tr>\n",
       "      <th>06vthDebl0</th>\n",
       "      <td>NaT</td>\n",
       "      <td>NaT</td>\n",
       "      <td>2020-11-29 01:07:53</td>\n",
       "    </tr>\n",
       "    <tr>\n",
       "      <th>08suCcfQTi</th>\n",
       "      <td>NaT</td>\n",
       "      <td>NaT</td>\n",
       "      <td>2020-12-03 17:36:00</td>\n",
       "    </tr>\n",
       "    <tr>\n",
       "      <th>0B36G01Fwq</th>\n",
       "      <td>NaT</td>\n",
       "      <td>NaT</td>\n",
       "      <td>2020-12-10 06:57:39</td>\n",
       "    </tr>\n",
       "    <tr>\n",
       "      <th>0CDV6gnYDa</th>\n",
       "      <td>NaT</td>\n",
       "      <td>NaT</td>\n",
       "      <td>2020-10-28 09:16:30</td>\n",
       "    </tr>\n",
       "    <tr>\n",
       "      <th>0D8xxqmO64</th>\n",
       "      <td>NaT</td>\n",
       "      <td>NaT</td>\n",
       "      <td>2020-11-29 23:04:42</td>\n",
       "    </tr>\n",
       "    <tr>\n",
       "      <th>...</th>\n",
       "      <td>...</td>\n",
       "      <td>...</td>\n",
       "      <td>...</td>\n",
       "    </tr>\n",
       "    <tr>\n",
       "      <th>zZpdo1XMoX</th>\n",
       "      <td>NaT</td>\n",
       "      <td>NaT</td>\n",
       "      <td>2020-10-07 09:12:07</td>\n",
       "    </tr>\n",
       "    <tr>\n",
       "      <th>zeRYCDj209</th>\n",
       "      <td>NaT</td>\n",
       "      <td>NaT</td>\n",
       "      <td>2020-10-30 06:37:27</td>\n",
       "    </tr>\n",
       "    <tr>\n",
       "      <th>zeeBwyAOCG</th>\n",
       "      <td>NaT</td>\n",
       "      <td>NaT</td>\n",
       "      <td>2020-12-19 11:55:51</td>\n",
       "    </tr>\n",
       "    <tr>\n",
       "      <th>zgbb6Sph4R</th>\n",
       "      <td>NaT</td>\n",
       "      <td>NaT</td>\n",
       "      <td>2020-10-27 16:25:33</td>\n",
       "    </tr>\n",
       "    <tr>\n",
       "      <th>zkZqKpQZIY</th>\n",
       "      <td>NaT</td>\n",
       "      <td>NaT</td>\n",
       "      <td>2020-10-23 12:31:13</td>\n",
       "    </tr>\n",
       "  </tbody>\n",
       "</table>\n",
       "<p>1038 rows × 3 columns</p>\n",
       "</div>"
      ],
      "text/plain": [
       "event_type   view cart            purchase\n",
       "user_session                              \n",
       "06vthDebl0    NaT  NaT 2020-11-29 01:07:53\n",
       "08suCcfQTi    NaT  NaT 2020-12-03 17:36:00\n",
       "0B36G01Fwq    NaT  NaT 2020-12-10 06:57:39\n",
       "0CDV6gnYDa    NaT  NaT 2020-10-28 09:16:30\n",
       "0D8xxqmO64    NaT  NaT 2020-11-29 23:04:42\n",
       "...           ...  ...                 ...\n",
       "zZpdo1XMoX    NaT  NaT 2020-10-07 09:12:07\n",
       "zeRYCDj209    NaT  NaT 2020-10-30 06:37:27\n",
       "zeeBwyAOCG    NaT  NaT 2020-12-19 11:55:51\n",
       "zgbb6Sph4R    NaT  NaT 2020-10-27 16:25:33\n",
       "zkZqKpQZIY    NaT  NaT 2020-10-23 12:31:13\n",
       "\n",
       "[1038 rows x 3 columns]"
      ]
     },
     "execution_count": 18,
     "metadata": {},
     "output_type": "execute_result"
    }
   ],
   "source": [
    "# view와 cart 없이 purchase한 경우 확인\n",
    "pivot_data[(pivot_data['purchase'].isnull() == False) & (pivot_data['view'].isnull() == True) & (pivot_data['cart'].isnull() == True)]"
   ]
  },
  {
   "cell_type": "code",
   "execution_count": 19,
   "id": "a879283a",
   "metadata": {
    "colab": {
     "base_uri": "https://localhost:8080/",
     "height": 455
    },
    "executionInfo": {
     "elapsed": 4,
     "status": "ok",
     "timestamp": 1707827750853,
     "user": {
      "displayName": "Jeong Gyu Lee",
      "userId": "08214646354511941606"
     },
     "user_tz": -540
    },
    "id": "a879283a",
    "outputId": "d9702bce-f9cf-465f-a32c-14c19376ab7c"
   },
   "outputs": [
    {
     "data": {
      "text/html": [
       "<div>\n",
       "<style scoped>\n",
       "    .dataframe tbody tr th:only-of-type {\n",
       "        vertical-align: middle;\n",
       "    }\n",
       "\n",
       "    .dataframe tbody tr th {\n",
       "        vertical-align: top;\n",
       "    }\n",
       "\n",
       "    .dataframe thead th {\n",
       "        text-align: right;\n",
       "    }\n",
       "</style>\n",
       "<table border=\"1\" class=\"dataframe\">\n",
       "  <thead>\n",
       "    <tr style=\"text-align: right;\">\n",
       "      <th>event_type</th>\n",
       "      <th>view</th>\n",
       "      <th>cart</th>\n",
       "      <th>purchase</th>\n",
       "    </tr>\n",
       "    <tr>\n",
       "      <th>user_session</th>\n",
       "      <th></th>\n",
       "      <th></th>\n",
       "      <th></th>\n",
       "    </tr>\n",
       "  </thead>\n",
       "  <tbody>\n",
       "    <tr>\n",
       "      <th>qkZG0pW1kp</th>\n",
       "      <td>NaT</td>\n",
       "      <td>NaT</td>\n",
       "      <td>2020-09-24 12:48:11</td>\n",
       "    </tr>\n",
       "    <tr>\n",
       "      <th>7DGcRi1GB8</th>\n",
       "      <td>NaT</td>\n",
       "      <td>2020-09-24 12:50:00</td>\n",
       "      <td>2020-09-24 12:50:55</td>\n",
       "    </tr>\n",
       "    <tr>\n",
       "      <th>da24222b-b213-4d89-8a7f-dde741bf9cd5</th>\n",
       "      <td>NaT</td>\n",
       "      <td>NaT</td>\n",
       "      <td>2020-09-24 13:19:23</td>\n",
       "    </tr>\n",
       "    <tr>\n",
       "      <th>ahwj2FCrvS</th>\n",
       "      <td>NaT</td>\n",
       "      <td>NaT</td>\n",
       "      <td>2020-09-24 13:46:02</td>\n",
       "    </tr>\n",
       "    <tr>\n",
       "      <th>xgVL1EKFok</th>\n",
       "      <td>NaT</td>\n",
       "      <td>NaT</td>\n",
       "      <td>2020-09-24 17:18:48</td>\n",
       "    </tr>\n",
       "    <tr>\n",
       "      <th>...</th>\n",
       "      <td>...</td>\n",
       "      <td>...</td>\n",
       "      <td>...</td>\n",
       "    </tr>\n",
       "    <tr>\n",
       "      <th>b96P6AcnZH</th>\n",
       "      <td>NaT</td>\n",
       "      <td>NaT</td>\n",
       "      <td>2020-12-21 09:44:02</td>\n",
       "    </tr>\n",
       "    <tr>\n",
       "      <th>NEHeXhjqhT</th>\n",
       "      <td>NaT</td>\n",
       "      <td>NaT</td>\n",
       "      <td>2020-12-21 10:11:24</td>\n",
       "    </tr>\n",
       "    <tr>\n",
       "      <th>vMGykwCB3K</th>\n",
       "      <td>NaT</td>\n",
       "      <td>NaT</td>\n",
       "      <td>2020-12-21 13:42:21</td>\n",
       "    </tr>\n",
       "    <tr>\n",
       "      <th>Lk93nMkC1z</th>\n",
       "      <td>NaT</td>\n",
       "      <td>NaT</td>\n",
       "      <td>2020-12-21 14:22:06</td>\n",
       "    </tr>\n",
       "    <tr>\n",
       "      <th>9ht2BuIdDK</th>\n",
       "      <td>NaT</td>\n",
       "      <td>NaT</td>\n",
       "      <td>2020-12-21 19:34:24</td>\n",
       "    </tr>\n",
       "  </tbody>\n",
       "</table>\n",
       "<p>1043 rows × 3 columns</p>\n",
       "</div>"
      ],
      "text/plain": [
       "event_type                           view                cart  \\\n",
       "user_session                                                    \n",
       "qkZG0pW1kp                            NaT                 NaT   \n",
       "7DGcRi1GB8                            NaT 2020-09-24 12:50:00   \n",
       "da24222b-b213-4d89-8a7f-dde741bf9cd5  NaT                 NaT   \n",
       "ahwj2FCrvS                            NaT                 NaT   \n",
       "xgVL1EKFok                            NaT                 NaT   \n",
       "...                                   ...                 ...   \n",
       "b96P6AcnZH                            NaT                 NaT   \n",
       "NEHeXhjqhT                            NaT                 NaT   \n",
       "vMGykwCB3K                            NaT                 NaT   \n",
       "Lk93nMkC1z                            NaT                 NaT   \n",
       "9ht2BuIdDK                            NaT                 NaT   \n",
       "\n",
       "event_type                                      purchase  \n",
       "user_session                                              \n",
       "qkZG0pW1kp                           2020-09-24 12:48:11  \n",
       "7DGcRi1GB8                           2020-09-24 12:50:55  \n",
       "da24222b-b213-4d89-8a7f-dde741bf9cd5 2020-09-24 13:19:23  \n",
       "ahwj2FCrvS                           2020-09-24 13:46:02  \n",
       "xgVL1EKFok                           2020-09-24 17:18:48  \n",
       "...                                                  ...  \n",
       "b96P6AcnZH                           2020-12-21 09:44:02  \n",
       "NEHeXhjqhT                           2020-12-21 10:11:24  \n",
       "vMGykwCB3K                           2020-12-21 13:42:21  \n",
       "Lk93nMkC1z                           2020-12-21 14:22:06  \n",
       "9ht2BuIdDK                           2020-12-21 19:34:24  \n",
       "\n",
       "[1043 rows x 3 columns]"
      ]
     },
     "execution_count": 19,
     "metadata": {},
     "output_type": "execute_result"
    }
   ],
   "source": [
    "# view없이 purchase만 한 경우 확인\n",
    "no_view = pivot_data[(pivot_data['purchase'].isnull() == False) & (pivot_data['view'].isnull() == True)]\n",
    "no_view.sort_values(by = \"purchase\")"
   ]
  },
  {
   "cell_type": "code",
   "execution_count": 20,
   "id": "43a6717f",
   "metadata": {
    "colab": {
     "base_uri": "https://localhost:8080/"
    },
    "executionInfo": {
     "elapsed": 7766,
     "status": "ok",
     "timestamp": 1707827760767,
     "user": {
      "displayName": "Jeong Gyu Lee",
      "userId": "08214646354511941606"
     },
     "user_tz": -540
    },
    "id": "43a6717f",
    "outputId": "1f0c910b-cd87-488d-a799-54422656785e"
   },
   "outputs": [
    {
     "name": "stdout",
     "output_type": "stream",
     "text": [
      "Requirement already satisfied: matplotlib-venn in c:\\programdata\\anaconda3\\lib\\site-packages (0.11.10)\n",
      "Requirement already satisfied: matplotlib in c:\\programdata\\anaconda3\\lib\\site-packages (from matplotlib-venn) (3.7.2)\n",
      "Requirement already satisfied: numpy in c:\\programdata\\anaconda3\\lib\\site-packages (from matplotlib-venn) (1.24.3)\n",
      "Requirement already satisfied: scipy in c:\\programdata\\anaconda3\\lib\\site-packages (from matplotlib-venn) (1.11.1)\n",
      "Requirement already satisfied: contourpy>=1.0.1 in c:\\programdata\\anaconda3\\lib\\site-packages (from matplotlib->matplotlib-venn) (1.0.5)\n",
      "Requirement already satisfied: cycler>=0.10 in c:\\programdata\\anaconda3\\lib\\site-packages (from matplotlib->matplotlib-venn) (0.11.0)\n",
      "Requirement already satisfied: fonttools>=4.22.0 in c:\\programdata\\anaconda3\\lib\\site-packages (from matplotlib->matplotlib-venn) (4.25.0)\n",
      "Requirement already satisfied: kiwisolver>=1.0.1 in c:\\programdata\\anaconda3\\lib\\site-packages (from matplotlib->matplotlib-venn) (1.4.4)\n",
      "Requirement already satisfied: packaging>=20.0 in c:\\programdata\\anaconda3\\lib\\site-packages (from matplotlib->matplotlib-venn) (23.1)\n",
      "Requirement already satisfied: pillow>=6.2.0 in c:\\programdata\\anaconda3\\lib\\site-packages (from matplotlib->matplotlib-venn) (10.2.0)\n",
      "Requirement already satisfied: pyparsing<3.1,>=2.3.1 in c:\\programdata\\anaconda3\\lib\\site-packages (from matplotlib->matplotlib-venn) (3.0.9)\n",
      "Requirement already satisfied: python-dateutil>=2.7 in c:\\programdata\\anaconda3\\lib\\site-packages (from matplotlib->matplotlib-venn) (2.8.2)\n",
      "Requirement already satisfied: six>=1.5 in c:\\programdata\\anaconda3\\lib\\site-packages (from python-dateutil>=2.7->matplotlib->matplotlib-venn) (1.16.0)\n",
      "Note: you may need to restart the kernel to use updated packages.\n"
     ]
    }
   ],
   "source": [
    "pip install matplotlib-venn"
   ]
  },
  {
   "cell_type": "code",
   "execution_count": 21,
   "id": "ac98f219",
   "metadata": {
    "executionInfo": {
     "elapsed": 819,
     "status": "ok",
     "timestamp": 1707827761577,
     "user": {
      "displayName": "Jeong Gyu Lee",
      "userId": "08214646354511941606"
     },
     "user_tz": -540
    },
    "id": "ac98f219"
   },
   "outputs": [],
   "source": [
    "from matplotlib import pyplot as plt\n",
    "from matplotlib_venn import venn3, venn3_unweighted\n",
    "import seaborn as sns"
   ]
  },
  {
   "cell_type": "code",
   "execution_count": 22,
   "id": "58e14533",
   "metadata": {
    "executionInfo": {
     "elapsed": 102224,
     "status": "ok",
     "timestamp": 1707827871327,
     "user": {
      "displayName": "Jeong Gyu Lee",
      "userId": "08214646354511941606"
     },
     "user_tz": -540
    },
    "id": "58e14533"
   },
   "outputs": [],
   "source": [
    "set_data = pivot_data.reset_index()\n",
    "\n",
    "set_view = set()\n",
    "set_cart = set()\n",
    "set_purchase = set()\n",
    "\n",
    "for i in range(len(set_data.index)):\n",
    "    temp = set_data.loc[i].isnull()[1:4] # timestamp data 제외\n",
    "    if temp[0] == False:\n",
    "        set_view.add(i)\n",
    "    else:\n",
    "        pass\n",
    "    if temp[1] == False:\n",
    "        set_cart.add(i)\n",
    "    else:\n",
    "        pass\n",
    "    if temp[2] == False:\n",
    "        set_purchase.add(i)\n",
    "    else:\n",
    "        pass"
   ]
  },
  {
   "cell_type": "code",
   "execution_count": 23,
   "id": "1743f6a3",
   "metadata": {
    "colab": {
     "base_uri": "https://localhost:8080/",
     "height": 840
    },
    "executionInfo": {
     "elapsed": 476,
     "status": "ok",
     "timestamp": 1707828034954,
     "user": {
      "displayName": "Jeong Gyu Lee",
      "userId": "08214646354511941606"
     },
     "user_tz": -540
    },
    "id": "1743f6a3",
    "outputId": "94c7e5cb-a0ec-4a6f-84f3-f702b82a6379"
   },
   "outputs": [
    {
     "data": {
      "image/png": "[encoded data removed]",
      "text/plain": [
       "<Figure size 1000x1000 with 1 Axes>"
      ]
     },
     "metadata": {},
     "output_type": "display_data"
    }
   ],
   "source": [
    "plt.rcdefaults()\n",
    "\n",
    "fig = plt.figure(figsize = (10, 10))\n",
    "venn3_unweighted([set_view, set_cart, set_purchase], ('view', 'cart', 'purchase'), alpha = 0.3)\n",
    "plt.title('Venn Diagram for the Funnels', fontsize = 40)\n",
    "\n",
    "# venn3.set_venn3_labels(('view', 'cart', 'purchase'), fontsize=40, color='teal')\n",
    "\n",
    "plt.rc('font', size = 20)\n",
    "# plt.rc('face', color = 'teal')\n",
    "\n",
    "plt.show();"
   ]
  },
  {
   "cell_type": "markdown",
   "id": "8b595aa8",
   "metadata": {
    "id": "8b595aa8"
   },
   "source": [
    "# 시계열 데이터 전처리\n",
    "- 궁극적인 핵심 지표로 볼 수 있는 view 대비 purchase 전환율을 대상으로 함\n",
    "- 이상치 관련\n",
    "    - 추세 및 계절성이라는 시계열 데이터 자체의 특성을 고려할때 일반적 관측치 데이터에서는 측정되지 않는 이상치를 갖으며, 이상치의 구체적인 원인을 모르는 상태이므로 분석에서 제외 또는 다른 값으로 대체하지 않기로 한다."
   ]
  },
  {
   "cell_type": "code",
   "execution_count": 24,
   "id": "0debc50e",
   "metadata": {
    "executionInfo": {
     "elapsed": 1162,
     "status": "ok",
     "timestamp": 1707828050727,
     "user": {
      "displayName": "Jeong Gyu Lee",
      "userId": "08214646354511941606"
     },
     "user_tz": -540
    },
    "id": "0debc50e"
   },
   "outputs": [],
   "source": [
    "import pandas as pd\n",
    "import numpy as np\n",
    "import matplotlib.pyplot as plt\n",
    "import seaborn as sns\n",
    "import time\n",
    "import statsmodels.api as sm\n",
    "import statsmodels.formula.api as smf"
   ]
  },
  {
   "cell_type": "markdown",
   "id": "95f46f86",
   "metadata": {
    "id": "95f46f86"
   },
   "source": [
    "## cart 데이터 삭제"
   ]
  },
  {
   "cell_type": "markdown",
   "id": "090f441a",
   "metadata": {
    "id": "090f441a"
   },
   "source": [
    "- cart 데이터 삭제 시 아래와 같이 view, purchase없이 cart만 유효한 데이터가 존재하므로 해당 데이터는 제외하기로 한다."
   ]
  },
  {
   "cell_type": "code",
   "execution_count": 25,
   "id": "85744b8f",
   "metadata": {
    "colab": {
     "base_uri": "https://localhost:8080/",
     "height": 144
    },
    "executionInfo": {
     "elapsed": 348,
     "status": "ok",
     "timestamp": 1707828067470,
     "user": {
      "displayName": "Jeong Gyu Lee",
      "userId": "08214646354511941606"
     },
     "user_tz": -540
    },
    "id": "85744b8f",
    "outputId": "ec0a9d89-99cb-4910-a9e2-85398c442ccb"
   },
   "outputs": [
    {
     "data": {
      "text/html": [
       "<div>\n",
       "<style scoped>\n",
       "    .dataframe tbody tr th:only-of-type {\n",
       "        vertical-align: middle;\n",
       "    }\n",
       "\n",
       "    .dataframe tbody tr th {\n",
       "        vertical-align: top;\n",
       "    }\n",
       "\n",
       "    .dataframe thead th {\n",
       "        text-align: right;\n",
       "    }\n",
       "</style>\n",
       "<table border=\"1\" class=\"dataframe\">\n",
       "  <thead>\n",
       "    <tr style=\"text-align: right;\">\n",
       "      <th>event_type</th>\n",
       "      <th>view</th>\n",
       "      <th>purchase</th>\n",
       "    </tr>\n",
       "    <tr>\n",
       "      <th>user_session</th>\n",
       "      <th></th>\n",
       "      <th></th>\n",
       "    </tr>\n",
       "  </thead>\n",
       "  <tbody>\n",
       "    <tr>\n",
       "      <th>9qLvqjsREl</th>\n",
       "      <td>NaT</td>\n",
       "      <td>NaT</td>\n",
       "    </tr>\n",
       "    <tr>\n",
       "      <th>Zs6hOTQ516</th>\n",
       "      <td>NaT</td>\n",
       "      <td>NaT</td>\n",
       "    </tr>\n",
       "  </tbody>\n",
       "</table>\n",
       "</div>"
      ],
      "text/plain": [
       "event_type   view purchase\n",
       "user_session              \n",
       "9qLvqjsREl    NaT      NaT\n",
       "Zs6hOTQ516    NaT      NaT"
      ]
     },
     "execution_count": 25,
     "metadata": {},
     "output_type": "execute_result"
    }
   ],
   "source": [
    "temp_reset_data = pivot_data.drop(['cart'], axis = 1)\n",
    "drop_data = temp_reset_data[(temp_reset_data[\"view\"].notnull() == False) & (temp_reset_data[\"purchase\"].notnull() == False)]\n",
    "drop_data"
   ]
  },
  {
   "cell_type": "markdown",
   "id": "ced4ab5a",
   "metadata": {
    "id": "ced4ab5a"
   },
   "source": [
    "- 확인 결과 cart만 유효한 데이터가 제외된 것을 알 수 있다."
   ]
  },
  {
   "cell_type": "code",
   "execution_count": 26,
   "id": "f01aa64b",
   "metadata": {
    "colab": {
     "base_uri": "https://localhost:8080/",
     "height": 81
    },
    "executionInfo": {
     "elapsed": 319,
     "status": "ok",
     "timestamp": 1707828073105,
     "user": {
      "displayName": "Jeong Gyu Lee",
      "userId": "08214646354511941606"
     },
     "user_tz": -540
    },
    "id": "f01aa64b",
    "outputId": "9c74b103-1752-40ec-e169-49b76f300f38"
   },
   "outputs": [
    {
     "data": {
      "text/html": [
       "<div>\n",
       "<style scoped>\n",
       "    .dataframe tbody tr th:only-of-type {\n",
       "        vertical-align: middle;\n",
       "    }\n",
       "\n",
       "    .dataframe tbody tr th {\n",
       "        vertical-align: top;\n",
       "    }\n",
       "\n",
       "    .dataframe thead th {\n",
       "        text-align: right;\n",
       "    }\n",
       "</style>\n",
       "<table border=\"1\" class=\"dataframe\">\n",
       "  <thead>\n",
       "    <tr style=\"text-align: right;\">\n",
       "      <th>event_type</th>\n",
       "      <th>view</th>\n",
       "      <th>purchase</th>\n",
       "    </tr>\n",
       "    <tr>\n",
       "      <th>user_session</th>\n",
       "      <th></th>\n",
       "      <th></th>\n",
       "    </tr>\n",
       "  </thead>\n",
       "  <tbody>\n",
       "  </tbody>\n",
       "</table>\n",
       "</div>"
      ],
      "text/plain": [
       "Empty DataFrame\n",
       "Columns: [view, purchase]\n",
       "Index: []"
      ]
     },
     "execution_count": 26,
     "metadata": {},
     "output_type": "execute_result"
    }
   ],
   "source": [
    "reset_data = temp_reset_data.drop(drop_data.index)\n",
    "reset_data[(reset_data[\"view\"].notnull() == False) & (reset_data[\"purchase\"].notnull() == False)]"
   ]
  },
  {
   "cell_type": "markdown",
   "id": "02b3467c",
   "metadata": {
    "id": "02b3467c"
   },
   "source": [
    "## 결측치 처리 및 일별 전환율 계산(1)"
   ]
  },
  {
   "cell_type": "markdown",
   "id": "N7Gh4tg_c81s",
   "metadata": {
    "id": "N7Gh4tg_c81s"
   },
   "source": [
    "### 날짜데이터 확인\n",
    "- view 날짜와 purchase 날짜 비교"
   ]
  },
  {
   "cell_type": "code",
   "execution_count": 27,
   "id": "d7bfcaae",
   "metadata": {
    "colab": {
     "base_uri": "https://localhost:8080/",
     "height": 424
    },
    "executionInfo": {
     "elapsed": 976,
     "status": "ok",
     "timestamp": 1707828077255,
     "user": {
      "displayName": "Jeong Gyu Lee",
      "userId": "08214646354511941606"
     },
     "user_tz": -540
    },
    "id": "d7bfcaae",
    "outputId": "48e4a698-832b-44e0-e5e6-cc6d4aaa53ae"
   },
   "outputs": [
    {
     "data": {
      "text/html": [
       "<div>\n",
       "<style scoped>\n",
       "    .dataframe tbody tr th:only-of-type {\n",
       "        vertical-align: middle;\n",
       "    }\n",
       "\n",
       "    .dataframe tbody tr th {\n",
       "        vertical-align: top;\n",
       "    }\n",
       "\n",
       "    .dataframe thead th {\n",
       "        text-align: right;\n",
       "    }\n",
       "</style>\n",
       "<table border=\"1\" class=\"dataframe\">\n",
       "  <thead>\n",
       "    <tr style=\"text-align: right;\">\n",
       "      <th></th>\n",
       "      <th>session</th>\n",
       "      <th>view</th>\n",
       "      <th>purchase</th>\n",
       "      <th>comparison</th>\n",
       "    </tr>\n",
       "  </thead>\n",
       "  <tbody>\n",
       "    <tr>\n",
       "      <th>0</th>\n",
       "      <td>000c34fa-991f-442a-8e07-8c472269bec6</td>\n",
       "      <td>2020-09-30</td>\n",
       "      <td>NaN</td>\n",
       "      <td>False</td>\n",
       "    </tr>\n",
       "    <tr>\n",
       "      <th>1</th>\n",
       "      <td>001P7lK0Pt</td>\n",
       "      <td>2020-11-06</td>\n",
       "      <td>NaN</td>\n",
       "      <td>False</td>\n",
       "    </tr>\n",
       "    <tr>\n",
       "      <th>2</th>\n",
       "      <td>002DmERG1w</td>\n",
       "      <td>2020-09-26</td>\n",
       "      <td>NaN</td>\n",
       "      <td>False</td>\n",
       "    </tr>\n",
       "    <tr>\n",
       "      <th>3</th>\n",
       "      <td>003QqC0jk0</td>\n",
       "      <td>2020-10-25</td>\n",
       "      <td>NaN</td>\n",
       "      <td>False</td>\n",
       "    </tr>\n",
       "    <tr>\n",
       "      <th>4</th>\n",
       "      <td>003pEktS1X</td>\n",
       "      <td>2020-11-02</td>\n",
       "      <td>NaN</td>\n",
       "      <td>False</td>\n",
       "    </tr>\n",
       "    <tr>\n",
       "      <th>...</th>\n",
       "      <td>...</td>\n",
       "      <td>...</td>\n",
       "      <td>...</td>\n",
       "      <td>...</td>\n",
       "    </tr>\n",
       "    <tr>\n",
       "      <th>278513</th>\n",
       "      <td>zztce59nU2</td>\n",
       "      <td>2020-10-29</td>\n",
       "      <td>NaN</td>\n",
       "      <td>False</td>\n",
       "    </tr>\n",
       "    <tr>\n",
       "      <th>278514</th>\n",
       "      <td>zztjHPLepJ</td>\n",
       "      <td>2020-11-14</td>\n",
       "      <td>NaN</td>\n",
       "      <td>False</td>\n",
       "    </tr>\n",
       "    <tr>\n",
       "      <th>278515</th>\n",
       "      <td>zzvjiUwHhM</td>\n",
       "      <td>2020-12-18</td>\n",
       "      <td>NaN</td>\n",
       "      <td>False</td>\n",
       "    </tr>\n",
       "    <tr>\n",
       "      <th>278516</th>\n",
       "      <td>zzxnA0nWEY</td>\n",
       "      <td>2020-11-17</td>\n",
       "      <td>NaN</td>\n",
       "      <td>False</td>\n",
       "    </tr>\n",
       "    <tr>\n",
       "      <th>278517</th>\n",
       "      <td>zzy0qXtxYX</td>\n",
       "      <td>2020-11-08</td>\n",
       "      <td>NaN</td>\n",
       "      <td>False</td>\n",
       "    </tr>\n",
       "  </tbody>\n",
       "</table>\n",
       "<p>278518 rows × 4 columns</p>\n",
       "</div>"
      ],
      "text/plain": [
       "                                     session        view purchase  comparison\n",
       "0       000c34fa-991f-442a-8e07-8c472269bec6  2020-09-30      NaN       False\n",
       "1                                 001P7lK0Pt  2020-11-06      NaN       False\n",
       "2                                 002DmERG1w  2020-09-26      NaN       False\n",
       "3                                 003QqC0jk0  2020-10-25      NaN       False\n",
       "4                                 003pEktS1X  2020-11-02      NaN       False\n",
       "...                                      ...         ...      ...         ...\n",
       "278513                            zztce59nU2  2020-10-29      NaN       False\n",
       "278514                            zztjHPLepJ  2020-11-14      NaN       False\n",
       "278515                            zzvjiUwHhM  2020-12-18      NaN       False\n",
       "278516                            zzxnA0nWEY  2020-11-17      NaN       False\n",
       "278517                            zzy0qXtxYX  2020-11-08      NaN       False\n",
       "\n",
       "[278518 rows x 4 columns]"
      ]
     },
     "execution_count": 27,
     "metadata": {},
     "output_type": "execute_result"
    }
   ],
   "source": [
    "# 날짜 형식 변경\n",
    "session_values = reset_data.index\n",
    "view_values = pd.to_datetime(reset_data['view'].values)\n",
    "purchase_values = pd.to_datetime(reset_data['purchase'].values)\n",
    "\n",
    "\n",
    "def extract_date(date):\n",
    "    return date.strftime('%Y-%m-%d')\n",
    "\n",
    "# dates_only = dates.apply(extract_date)\n",
    "\n",
    "view_values = extract_date(view_values)\n",
    "purchase_values = extract_date(purchase_values)\n",
    "\n",
    "date_data = pd.DataFrame({\"session\" : session_values, \"view\" : view_values, \"purchase\" : purchase_values})\n",
    "date_data['comparison'] = (date_data['view'] == date_data['purchase'])\n",
    "date_data"
   ]
  },
  {
   "cell_type": "markdown",
   "id": "b2d188ae",
   "metadata": {
    "id": "b2d188ae"
   },
   "source": [
    "- 아래와 같이 동일한 session에 대해 vew → purchase까지 이틀 이상이 소요되는 경우가 583개 존재\n",
    "- 아래의 데이터에 한해서는 view의 경우 전환되지 않은것으로 판단하고 purchase의 경우 전환된 것으로 판단하여 분리할 필요가 있음\n",
    "- online store를 운영하는 주체의 입장에서는 어차피 동일한 user가 여러개의 session으로 나뉠 수 있다는 점을 고려할 때 동일한 session을 분리하는 것은 크게 문제되지 않다고 판단했으며 일별 데이터를 구하기 위해서는 분리의 필요성이 어느정도 정당하다고 판단\n",
    "- **따라서 아래와 같이 purchase까지 이틀 이상이 소요된 session에 대해 1. purchase 데이터를 NaN값 처리한 view 데이터셋과 2. purchase 데이터의 날짜를 view 데이터의 날짜에 대체하여 동일한 날짜에 purchase가 진행된 데이터셋을 구분한 후 통합 데이터셋에 합치기로 한다.**"
   ]
  },
  {
   "cell_type": "code",
   "execution_count": 28,
   "id": "47ad45e4",
   "metadata": {
    "colab": {
     "base_uri": "https://localhost:8080/",
     "height": 424
    },
    "executionInfo": {
     "elapsed": 486,
     "status": "ok",
     "timestamp": 1707828080524,
     "user": {
      "displayName": "Jeong Gyu Lee",
      "userId": "08214646354511941606"
     },
     "user_tz": -540
    },
    "id": "47ad45e4",
    "outputId": "1f6921b4-e2bd-4050-cde5-5e49db9d41f3"
   },
   "outputs": [
    {
     "data": {
      "text/html": [
       "<div>\n",
       "<style scoped>\n",
       "    .dataframe tbody tr th:only-of-type {\n",
       "        vertical-align: middle;\n",
       "    }\n",
       "\n",
       "    .dataframe tbody tr th {\n",
       "        vertical-align: top;\n",
       "    }\n",
       "\n",
       "    .dataframe thead th {\n",
       "        text-align: right;\n",
       "    }\n",
       "</style>\n",
       "<table border=\"1\" class=\"dataframe\">\n",
       "  <thead>\n",
       "    <tr style=\"text-align: right;\">\n",
       "      <th></th>\n",
       "      <th>session</th>\n",
       "      <th>view</th>\n",
       "      <th>purchase</th>\n",
       "      <th>comparison</th>\n",
       "    </tr>\n",
       "  </thead>\n",
       "  <tbody>\n",
       "    <tr>\n",
       "      <th>1160</th>\n",
       "      <td>0FFITqma8A</td>\n",
       "      <td>2020-11-03</td>\n",
       "      <td>2020-11-05</td>\n",
       "      <td>False</td>\n",
       "    </tr>\n",
       "    <tr>\n",
       "      <th>1848</th>\n",
       "      <td>0OOE33RvrM</td>\n",
       "      <td>2020-11-19</td>\n",
       "      <td>2020-11-20</td>\n",
       "      <td>False</td>\n",
       "    </tr>\n",
       "    <tr>\n",
       "      <th>1849</th>\n",
       "      <td>0OPUhBAlw2</td>\n",
       "      <td>2020-10-10</td>\n",
       "      <td>2020-10-11</td>\n",
       "      <td>False</td>\n",
       "    </tr>\n",
       "    <tr>\n",
       "      <th>1939</th>\n",
       "      <td>0Piw70g3qf</td>\n",
       "      <td>2020-10-10</td>\n",
       "      <td>2020-10-11</td>\n",
       "      <td>False</td>\n",
       "    </tr>\n",
       "    <tr>\n",
       "      <th>2334</th>\n",
       "      <td>0UptbZBBLy</td>\n",
       "      <td>2020-10-20</td>\n",
       "      <td>2020-10-19</td>\n",
       "      <td>False</td>\n",
       "    </tr>\n",
       "    <tr>\n",
       "      <th>...</th>\n",
       "      <td>...</td>\n",
       "      <td>...</td>\n",
       "      <td>...</td>\n",
       "      <td>...</td>\n",
       "    </tr>\n",
       "    <tr>\n",
       "      <th>276053</th>\n",
       "      <td>zRWedIZeaN</td>\n",
       "      <td>2020-10-15</td>\n",
       "      <td>2020-11-07</td>\n",
       "      <td>False</td>\n",
       "    </tr>\n",
       "    <tr>\n",
       "      <th>276088</th>\n",
       "      <td>zS4jgPciUX</td>\n",
       "      <td>2020-11-30</td>\n",
       "      <td>2020-12-03</td>\n",
       "      <td>False</td>\n",
       "    </tr>\n",
       "    <tr>\n",
       "      <th>276276</th>\n",
       "      <td>zUphWXWbWV</td>\n",
       "      <td>2020-10-15</td>\n",
       "      <td>2020-10-16</td>\n",
       "      <td>False</td>\n",
       "    </tr>\n",
       "    <tr>\n",
       "      <th>277425</th>\n",
       "      <td>zkos5EldqB</td>\n",
       "      <td>2020-11-01</td>\n",
       "      <td>2020-11-02</td>\n",
       "      <td>False</td>\n",
       "    </tr>\n",
       "    <tr>\n",
       "      <th>278387</th>\n",
       "      <td>zyCwRFIila</td>\n",
       "      <td>2020-10-15</td>\n",
       "      <td>2020-11-01</td>\n",
       "      <td>False</td>\n",
       "    </tr>\n",
       "  </tbody>\n",
       "</table>\n",
       "<p>583 rows × 4 columns</p>\n",
       "</div>"
      ],
      "text/plain": [
       "           session        view    purchase  comparison\n",
       "1160    0FFITqma8A  2020-11-03  2020-11-05       False\n",
       "1848    0OOE33RvrM  2020-11-19  2020-11-20       False\n",
       "1849    0OPUhBAlw2  2020-10-10  2020-10-11       False\n",
       "1939    0Piw70g3qf  2020-10-10  2020-10-11       False\n",
       "2334    0UptbZBBLy  2020-10-20  2020-10-19       False\n",
       "...            ...         ...         ...         ...\n",
       "276053  zRWedIZeaN  2020-10-15  2020-11-07       False\n",
       "276088  zS4jgPciUX  2020-11-30  2020-12-03       False\n",
       "276276  zUphWXWbWV  2020-10-15  2020-10-16       False\n",
       "277425  zkos5EldqB  2020-11-01  2020-11-02       False\n",
       "278387  zyCwRFIila  2020-10-15  2020-11-01       False\n",
       "\n",
       "[583 rows x 4 columns]"
      ]
     },
     "execution_count": 28,
     "metadata": {},
     "output_type": "execute_result"
    }
   ],
   "source": [
    "temp_date_data = date_data[(date_data['comparison'] == False) & (date_data['view'].notnull() == True) & (date_data['purchase'].notnull() == True)]\n",
    "temp_date_data = temp_date_data\n",
    "temp_date_data"
   ]
  },
  {
   "cell_type": "code",
   "execution_count": 29,
   "id": "a91fa054",
   "metadata": {
    "colab": {
     "base_uri": "https://localhost:8080/",
     "height": 424
    },
    "executionInfo": {
     "elapsed": 753,
     "status": "ok",
     "timestamp": 1707828081684,
     "user": {
      "displayName": "Jeong Gyu Lee",
      "userId": "08214646354511941606"
     },
     "user_tz": -540
    },
    "id": "a91fa054",
    "outputId": "7d03a1b4-4bf9-4246-b656-2f16f94ccceb"
   },
   "outputs": [
    {
     "data": {
      "text/html": [
       "<div>\n",
       "<style scoped>\n",
       "    .dataframe tbody tr th:only-of-type {\n",
       "        vertical-align: middle;\n",
       "    }\n",
       "\n",
       "    .dataframe tbody tr th {\n",
       "        vertical-align: top;\n",
       "    }\n",
       "\n",
       "    .dataframe thead th {\n",
       "        text-align: right;\n",
       "    }\n",
       "</style>\n",
       "<table border=\"1\" class=\"dataframe\">\n",
       "  <thead>\n",
       "    <tr style=\"text-align: right;\">\n",
       "      <th></th>\n",
       "      <th>session</th>\n",
       "      <th>view</th>\n",
       "      <th>purchase</th>\n",
       "    </tr>\n",
       "  </thead>\n",
       "  <tbody>\n",
       "    <tr>\n",
       "      <th>0</th>\n",
       "      <td>000c34fa-991f-442a-8e07-8c472269bec6</td>\n",
       "      <td>2020-09-30</td>\n",
       "      <td>NaN</td>\n",
       "    </tr>\n",
       "    <tr>\n",
       "      <th>1</th>\n",
       "      <td>001P7lK0Pt</td>\n",
       "      <td>2020-11-06</td>\n",
       "      <td>NaN</td>\n",
       "    </tr>\n",
       "    <tr>\n",
       "      <th>2</th>\n",
       "      <td>002DmERG1w</td>\n",
       "      <td>2020-09-26</td>\n",
       "      <td>NaN</td>\n",
       "    </tr>\n",
       "    <tr>\n",
       "      <th>3</th>\n",
       "      <td>003QqC0jk0</td>\n",
       "      <td>2020-10-25</td>\n",
       "      <td>NaN</td>\n",
       "    </tr>\n",
       "    <tr>\n",
       "      <th>4</th>\n",
       "      <td>003pEktS1X</td>\n",
       "      <td>2020-11-02</td>\n",
       "      <td>NaN</td>\n",
       "    </tr>\n",
       "    <tr>\n",
       "      <th>...</th>\n",
       "      <td>...</td>\n",
       "      <td>...</td>\n",
       "      <td>...</td>\n",
       "    </tr>\n",
       "    <tr>\n",
       "      <th>279096</th>\n",
       "      <td>zRWedIZeaN</td>\n",
       "      <td>2020-11-07</td>\n",
       "      <td>2020-11-07</td>\n",
       "    </tr>\n",
       "    <tr>\n",
       "      <th>279097</th>\n",
       "      <td>zS4jgPciUX</td>\n",
       "      <td>2020-12-03</td>\n",
       "      <td>2020-12-03</td>\n",
       "    </tr>\n",
       "    <tr>\n",
       "      <th>279098</th>\n",
       "      <td>zUphWXWbWV</td>\n",
       "      <td>2020-10-16</td>\n",
       "      <td>2020-10-16</td>\n",
       "    </tr>\n",
       "    <tr>\n",
       "      <th>279099</th>\n",
       "      <td>zkos5EldqB</td>\n",
       "      <td>2020-11-02</td>\n",
       "      <td>2020-11-02</td>\n",
       "    </tr>\n",
       "    <tr>\n",
       "      <th>279100</th>\n",
       "      <td>zyCwRFIila</td>\n",
       "      <td>2020-11-01</td>\n",
       "      <td>2020-11-01</td>\n",
       "    </tr>\n",
       "  </tbody>\n",
       "</table>\n",
       "<p>279101 rows × 3 columns</p>\n",
       "</div>"
      ],
      "text/plain": [
       "                                     session        view    purchase\n",
       "0       000c34fa-991f-442a-8e07-8c472269bec6  2020-09-30         NaN\n",
       "1                                 001P7lK0Pt  2020-11-06         NaN\n",
       "2                                 002DmERG1w  2020-09-26         NaN\n",
       "3                                 003QqC0jk0  2020-10-25         NaN\n",
       "4                                 003pEktS1X  2020-11-02         NaN\n",
       "...                                      ...         ...         ...\n",
       "279096                            zRWedIZeaN  2020-11-07  2020-11-07\n",
       "279097                            zS4jgPciUX  2020-12-03  2020-12-03\n",
       "279098                            zUphWXWbWV  2020-10-16  2020-10-16\n",
       "279099                            zkos5EldqB  2020-11-02  2020-11-02\n",
       "279100                            zyCwRFIila  2020-11-01  2020-11-01\n",
       "\n",
       "[279101 rows x 3 columns]"
      ]
     },
     "execution_count": 29,
     "metadata": {},
     "output_type": "execute_result"
    }
   ],
   "source": [
    "# 기존 데이터셋에서 purchase까지 이틀 이상 소요되는 row 제거한 데이터셋 저장\n",
    "temp_date_data_index = temp_date_data.index\n",
    "date_data_copy = date_data.drop(temp_date_data_index).reset_index(drop = True)\n",
    "date_data_copy = date_data_copy.drop(\"comparison\", axis = 1)\n",
    "\n",
    "# purchase까지 이틀 이상 소요되는 데이터에 대해 purchase 데이터를 NaN값 처리한 데이터셋\n",
    "temp_nan = pd.DataFrame({\"purchase\" : [np.NaN] * 583})\n",
    "temp_view = temp_date_data.drop([\"purchase\", \"comparison\"], axis = 1)\n",
    "temp_view = temp_view.join(temp_nan)\n",
    "\n",
    "# purchase까지 이틀 이상 소요되는 데이터에 대해 purchase 날짜를 view 데이터에 입힌 데이터셋\n",
    "temp_purchase_date = pd.DataFrame({\"view\" : temp_date_data[\"purchase\"]})\n",
    "temp_purchase = temp_date_data.drop([\"view\", \"comparison\"], axis = 1)\n",
    "temp_purchase = temp_purchase_date.join(temp_purchase)\n",
    "\n",
    "# 최종 데이터셋\n",
    "funnel_data = pd.concat((date_data_copy, temp_view, temp_purchase), ignore_index = True, sort = False)\n",
    "funnel_data = funnel_data.reset_index(drop = True)\n",
    "funnel_data"
   ]
  },
  {
   "cell_type": "markdown",
   "id": "435ec431",
   "metadata": {
    "id": "435ec431"
   },
   "source": [
    "### 결측치 처리\n",
    "- purchase 했음에도 view가 결측치인 경우에 대한 처리"
   ]
  },
  {
   "cell_type": "code",
   "execution_count": 30,
   "id": "308d7251",
   "metadata": {
    "colab": {
     "base_uri": "https://localhost:8080/",
     "height": 424
    },
    "executionInfo": {
     "elapsed": 336,
     "status": "ok",
     "timestamp": 1707828085402,
     "user": {
      "displayName": "Jeong Gyu Lee",
      "userId": "08214646354511941606"
     },
     "user_tz": -540
    },
    "id": "308d7251",
    "outputId": "8b7b7374-04f9-450b-b9aa-cb260837f89f"
   },
   "outputs": [
    {
     "data": {
      "text/html": [
       "<div>\n",
       "<style scoped>\n",
       "    .dataframe tbody tr th:only-of-type {\n",
       "        vertical-align: middle;\n",
       "    }\n",
       "\n",
       "    .dataframe tbody tr th {\n",
       "        vertical-align: top;\n",
       "    }\n",
       "\n",
       "    .dataframe thead th {\n",
       "        text-align: right;\n",
       "    }\n",
       "</style>\n",
       "<table border=\"1\" class=\"dataframe\">\n",
       "  <thead>\n",
       "    <tr style=\"text-align: right;\">\n",
       "      <th></th>\n",
       "      <th>session</th>\n",
       "      <th>view</th>\n",
       "      <th>purchase</th>\n",
       "    </tr>\n",
       "  </thead>\n",
       "  <tbody>\n",
       "    <tr>\n",
       "      <th>523</th>\n",
       "      <td>06vthDebl0</td>\n",
       "      <td>NaN</td>\n",
       "      <td>2020-11-29</td>\n",
       "    </tr>\n",
       "    <tr>\n",
       "      <th>683</th>\n",
       "      <td>08suCcfQTi</td>\n",
       "      <td>NaN</td>\n",
       "      <td>2020-12-03</td>\n",
       "    </tr>\n",
       "    <tr>\n",
       "      <th>843</th>\n",
       "      <td>0B36G01Fwq</td>\n",
       "      <td>NaN</td>\n",
       "      <td>2020-12-10</td>\n",
       "    </tr>\n",
       "    <tr>\n",
       "      <th>920</th>\n",
       "      <td>0CDV6gnYDa</td>\n",
       "      <td>NaN</td>\n",
       "      <td>2020-10-28</td>\n",
       "    </tr>\n",
       "    <tr>\n",
       "      <th>986</th>\n",
       "      <td>0D8xxqmO64</td>\n",
       "      <td>NaN</td>\n",
       "      <td>2020-11-29</td>\n",
       "    </tr>\n",
       "    <tr>\n",
       "      <th>...</th>\n",
       "      <td>...</td>\n",
       "      <td>...</td>\n",
       "      <td>...</td>\n",
       "    </tr>\n",
       "    <tr>\n",
       "      <th>276045</th>\n",
       "      <td>zZpdo1XMoX</td>\n",
       "      <td>NaN</td>\n",
       "      <td>2020-10-07</td>\n",
       "    </tr>\n",
       "    <tr>\n",
       "      <th>276387</th>\n",
       "      <td>zeRYCDj209</td>\n",
       "      <td>NaN</td>\n",
       "      <td>2020-10-30</td>\n",
       "    </tr>\n",
       "    <tr>\n",
       "      <th>276403</th>\n",
       "      <td>zeeBwyAOCG</td>\n",
       "      <td>NaN</td>\n",
       "      <td>2020-12-19</td>\n",
       "    </tr>\n",
       "    <tr>\n",
       "      <th>276516</th>\n",
       "      <td>zgbb6Sph4R</td>\n",
       "      <td>NaN</td>\n",
       "      <td>2020-10-27</td>\n",
       "    </tr>\n",
       "    <tr>\n",
       "      <th>276824</th>\n",
       "      <td>zkZqKpQZIY</td>\n",
       "      <td>NaN</td>\n",
       "      <td>2020-10-23</td>\n",
       "    </tr>\n",
       "  </tbody>\n",
       "</table>\n",
       "<p>1043 rows × 3 columns</p>\n",
       "</div>"
      ],
      "text/plain": [
       "           session view    purchase\n",
       "523     06vthDebl0  NaN  2020-11-29\n",
       "683     08suCcfQTi  NaN  2020-12-03\n",
       "843     0B36G01Fwq  NaN  2020-12-10\n",
       "920     0CDV6gnYDa  NaN  2020-10-28\n",
       "986     0D8xxqmO64  NaN  2020-11-29\n",
       "...            ...  ...         ...\n",
       "276045  zZpdo1XMoX  NaN  2020-10-07\n",
       "276387  zeRYCDj209  NaN  2020-10-30\n",
       "276403  zeeBwyAOCG  NaN  2020-12-19\n",
       "276516  zgbb6Sph4R  NaN  2020-10-27\n",
       "276824  zkZqKpQZIY  NaN  2020-10-23\n",
       "\n",
       "[1043 rows x 3 columns]"
      ]
     },
     "execution_count": 30,
     "metadata": {},
     "output_type": "execute_result"
    }
   ],
   "source": [
    "# view없이 purchase만 한 경우\n",
    "temp_no_view = funnel_data[(funnel_data['view'].notnull() == False) & (funnel_data['purchase'].notnull() == True)]\n",
    "temp_no_view"
   ]
  },
  {
   "cell_type": "markdown",
   "id": "2a1cd296",
   "metadata": {
    "id": "2a1cd296"
   },
   "source": [
    "- purchase 데이터의 날짜를 view 데이터의 날짜에 대체하여 동일한 날짜에 purchase가 진행된 것으로 간주하여 처리하기로 한다."
   ]
  },
  {
   "cell_type": "code",
   "execution_count": 31,
   "id": "34b0d07c",
   "metadata": {
    "colab": {
     "base_uri": "https://localhost:8080/",
     "height": 53
    },
    "executionInfo": {
     "elapsed": 2622,
     "status": "ok",
     "timestamp": 1707828097163,
     "user": {
      "displayName": "Jeong Gyu Lee",
      "userId": "08214646354511941606"
     },
     "user_tz": -540
    },
    "id": "34b0d07c",
    "outputId": "2b6b18e3-33d3-481d-d2b9-97f16f343bc2"
   },
   "outputs": [
    {
     "data": {
      "text/html": [
       "<div>\n",
       "<style scoped>\n",
       "    .dataframe tbody tr th:only-of-type {\n",
       "        vertical-align: middle;\n",
       "    }\n",
       "\n",
       "    .dataframe tbody tr th {\n",
       "        vertical-align: top;\n",
       "    }\n",
       "\n",
       "    .dataframe thead th {\n",
       "        text-align: right;\n",
       "    }\n",
       "</style>\n",
       "<table border=\"1\" class=\"dataframe\">\n",
       "  <thead>\n",
       "    <tr style=\"text-align: right;\">\n",
       "      <th></th>\n",
       "      <th>session</th>\n",
       "      <th>view</th>\n",
       "      <th>purchase</th>\n",
       "    </tr>\n",
       "  </thead>\n",
       "  <tbody>\n",
       "  </tbody>\n",
       "</table>\n",
       "</div>"
      ],
      "text/plain": [
       "Empty DataFrame\n",
       "Columns: [session, view, purchase]\n",
       "Index: []"
      ]
     },
     "execution_count": 31,
     "metadata": {},
     "output_type": "execute_result"
    }
   ],
   "source": [
    "temp_no_view_index = temp_no_view.index\n",
    "funnel_data_copy = funnel_data\n",
    "\n",
    "for index in temp_no_view_index:\n",
    "    funnel_data_copy[\"view\"][index] = funnel_data_copy[\"purchase\"][index]\n",
    "\n",
    "funnel_data_copy[(funnel_data_copy['view'].notnull() == False) & (funnel_data_copy['purchase'].notnull() == True)]"
   ]
  },
  {
   "cell_type": "markdown",
   "id": "5be7f335",
   "metadata": {
    "id": "5be7f335"
   },
   "source": [
    "- 확인 결과 더이상 purchase 했음에도 view가 결측치인 데이터는 없어진 것을 알 수 있다."
   ]
  },
  {
   "cell_type": "markdown",
   "id": "89635de6",
   "metadata": {
    "id": "89635de6"
   },
   "source": [
    "### 일별 전환율 계산"
   ]
  },
  {
   "cell_type": "code",
   "execution_count": 32,
   "id": "3bfbb8ed",
   "metadata": {
    "colab": {
     "base_uri": "https://localhost:8080/",
     "height": 424
    },
    "executionInfo": {
     "elapsed": 339,
     "status": "ok",
     "timestamp": 1707828104056,
     "user": {
      "displayName": "Jeong Gyu Lee",
      "userId": "08214646354511941606"
     },
     "user_tz": -540
    },
    "id": "3bfbb8ed",
    "outputId": "5205ae7c-891f-4715-ee00-4984b131fd91"
   },
   "outputs": [
    {
     "data": {
      "text/html": [
       "<div>\n",
       "<style scoped>\n",
       "    .dataframe tbody tr th:only-of-type {\n",
       "        vertical-align: middle;\n",
       "    }\n",
       "\n",
       "    .dataframe tbody tr th {\n",
       "        vertical-align: top;\n",
       "    }\n",
       "\n",
       "    .dataframe thead th {\n",
       "        text-align: right;\n",
       "    }\n",
       "</style>\n",
       "<table border=\"1\" class=\"dataframe\">\n",
       "  <thead>\n",
       "    <tr style=\"text-align: right;\">\n",
       "      <th></th>\n",
       "      <th>session</th>\n",
       "      <th>view</th>\n",
       "      <th>purchase</th>\n",
       "      <th>date</th>\n",
       "    </tr>\n",
       "  </thead>\n",
       "  <tbody>\n",
       "    <tr>\n",
       "      <th>0</th>\n",
       "      <td>000c34fa-991f-442a-8e07-8c472269bec6</td>\n",
       "      <td>2020-09-30</td>\n",
       "      <td>NaN</td>\n",
       "      <td>2020-09-30</td>\n",
       "    </tr>\n",
       "    <tr>\n",
       "      <th>1</th>\n",
       "      <td>001P7lK0Pt</td>\n",
       "      <td>2020-11-06</td>\n",
       "      <td>NaN</td>\n",
       "      <td>2020-11-06</td>\n",
       "    </tr>\n",
       "    <tr>\n",
       "      <th>2</th>\n",
       "      <td>002DmERG1w</td>\n",
       "      <td>2020-09-26</td>\n",
       "      <td>NaN</td>\n",
       "      <td>2020-09-26</td>\n",
       "    </tr>\n",
       "    <tr>\n",
       "      <th>3</th>\n",
       "      <td>003QqC0jk0</td>\n",
       "      <td>2020-10-25</td>\n",
       "      <td>NaN</td>\n",
       "      <td>2020-10-25</td>\n",
       "    </tr>\n",
       "    <tr>\n",
       "      <th>4</th>\n",
       "      <td>003pEktS1X</td>\n",
       "      <td>2020-11-02</td>\n",
       "      <td>NaN</td>\n",
       "      <td>2020-11-02</td>\n",
       "    </tr>\n",
       "    <tr>\n",
       "      <th>...</th>\n",
       "      <td>...</td>\n",
       "      <td>...</td>\n",
       "      <td>...</td>\n",
       "      <td>...</td>\n",
       "    </tr>\n",
       "    <tr>\n",
       "      <th>279096</th>\n",
       "      <td>zRWedIZeaN</td>\n",
       "      <td>2020-11-07</td>\n",
       "      <td>2020-11-07</td>\n",
       "      <td>2020-11-07</td>\n",
       "    </tr>\n",
       "    <tr>\n",
       "      <th>279097</th>\n",
       "      <td>zS4jgPciUX</td>\n",
       "      <td>2020-12-03</td>\n",
       "      <td>2020-12-03</td>\n",
       "      <td>2020-12-03</td>\n",
       "    </tr>\n",
       "    <tr>\n",
       "      <th>279098</th>\n",
       "      <td>zUphWXWbWV</td>\n",
       "      <td>2020-10-16</td>\n",
       "      <td>2020-10-16</td>\n",
       "      <td>2020-10-16</td>\n",
       "    </tr>\n",
       "    <tr>\n",
       "      <th>279099</th>\n",
       "      <td>zkos5EldqB</td>\n",
       "      <td>2020-11-02</td>\n",
       "      <td>2020-11-02</td>\n",
       "      <td>2020-11-02</td>\n",
       "    </tr>\n",
       "    <tr>\n",
       "      <th>279100</th>\n",
       "      <td>zyCwRFIila</td>\n",
       "      <td>2020-11-01</td>\n",
       "      <td>2020-11-01</td>\n",
       "      <td>2020-11-01</td>\n",
       "    </tr>\n",
       "  </tbody>\n",
       "</table>\n",
       "<p>279101 rows × 4 columns</p>\n",
       "</div>"
      ],
      "text/plain": [
       "                                     session        view    purchase  \\\n",
       "0       000c34fa-991f-442a-8e07-8c472269bec6  2020-09-30         NaN   \n",
       "1                                 001P7lK0Pt  2020-11-06         NaN   \n",
       "2                                 002DmERG1w  2020-09-26         NaN   \n",
       "3                                 003QqC0jk0  2020-10-25         NaN   \n",
       "4                                 003pEktS1X  2020-11-02         NaN   \n",
       "...                                      ...         ...         ...   \n",
       "279096                            zRWedIZeaN  2020-11-07  2020-11-07   \n",
       "279097                            zS4jgPciUX  2020-12-03  2020-12-03   \n",
       "279098                            zUphWXWbWV  2020-10-16  2020-10-16   \n",
       "279099                            zkos5EldqB  2020-11-02  2020-11-02   \n",
       "279100                            zyCwRFIila  2020-11-01  2020-11-01   \n",
       "\n",
       "              date  \n",
       "0       2020-09-30  \n",
       "1       2020-11-06  \n",
       "2       2020-09-26  \n",
       "3       2020-10-25  \n",
       "4       2020-11-02  \n",
       "...            ...  \n",
       "279096  2020-11-07  \n",
       "279097  2020-12-03  \n",
       "279098  2020-10-16  \n",
       "279099  2020-11-02  \n",
       "279100  2020-11-01  \n",
       "\n",
       "[279101 rows x 4 columns]"
      ]
     },
     "execution_count": 32,
     "metadata": {},
     "output_type": "execute_result"
    }
   ],
   "source": [
    "funnel_date = funnel_data_copy[\"view\"].values\n",
    "funnel_data_copy[\"date\"] = funnel_date\n",
    "funnel_data_copy"
   ]
  },
  {
   "cell_type": "code",
   "execution_count": 33,
   "id": "5a6cce8a",
   "metadata": {
    "colab": {
     "base_uri": "https://localhost:8080/",
     "height": 455
    },
    "executionInfo": {
     "elapsed": 1497,
     "status": "ok",
     "timestamp": 1707828108590,
     "user": {
      "displayName": "Jeong Gyu Lee",
      "userId": "08214646354511941606"
     },
     "user_tz": -540
    },
    "id": "5a6cce8a",
    "outputId": "2c8b7092-418a-4398-f895-35a0bf1465a9"
   },
   "outputs": [
    {
     "data": {
      "text/html": [
       "<div>\n",
       "<style scoped>\n",
       "    .dataframe tbody tr th:only-of-type {\n",
       "        vertical-align: middle;\n",
       "    }\n",
       "\n",
       "    .dataframe tbody tr th {\n",
       "        vertical-align: top;\n",
       "    }\n",
       "\n",
       "    .dataframe thead th {\n",
       "        text-align: right;\n",
       "    }\n",
       "</style>\n",
       "<table border=\"1\" class=\"dataframe\">\n",
       "  <thead>\n",
       "    <tr style=\"text-align: right;\">\n",
       "      <th></th>\n",
       "      <th>view</th>\n",
       "      <th>purchase</th>\n",
       "    </tr>\n",
       "    <tr>\n",
       "      <th>date</th>\n",
       "      <th></th>\n",
       "      <th></th>\n",
       "    </tr>\n",
       "  </thead>\n",
       "  <tbody>\n",
       "    <tr>\n",
       "      <th>2020-09-24</th>\n",
       "      <td>1446</td>\n",
       "      <td>58</td>\n",
       "    </tr>\n",
       "    <tr>\n",
       "      <th>2020-09-25</th>\n",
       "      <td>2602</td>\n",
       "      <td>108</td>\n",
       "    </tr>\n",
       "    <tr>\n",
       "      <th>2020-09-26</th>\n",
       "      <td>2114</td>\n",
       "      <td>76</td>\n",
       "    </tr>\n",
       "    <tr>\n",
       "      <th>2020-09-27</th>\n",
       "      <td>2276</td>\n",
       "      <td>71</td>\n",
       "    </tr>\n",
       "    <tr>\n",
       "      <th>2020-09-28</th>\n",
       "      <td>2820</td>\n",
       "      <td>121</td>\n",
       "    </tr>\n",
       "    <tr>\n",
       "      <th>...</th>\n",
       "      <td>...</td>\n",
       "      <td>...</td>\n",
       "    </tr>\n",
       "    <tr>\n",
       "      <th>2020-12-17</th>\n",
       "      <td>3047</td>\n",
       "      <td>175</td>\n",
       "    </tr>\n",
       "    <tr>\n",
       "      <th>2020-12-18</th>\n",
       "      <td>2718</td>\n",
       "      <td>157</td>\n",
       "    </tr>\n",
       "    <tr>\n",
       "      <th>2020-12-19</th>\n",
       "      <td>2720</td>\n",
       "      <td>159</td>\n",
       "    </tr>\n",
       "    <tr>\n",
       "      <th>2020-12-20</th>\n",
       "      <td>2787</td>\n",
       "      <td>132</td>\n",
       "    </tr>\n",
       "    <tr>\n",
       "      <th>2020-12-21</th>\n",
       "      <td>3406</td>\n",
       "      <td>170</td>\n",
       "    </tr>\n",
       "  </tbody>\n",
       "</table>\n",
       "<p>89 rows × 2 columns</p>\n",
       "</div>"
      ],
      "text/plain": [
       "            view  purchase\n",
       "date                      \n",
       "2020-09-24  1446        58\n",
       "2020-09-25  2602       108\n",
       "2020-09-26  2114        76\n",
       "2020-09-27  2276        71\n",
       "2020-09-28  2820       121\n",
       "...          ...       ...\n",
       "2020-12-17  3047       175\n",
       "2020-12-18  2718       157\n",
       "2020-12-19  2720       159\n",
       "2020-12-20  2787       132\n",
       "2020-12-21  3406       170\n",
       "\n",
       "[89 rows x 2 columns]"
      ]
     },
     "execution_count": 33,
     "metadata": {},
     "output_type": "execute_result"
    }
   ],
   "source": [
    "funnel = funnel_data_copy.drop(\"session\", axis = 1).sort_values(\"date\")\n",
    "group_funnel = funnel.groupby(\"date\").count()\n",
    "group_funnel"
   ]
  },
  {
   "cell_type": "code",
   "execution_count": 34,
   "id": "9dc17d4b",
   "metadata": {
    "colab": {
     "base_uri": "https://localhost:8080/",
     "height": 455
    },
    "executionInfo": {
     "elapsed": 4,
     "status": "ok",
     "timestamp": 1707828108590,
     "user": {
      "displayName": "Jeong Gyu Lee",
      "userId": "08214646354511941606"
     },
     "user_tz": -540
    },
    "id": "9dc17d4b",
    "outputId": "c765693a-99da-4649-c662-aad7a0bfa9a3"
   },
   "outputs": [
    {
     "data": {
      "text/html": [
       "<div>\n",
       "<style scoped>\n",
       "    .dataframe tbody tr th:only-of-type {\n",
       "        vertical-align: middle;\n",
       "    }\n",
       "\n",
       "    .dataframe tbody tr th {\n",
       "        vertical-align: top;\n",
       "    }\n",
       "\n",
       "    .dataframe thead th {\n",
       "        text-align: right;\n",
       "    }\n",
       "</style>\n",
       "<table border=\"1\" class=\"dataframe\">\n",
       "  <thead>\n",
       "    <tr style=\"text-align: right;\">\n",
       "      <th></th>\n",
       "      <th>view</th>\n",
       "      <th>purchase</th>\n",
       "      <th>conversion</th>\n",
       "    </tr>\n",
       "    <tr>\n",
       "      <th>date</th>\n",
       "      <th></th>\n",
       "      <th></th>\n",
       "      <th></th>\n",
       "    </tr>\n",
       "  </thead>\n",
       "  <tbody>\n",
       "    <tr>\n",
       "      <th>2020-09-24</th>\n",
       "      <td>1446</td>\n",
       "      <td>58</td>\n",
       "      <td>4.011065</td>\n",
       "    </tr>\n",
       "    <tr>\n",
       "      <th>2020-09-25</th>\n",
       "      <td>2602</td>\n",
       "      <td>108</td>\n",
       "      <td>4.150653</td>\n",
       "    </tr>\n",
       "    <tr>\n",
       "      <th>2020-09-26</th>\n",
       "      <td>2114</td>\n",
       "      <td>76</td>\n",
       "      <td>3.595080</td>\n",
       "    </tr>\n",
       "    <tr>\n",
       "      <th>2020-09-27</th>\n",
       "      <td>2276</td>\n",
       "      <td>71</td>\n",
       "      <td>3.119508</td>\n",
       "    </tr>\n",
       "    <tr>\n",
       "      <th>2020-09-28</th>\n",
       "      <td>2820</td>\n",
       "      <td>121</td>\n",
       "      <td>4.290780</td>\n",
       "    </tr>\n",
       "    <tr>\n",
       "      <th>...</th>\n",
       "      <td>...</td>\n",
       "      <td>...</td>\n",
       "      <td>...</td>\n",
       "    </tr>\n",
       "    <tr>\n",
       "      <th>2020-12-17</th>\n",
       "      <td>3047</td>\n",
       "      <td>175</td>\n",
       "      <td>5.743354</td>\n",
       "    </tr>\n",
       "    <tr>\n",
       "      <th>2020-12-18</th>\n",
       "      <td>2718</td>\n",
       "      <td>157</td>\n",
       "      <td>5.776306</td>\n",
       "    </tr>\n",
       "    <tr>\n",
       "      <th>2020-12-19</th>\n",
       "      <td>2720</td>\n",
       "      <td>159</td>\n",
       "      <td>5.845588</td>\n",
       "    </tr>\n",
       "    <tr>\n",
       "      <th>2020-12-20</th>\n",
       "      <td>2787</td>\n",
       "      <td>132</td>\n",
       "      <td>4.736276</td>\n",
       "    </tr>\n",
       "    <tr>\n",
       "      <th>2020-12-21</th>\n",
       "      <td>3406</td>\n",
       "      <td>170</td>\n",
       "      <td>4.991192</td>\n",
       "    </tr>\n",
       "  </tbody>\n",
       "</table>\n",
       "<p>89 rows × 3 columns</p>\n",
       "</div>"
      ],
      "text/plain": [
       "            view  purchase  conversion\n",
       "date                                  \n",
       "2020-09-24  1446        58    4.011065\n",
       "2020-09-25  2602       108    4.150653\n",
       "2020-09-26  2114        76    3.595080\n",
       "2020-09-27  2276        71    3.119508\n",
       "2020-09-28  2820       121    4.290780\n",
       "...          ...       ...         ...\n",
       "2020-12-17  3047       175    5.743354\n",
       "2020-12-18  2718       157    5.776306\n",
       "2020-12-19  2720       159    5.845588\n",
       "2020-12-20  2787       132    4.736276\n",
       "2020-12-21  3406       170    4.991192\n",
       "\n",
       "[89 rows x 3 columns]"
      ]
     },
     "execution_count": 34,
     "metadata": {},
     "output_type": "execute_result"
    }
   ],
   "source": [
    "# 전환율 도출\n",
    "funnel_conversion_rate = group_funnel\n",
    "funnel_conversion_rate[\"conversion\"] = group_funnel[\"purchase\"] / group_funnel[\"view\"] * 100\n",
    "funnel_conversion_rate"
   ]
  },
  {
   "cell_type": "markdown",
   "id": "N9PhG7dkdXbv",
   "metadata": {
    "id": "N9PhG7dkdXbv"
   },
   "source": [
    "## 결측치 처리 및 일별 전환율 계산(2)\n",
    "- 위에서 진행한 결측치 처리 방식과 다르게 이번에는 view없이 purchase한 경우를 그래도 받아들이고 전환율을 먼저 계산한 후 진행하기로 한다."
   ]
  },
  {
   "cell_type": "markdown",
   "id": "14lrveubiv9S",
   "metadata": {
    "id": "14lrveubiv9S"
   },
   "source": [
    "### 날짜데이터 확인"
   ]
  },
  {
   "cell_type": "code",
   "execution_count": 35,
   "id": "fLcXHtiidcu0",
   "metadata": {
    "colab": {
     "base_uri": "https://localhost:8080/",
     "height": 424
    },
    "executionInfo": {
     "elapsed": 859,
     "status": "ok",
     "timestamp": 1707829077684,
     "user": {
      "displayName": "Jeong Gyu Lee",
      "userId": "08214646354511941606"
     },
     "user_tz": -540
    },
    "id": "fLcXHtiidcu0",
    "outputId": "560c43d0-00f5-4f89-ec83-e3d0517b3911"
   },
   "outputs": [
    {
     "data": {
      "text/html": [
       "<div>\n",
       "<style scoped>\n",
       "    .dataframe tbody tr th:only-of-type {\n",
       "        vertical-align: middle;\n",
       "    }\n",
       "\n",
       "    .dataframe tbody tr th {\n",
       "        vertical-align: top;\n",
       "    }\n",
       "\n",
       "    .dataframe thead th {\n",
       "        text-align: right;\n",
       "    }\n",
       "</style>\n",
       "<table border=\"1\" class=\"dataframe\">\n",
       "  <thead>\n",
       "    <tr style=\"text-align: right;\">\n",
       "      <th></th>\n",
       "      <th>session</th>\n",
       "      <th>view</th>\n",
       "      <th>purchase</th>\n",
       "    </tr>\n",
       "  </thead>\n",
       "  <tbody>\n",
       "    <tr>\n",
       "      <th>0</th>\n",
       "      <td>000c34fa-991f-442a-8e07-8c472269bec6</td>\n",
       "      <td>2020-09-30</td>\n",
       "      <td>NaN</td>\n",
       "    </tr>\n",
       "    <tr>\n",
       "      <th>1</th>\n",
       "      <td>001P7lK0Pt</td>\n",
       "      <td>2020-11-06</td>\n",
       "      <td>NaN</td>\n",
       "    </tr>\n",
       "    <tr>\n",
       "      <th>2</th>\n",
       "      <td>002DmERG1w</td>\n",
       "      <td>2020-09-26</td>\n",
       "      <td>NaN</td>\n",
       "    </tr>\n",
       "    <tr>\n",
       "      <th>3</th>\n",
       "      <td>003QqC0jk0</td>\n",
       "      <td>2020-10-25</td>\n",
       "      <td>NaN</td>\n",
       "    </tr>\n",
       "    <tr>\n",
       "      <th>4</th>\n",
       "      <td>003pEktS1X</td>\n",
       "      <td>2020-11-02</td>\n",
       "      <td>NaN</td>\n",
       "    </tr>\n",
       "    <tr>\n",
       "      <th>...</th>\n",
       "      <td>...</td>\n",
       "      <td>...</td>\n",
       "      <td>...</td>\n",
       "    </tr>\n",
       "    <tr>\n",
       "      <th>278513</th>\n",
       "      <td>zztce59nU2</td>\n",
       "      <td>2020-10-29</td>\n",
       "      <td>NaN</td>\n",
       "    </tr>\n",
       "    <tr>\n",
       "      <th>278514</th>\n",
       "      <td>zztjHPLepJ</td>\n",
       "      <td>2020-11-14</td>\n",
       "      <td>NaN</td>\n",
       "    </tr>\n",
       "    <tr>\n",
       "      <th>278515</th>\n",
       "      <td>zzvjiUwHhM</td>\n",
       "      <td>2020-12-18</td>\n",
       "      <td>NaN</td>\n",
       "    </tr>\n",
       "    <tr>\n",
       "      <th>278516</th>\n",
       "      <td>zzxnA0nWEY</td>\n",
       "      <td>2020-11-17</td>\n",
       "      <td>NaN</td>\n",
       "    </tr>\n",
       "    <tr>\n",
       "      <th>278517</th>\n",
       "      <td>zzy0qXtxYX</td>\n",
       "      <td>2020-11-08</td>\n",
       "      <td>NaN</td>\n",
       "    </tr>\n",
       "  </tbody>\n",
       "</table>\n",
       "<p>278518 rows × 3 columns</p>\n",
       "</div>"
      ],
      "text/plain": [
       "                                     session        view purchase\n",
       "0       000c34fa-991f-442a-8e07-8c472269bec6  2020-09-30      NaN\n",
       "1                                 001P7lK0Pt  2020-11-06      NaN\n",
       "2                                 002DmERG1w  2020-09-26      NaN\n",
       "3                                 003QqC0jk0  2020-10-25      NaN\n",
       "4                                 003pEktS1X  2020-11-02      NaN\n",
       "...                                      ...         ...      ...\n",
       "278513                            zztce59nU2  2020-10-29      NaN\n",
       "278514                            zztjHPLepJ  2020-11-14      NaN\n",
       "278515                            zzvjiUwHhM  2020-12-18      NaN\n",
       "278516                            zzxnA0nWEY  2020-11-17      NaN\n",
       "278517                            zzy0qXtxYX  2020-11-08      NaN\n",
       "\n",
       "[278518 rows x 3 columns]"
      ]
     },
     "execution_count": 35,
     "metadata": {},
     "output_type": "execute_result"
    }
   ],
   "source": [
    "# 날짜 형식 변경\n",
    "session_values = reset_data.index\n",
    "view_values = pd.to_datetime(reset_data['view'].values)\n",
    "purchase_values = pd.to_datetime(reset_data['purchase'].values)\n",
    "\n",
    "\n",
    "def extract_date(date):\n",
    "    return date.strftime('%Y-%m-%d')\n",
    "\n",
    "# dates_only = dates.apply(extract_date)\n",
    "\n",
    "view_values = extract_date(view_values)\n",
    "purchase_values = extract_date(purchase_values)\n",
    "\n",
    "date_data = pd.DataFrame({\"session\" : session_values, \"view\" : view_values, \"purchase\" : purchase_values})\n",
    "date_data"
   ]
  },
  {
   "cell_type": "code",
   "execution_count": 36,
   "id": "drLRHTx2f3c1",
   "metadata": {
    "executionInfo": {
     "elapsed": 157023,
     "status": "ok",
     "timestamp": 1707831103488,
     "user": {
      "displayName": "Jeong Gyu Lee",
      "userId": "08214646354511941606"
     },
     "user_tz": -540
    },
    "id": "drLRHTx2f3c1"
   },
   "outputs": [],
   "source": [
    "start = min([pd.to_datetime(date_data['view'].values).min(), pd.to_datetime(date_data['purchase'].values).min()])\n",
    "end = max([pd.to_datetime(date_data['view'].values).max(), pd.to_datetime(date_data['purchase'].values).max()])\n",
    "dates = pd.date_range(start, end)\n",
    "len(dates)\n",
    "\n",
    "df_view = pd.DataFrame({'view' : [0] * len(dates)}, index = dates)\n",
    "df_purchase = pd.DataFrame({'purchase' : [0] * len(dates)}, index = dates)\n",
    "\n",
    "for i in date_data['view'].values:\n",
    "    if i in df_view.index:\n",
    "        df_view.loc[i] += 1\n",
    "    else:\n",
    "        pass\n",
    "\n",
    "for i in date_data['purchase'].values:\n",
    "    if i in df_purchase.index:\n",
    "        df_purchase.loc[i] += 1\n",
    "    else:\n",
    "        pass"
   ]
  },
  {
   "cell_type": "code",
   "execution_count": 37,
   "id": "0OEcs8l1rSC5",
   "metadata": {
    "colab": {
     "base_uri": "https://localhost:8080/",
     "height": 424
    },
    "executionInfo": {
     "elapsed": 10,
     "status": "ok",
     "timestamp": 1707831341615,
     "user": {
      "displayName": "Jeong Gyu Lee",
      "userId": "08214646354511941606"
     },
     "user_tz": -540
    },
    "id": "0OEcs8l1rSC5",
    "outputId": "6180518a-76ea-4f42-f49b-fe10082933e5"
   },
   "outputs": [
    {
     "data": {
      "text/html": [
       "<div>\n",
       "<style scoped>\n",
       "    .dataframe tbody tr th:only-of-type {\n",
       "        vertical-align: middle;\n",
       "    }\n",
       "\n",
       "    .dataframe tbody tr th {\n",
       "        vertical-align: top;\n",
       "    }\n",
       "\n",
       "    .dataframe thead th {\n",
       "        text-align: right;\n",
       "    }\n",
       "</style>\n",
       "<table border=\"1\" class=\"dataframe\">\n",
       "  <thead>\n",
       "    <tr style=\"text-align: right;\">\n",
       "      <th></th>\n",
       "      <th>view</th>\n",
       "      <th>purchase</th>\n",
       "    </tr>\n",
       "  </thead>\n",
       "  <tbody>\n",
       "    <tr>\n",
       "      <th>2020-09-24</th>\n",
       "      <td>1440</td>\n",
       "      <td>58</td>\n",
       "    </tr>\n",
       "    <tr>\n",
       "      <th>2020-09-25</th>\n",
       "      <td>2591</td>\n",
       "      <td>108</td>\n",
       "    </tr>\n",
       "    <tr>\n",
       "      <th>2020-09-26</th>\n",
       "      <td>2106</td>\n",
       "      <td>76</td>\n",
       "    </tr>\n",
       "    <tr>\n",
       "      <th>2020-09-27</th>\n",
       "      <td>2266</td>\n",
       "      <td>71</td>\n",
       "    </tr>\n",
       "    <tr>\n",
       "      <th>2020-09-28</th>\n",
       "      <td>2809</td>\n",
       "      <td>121</td>\n",
       "    </tr>\n",
       "    <tr>\n",
       "      <th>...</th>\n",
       "      <td>...</td>\n",
       "      <td>...</td>\n",
       "    </tr>\n",
       "    <tr>\n",
       "      <th>2020-12-17</th>\n",
       "      <td>3016</td>\n",
       "      <td>175</td>\n",
       "    </tr>\n",
       "    <tr>\n",
       "      <th>2020-12-18</th>\n",
       "      <td>2698</td>\n",
       "      <td>157</td>\n",
       "    </tr>\n",
       "    <tr>\n",
       "      <th>2020-12-19</th>\n",
       "      <td>2706</td>\n",
       "      <td>159</td>\n",
       "    </tr>\n",
       "    <tr>\n",
       "      <th>2020-12-20</th>\n",
       "      <td>2772</td>\n",
       "      <td>132</td>\n",
       "    </tr>\n",
       "    <tr>\n",
       "      <th>2020-12-21</th>\n",
       "      <td>3385</td>\n",
       "      <td>170</td>\n",
       "    </tr>\n",
       "  </tbody>\n",
       "</table>\n",
       "<p>89 rows × 2 columns</p>\n",
       "</div>"
      ],
      "text/plain": [
       "            view  purchase\n",
       "2020-09-24  1440        58\n",
       "2020-09-25  2591       108\n",
       "2020-09-26  2106        76\n",
       "2020-09-27  2266        71\n",
       "2020-09-28  2809       121\n",
       "...          ...       ...\n",
       "2020-12-17  3016       175\n",
       "2020-12-18  2698       157\n",
       "2020-12-19  2706       159\n",
       "2020-12-20  2772       132\n",
       "2020-12-21  3385       170\n",
       "\n",
       "[89 rows x 2 columns]"
      ]
     },
     "execution_count": 37,
     "metadata": {},
     "output_type": "execute_result"
    }
   ],
   "source": [
    "funnel_data = df_view.join(df_purchase, how = 'left')\n",
    "funnel_data"
   ]
  },
  {
   "cell_type": "markdown",
   "id": "ouvJtDEDrFHh",
   "metadata": {
    "id": "ouvJtDEDrFHh"
   },
   "source": [
    "### 결측치 확인"
   ]
  },
  {
   "cell_type": "code",
   "execution_count": 38,
   "id": "wfg0FkXPrB15",
   "metadata": {
    "colab": {
     "base_uri": "https://localhost:8080/"
    },
    "executionInfo": {
     "elapsed": 350,
     "status": "ok",
     "timestamp": 1707831776299,
     "user": {
      "displayName": "Jeong Gyu Lee",
      "userId": "08214646354511941606"
     },
     "user_tz": -540
    },
    "id": "wfg0FkXPrB15",
    "outputId": "f5d105f0-5e85-4d3e-f2b5-a54b51f97954"
   },
   "outputs": [
    {
     "name": "stdout",
     "output_type": "stream",
     "text": [
      "---------------------------\n",
      "view 결측치 없음\n",
      "---------------------------\n",
      "purchase 결측치 없음\n",
      "---------------------------\n"
     ]
    }
   ],
   "source": [
    "def null_check(df):\n",
    "\n",
    "    print(\"---------------------------\")\n",
    "\n",
    "    row_count = df.shape[0]\n",
    "\n",
    "    for column in df.columns:\n",
    "        null_count = df[column].isnull().sum()\n",
    "        if null_count > 0:\n",
    "            print(column + \" 결측치 비율\")\n",
    "            print(round(null_count / row_count * 100, 2), \"%\")\n",
    "            print(\"---------------------------\")\n",
    "        else:\n",
    "            print(column + \" 결측치 없음\")\n",
    "            print(\"---------------------------\")\n",
    "\n",
    "null_check(funnel_data)"
   ]
  },
  {
   "cell_type": "markdown",
   "id": "S87XvVM1tjLX",
   "metadata": {
    "id": "S87XvVM1tjLX"
   },
   "source": [
    "### 일별 전환율 계산"
   ]
  },
  {
   "cell_type": "code",
   "execution_count": 39,
   "id": "U1_qv4PCgQ-P",
   "metadata": {
    "colab": {
     "base_uri": "https://localhost:8080/",
     "height": 424
    },
    "executionInfo": {
     "elapsed": 470,
     "status": "ok",
     "timestamp": 1707832324205,
     "user": {
      "displayName": "Jeong Gyu Lee",
      "userId": "08214646354511941606"
     },
     "user_tz": -540
    },
    "id": "U1_qv4PCgQ-P",
    "outputId": "058ec215-a2f4-41a0-b3d6-c0b05046e838"
   },
   "outputs": [
    {
     "data": {
      "text/html": [
       "<div>\n",
       "<style scoped>\n",
       "    .dataframe tbody tr th:only-of-type {\n",
       "        vertical-align: middle;\n",
       "    }\n",
       "\n",
       "    .dataframe tbody tr th {\n",
       "        vertical-align: top;\n",
       "    }\n",
       "\n",
       "    .dataframe thead th {\n",
       "        text-align: right;\n",
       "    }\n",
       "</style>\n",
       "<table border=\"1\" class=\"dataframe\">\n",
       "  <thead>\n",
       "    <tr style=\"text-align: right;\">\n",
       "      <th></th>\n",
       "      <th>view</th>\n",
       "      <th>purchase</th>\n",
       "      <th>conversion</th>\n",
       "    </tr>\n",
       "  </thead>\n",
       "  <tbody>\n",
       "    <tr>\n",
       "      <th>2020-09-24</th>\n",
       "      <td>1440</td>\n",
       "      <td>58</td>\n",
       "      <td>4.027778</td>\n",
       "    </tr>\n",
       "    <tr>\n",
       "      <th>2020-09-25</th>\n",
       "      <td>2591</td>\n",
       "      <td>108</td>\n",
       "      <td>4.168275</td>\n",
       "    </tr>\n",
       "    <tr>\n",
       "      <th>2020-09-26</th>\n",
       "      <td>2106</td>\n",
       "      <td>76</td>\n",
       "      <td>3.608737</td>\n",
       "    </tr>\n",
       "    <tr>\n",
       "      <th>2020-09-27</th>\n",
       "      <td>2266</td>\n",
       "      <td>71</td>\n",
       "      <td>3.133274</td>\n",
       "    </tr>\n",
       "    <tr>\n",
       "      <th>2020-09-28</th>\n",
       "      <td>2809</td>\n",
       "      <td>121</td>\n",
       "      <td>4.307583</td>\n",
       "    </tr>\n",
       "    <tr>\n",
       "      <th>...</th>\n",
       "      <td>...</td>\n",
       "      <td>...</td>\n",
       "      <td>...</td>\n",
       "    </tr>\n",
       "    <tr>\n",
       "      <th>2020-12-17</th>\n",
       "      <td>3016</td>\n",
       "      <td>175</td>\n",
       "      <td>5.802387</td>\n",
       "    </tr>\n",
       "    <tr>\n",
       "      <th>2020-12-18</th>\n",
       "      <td>2698</td>\n",
       "      <td>157</td>\n",
       "      <td>5.819125</td>\n",
       "    </tr>\n",
       "    <tr>\n",
       "      <th>2020-12-19</th>\n",
       "      <td>2706</td>\n",
       "      <td>159</td>\n",
       "      <td>5.875831</td>\n",
       "    </tr>\n",
       "    <tr>\n",
       "      <th>2020-12-20</th>\n",
       "      <td>2772</td>\n",
       "      <td>132</td>\n",
       "      <td>4.761905</td>\n",
       "    </tr>\n",
       "    <tr>\n",
       "      <th>2020-12-21</th>\n",
       "      <td>3385</td>\n",
       "      <td>170</td>\n",
       "      <td>5.022157</td>\n",
       "    </tr>\n",
       "  </tbody>\n",
       "</table>\n",
       "<p>89 rows × 3 columns</p>\n",
       "</div>"
      ],
      "text/plain": [
       "            view  purchase  conversion\n",
       "2020-09-24  1440        58    4.027778\n",
       "2020-09-25  2591       108    4.168275\n",
       "2020-09-26  2106        76    3.608737\n",
       "2020-09-27  2266        71    3.133274\n",
       "2020-09-28  2809       121    4.307583\n",
       "...          ...       ...         ...\n",
       "2020-12-17  3016       175    5.802387\n",
       "2020-12-18  2698       157    5.819125\n",
       "2020-12-19  2706       159    5.875831\n",
       "2020-12-20  2772       132    4.761905\n",
       "2020-12-21  3385       170    5.022157\n",
       "\n",
       "[89 rows x 3 columns]"
      ]
     },
     "execution_count": 39,
     "metadata": {},
     "output_type": "execute_result"
    }
   ],
   "source": [
    "# 전환율 도출\n",
    "funnel_conversion_rate = funnel_data\n",
    "funnel_conversion_rate[\"conversion\"] = funnel_data[\"purchase\"] / funnel_data[\"view\"] * 100\n",
    "funnel_conversion_rate"
   ]
  },
  {
   "cell_type": "code",
   "execution_count": 40,
   "id": "934abc50",
   "metadata": {
    "colab": {
     "base_uri": "https://localhost:8080/",
     "height": 480
    },
    "executionInfo": {
     "elapsed": 1121,
     "status": "ok",
     "timestamp": 1707832432459,
     "user": {
      "displayName": "Jeong Gyu Lee",
      "userId": "08214646354511941606"
     },
     "user_tz": -540
    },
    "id": "934abc50",
    "outputId": "f151de79-69bf-4839-844d-66f03332b5de"
   },
   "outputs": [
    {
     "data": {
      "image/png": "[encoded data removed]",
      "text/plain": [
       "<Figure size 640x480 with 2 Axes>"
      ]
     },
     "metadata": {},
     "output_type": "display_data"
    }
   ],
   "source": [
    "plt.rcdefaults() # 폰트사이즈 초기화\n",
    "\n",
    "fig, ax1 = plt.subplots()\n",
    "plt.plot(funnel_conversion_rate['view'], 'b', lw=1.5, label='view')\n",
    "plt.legend(loc=2)\n",
    "plt.xlabel('Date')\n",
    "plt.ylabel('View')\n",
    "plt.title('View & Purchase', fontsize = 20)\n",
    "ax1.set_xticks([\"2020-10-01\", \"2020-11-01\", \"2020-12-01\", \"2020-12-21\"])\n",
    "\n",
    "ax2 = ax1.twinx()\n",
    "plt.plot(funnel_conversion_rate['purchase'], 'g', lw=1.5, label='purchase')\n",
    "plt.legend(loc=1)\n",
    "plt.ylabel('Purchase')\n",
    "ax2.set_xticks([\"2020-10-01\", \"2020-11-01\", \"2020-12-01\", \"2020-12-21\"])\n",
    "plt.show();"
   ]
  },
  {
   "cell_type": "code",
   "execution_count": 41,
   "id": "39cf16cb",
   "metadata": {
    "colab": {
     "base_uri": "https://localhost:8080/",
     "height": 572
    },
    "executionInfo": {
     "elapsed": 811,
     "status": "ok",
     "timestamp": 1707832794064,
     "user": {
      "displayName": "Jeong Gyu Lee",
      "userId": "08214646354511941606"
     },
     "user_tz": -540
    },
    "id": "39cf16cb",
    "outputId": "59613879-9a45-47ef-f3a5-8d5f2ea23987"
   },
   "outputs": [
    {
     "data": {
      "image/png": "[encoded data removed]",
      "text/plain": [
       "<Figure size 1000x600 with 1 Axes>"
      ]
     },
     "metadata": {},
     "output_type": "display_data"
    }
   ],
   "source": [
    "plt.figure(figsize=(10, 6))\n",
    "plt.plot(funnel_conversion_rate['conversion'], color = 'grey', label='Conversion Rate', lw = 1.5)\n",
    "plt.title('Conversion Rate', fontsize = 20)\n",
    "plt.ylim(3,6)\n",
    "plt.legend(loc=0)\n",
    "plt.xlabel('Date')\n",
    "plt.show();"
   ]
  },
  {
   "cell_type": "code",
   "execution_count": 42,
   "id": "46b7c2e9",
   "metadata": {},
   "outputs": [
    {
     "data": {
      "image/png": "[encoded data removed]",
      "text/plain": [
       "<Figure size 640x480 with 1 Axes>"
      ]
     },
     "metadata": {},
     "output_type": "display_data"
    }
   ],
   "source": [
    "funnel_conversion_rate.boxplot(column = ['conversion'])\n",
    "plt.show()"
   ]
  },
  {
   "cell_type": "markdown",
   "id": "b7b9d8b9",
   "metadata": {
    "id": "386f6cff"
   },
   "source": [
    "## 요소분해"
   ]
  },
  {
   "cell_type": "code",
   "execution_count": 43,
   "id": "c195ca80",
   "metadata": {
    "colab": {
     "base_uri": "https://localhost:8080/",
     "height": 455
    },
    "executionInfo": {
     "elapsed": 321,
     "status": "ok",
     "timestamp": 1707832871436,
     "user": {
      "displayName": "Jeong Gyu Lee",
      "userId": "08214646354511941606"
     },
     "user_tz": -540
    },
    "id": "c195ca80",
    "outputId": "6ad5be88-b4d5-4705-ba3b-8bf2c3fcea42"
   },
   "outputs": [
    {
     "data": {
      "text/html": [
       "<div>\n",
       "<style scoped>\n",
       "    .dataframe tbody tr th:only-of-type {\n",
       "        vertical-align: middle;\n",
       "    }\n",
       "\n",
       "    .dataframe tbody tr th {\n",
       "        vertical-align: top;\n",
       "    }\n",
       "\n",
       "    .dataframe thead th {\n",
       "        text-align: right;\n",
       "    }\n",
       "</style>\n",
       "<table border=\"1\" class=\"dataframe\">\n",
       "  <thead>\n",
       "    <tr style=\"text-align: right;\">\n",
       "      <th></th>\n",
       "      <th>conversion</th>\n",
       "    </tr>\n",
       "    <tr>\n",
       "      <th>Date</th>\n",
       "      <th></th>\n",
       "    </tr>\n",
       "  </thead>\n",
       "  <tbody>\n",
       "    <tr>\n",
       "      <th>2020-09-24</th>\n",
       "      <td>4.027778</td>\n",
       "    </tr>\n",
       "    <tr>\n",
       "      <th>2020-09-25</th>\n",
       "      <td>4.168275</td>\n",
       "    </tr>\n",
       "    <tr>\n",
       "      <th>2020-09-26</th>\n",
       "      <td>3.608737</td>\n",
       "    </tr>\n",
       "    <tr>\n",
       "      <th>2020-09-27</th>\n",
       "      <td>3.133274</td>\n",
       "    </tr>\n",
       "    <tr>\n",
       "      <th>2020-09-28</th>\n",
       "      <td>4.307583</td>\n",
       "    </tr>\n",
       "    <tr>\n",
       "      <th>...</th>\n",
       "      <td>...</td>\n",
       "    </tr>\n",
       "    <tr>\n",
       "      <th>2020-12-17</th>\n",
       "      <td>5.802387</td>\n",
       "    </tr>\n",
       "    <tr>\n",
       "      <th>2020-12-18</th>\n",
       "      <td>5.819125</td>\n",
       "    </tr>\n",
       "    <tr>\n",
       "      <th>2020-12-19</th>\n",
       "      <td>5.875831</td>\n",
       "    </tr>\n",
       "    <tr>\n",
       "      <th>2020-12-20</th>\n",
       "      <td>4.761905</td>\n",
       "    </tr>\n",
       "    <tr>\n",
       "      <th>2020-12-21</th>\n",
       "      <td>5.022157</td>\n",
       "    </tr>\n",
       "  </tbody>\n",
       "</table>\n",
       "<p>89 rows × 1 columns</p>\n",
       "</div>"
      ],
      "text/plain": [
       "            conversion\n",
       "Date                  \n",
       "2020-09-24    4.027778\n",
       "2020-09-25    4.168275\n",
       "2020-09-26    3.608737\n",
       "2020-09-27    3.133274\n",
       "2020-09-28    4.307583\n",
       "...                ...\n",
       "2020-12-17    5.802387\n",
       "2020-12-18    5.819125\n",
       "2020-12-19    5.875831\n",
       "2020-12-20    4.761905\n",
       "2020-12-21    5.022157\n",
       "\n",
       "[89 rows x 1 columns]"
      ]
     },
     "execution_count": 43,
     "metadata": {},
     "output_type": "execute_result"
    }
   ],
   "source": [
    "temp_copy = funnel_conversion_rate['conversion']\n",
    "# temp_copy_index = pd.to_datetime(temp_copy.index).strftime('%m/%d')\n",
    "temp_funnel = pd.DataFrame({\"Date\" : temp_copy.index.values, \"conversion\" : temp_copy.values})\n",
    "# temp_funnel['month/day'] = temp_copy_index\n",
    "temp_funnel = temp_funnel.set_index('Date', drop = True)\n",
    "conversion_rate = temp_funnel\n",
    "conversion_rate"
   ]
  },
  {
   "cell_type": "code",
   "execution_count": 44,
   "id": "662b3441",
   "metadata": {
    "colab": {
     "base_uri": "https://localhost:8080/",
     "height": 394
    },
    "executionInfo": {
     "elapsed": 3,
     "status": "ok",
     "timestamp": 1707832872826,
     "user": {
      "displayName": "Jeong Gyu Lee",
      "userId": "08214646354511941606"
     },
     "user_tz": -540
    },
    "id": "662b3441",
    "outputId": "fefa49b7-f920-4beb-c0c2-f9dbe4be4b7d"
   },
   "outputs": [
    {
     "data": {
      "text/html": [
       "<div>\n",
       "<style scoped>\n",
       "    .dataframe tbody tr th:only-of-type {\n",
       "        vertical-align: middle;\n",
       "    }\n",
       "\n",
       "    .dataframe tbody tr th {\n",
       "        vertical-align: top;\n",
       "    }\n",
       "\n",
       "    .dataframe thead th {\n",
       "        text-align: right;\n",
       "    }\n",
       "</style>\n",
       "<table border=\"1\" class=\"dataframe\">\n",
       "  <thead>\n",
       "    <tr style=\"text-align: right;\">\n",
       "      <th></th>\n",
       "      <th>conversion_rate</th>\n",
       "      <th>trend</th>\n",
       "      <th>seasonal</th>\n",
       "      <th>residual</th>\n",
       "    </tr>\n",
       "    <tr>\n",
       "      <th>Date</th>\n",
       "      <th></th>\n",
       "      <th></th>\n",
       "      <th></th>\n",
       "      <th></th>\n",
       "    </tr>\n",
       "  </thead>\n",
       "  <tbody>\n",
       "    <tr>\n",
       "      <th>2020-09-24</th>\n",
       "      <td>4.027778</td>\n",
       "      <td>NaN</td>\n",
       "      <td>0.082521</td>\n",
       "      <td>NaN</td>\n",
       "    </tr>\n",
       "    <tr>\n",
       "      <th>2020-09-25</th>\n",
       "      <td>4.168275</td>\n",
       "      <td>NaN</td>\n",
       "      <td>-0.082163</td>\n",
       "      <td>NaN</td>\n",
       "    </tr>\n",
       "    <tr>\n",
       "      <th>2020-09-26</th>\n",
       "      <td>3.608737</td>\n",
       "      <td>NaN</td>\n",
       "      <td>-0.173572</td>\n",
       "      <td>NaN</td>\n",
       "    </tr>\n",
       "    <tr>\n",
       "      <th>2020-09-27</th>\n",
       "      <td>3.133274</td>\n",
       "      <td>3.908805</td>\n",
       "      <td>-0.180952</td>\n",
       "      <td>-0.594578</td>\n",
       "    </tr>\n",
       "    <tr>\n",
       "      <th>2020-09-28</th>\n",
       "      <td>4.307583</td>\n",
       "      <td>4.002724</td>\n",
       "      <td>0.127297</td>\n",
       "      <td>0.177562</td>\n",
       "    </tr>\n",
       "    <tr>\n",
       "      <th>2020-09-29</th>\n",
       "      <td>4.647984</td>\n",
       "      <td>4.072091</td>\n",
       "      <td>0.108560</td>\n",
       "      <td>0.467332</td>\n",
       "    </tr>\n",
       "    <tr>\n",
       "      <th>2020-09-30</th>\n",
       "      <td>3.468001</td>\n",
       "      <td>4.131383</td>\n",
       "      <td>0.118310</td>\n",
       "      <td>-0.781691</td>\n",
       "    </tr>\n",
       "    <tr>\n",
       "      <th>2020-10-01</th>\n",
       "      <td>4.685212</td>\n",
       "      <td>4.370754</td>\n",
       "      <td>0.082521</td>\n",
       "      <td>0.231937</td>\n",
       "    </tr>\n",
       "    <tr>\n",
       "      <th>2020-10-02</th>\n",
       "      <td>4.653846</td>\n",
       "      <td>4.443493</td>\n",
       "      <td>-0.082163</td>\n",
       "      <td>0.292516</td>\n",
       "    </tr>\n",
       "    <tr>\n",
       "      <th>2020-10-03</th>\n",
       "      <td>4.023777</td>\n",
       "      <td>4.490904</td>\n",
       "      <td>-0.173572</td>\n",
       "      <td>-0.293555</td>\n",
       "    </tr>\n",
       "  </tbody>\n",
       "</table>\n",
       "</div>"
      ],
      "text/plain": [
       "            conversion_rate     trend  seasonal  residual\n",
       "Date                                                     \n",
       "2020-09-24         4.027778       NaN  0.082521       NaN\n",
       "2020-09-25         4.168275       NaN -0.082163       NaN\n",
       "2020-09-26         3.608737       NaN -0.173572       NaN\n",
       "2020-09-27         3.133274  3.908805 -0.180952 -0.594578\n",
       "2020-09-28         4.307583  4.002724  0.127297  0.177562\n",
       "2020-09-29         4.647984  4.072091  0.108560  0.467332\n",
       "2020-09-30         3.468001  4.131383  0.118310 -0.781691\n",
       "2020-10-01         4.685212  4.370754  0.082521  0.231937\n",
       "2020-10-02         4.653846  4.443493 -0.082163  0.292516\n",
       "2020-10-03         4.023777  4.490904 -0.173572 -0.293555"
      ]
     },
     "execution_count": 44,
     "metadata": {},
     "output_type": "execute_result"
    }
   ],
   "source": [
    "import statsmodels.api as sm\n",
    "\n",
    "conversion = temp_funnel['conversion']\n",
    "conversion.index = pd.to_datetime(conversion.index)\n",
    "conversion_index = conversion.index\n",
    "\n",
    "s = sm.tsa.seasonal_decompose(conversion, model = 'additive')\n",
    "\n",
    "decompose_data = pd.DataFrame({'Date' : conversion_index, 'conversion_rate' : conversion.values, 'trend' : s.trend, 'seasonal' : s.seasonal, 'residual' : s.resid})\n",
    "decompose_data = decompose_data.set_index('Date', drop = True)\n",
    "decompose_data.head(10)"
   ]
  },
  {
   "cell_type": "code",
   "execution_count": 45,
   "id": "fb58855e",
   "metadata": {
    "colab": {
     "base_uri": "https://localhost:8080/",
     "height": 506
    },
    "executionInfo": {
     "elapsed": 2732,
     "status": "ok",
     "timestamp": 1707832881493,
     "user": {
      "displayName": "Jeong Gyu Lee",
      "userId": "08214646354511941606"
     },
     "user_tz": -540
    },
    "id": "fb58855e",
    "outputId": "1ad08168-1f86-434b-b4e4-893c4cbea6fe",
    "scrolled": false
   },
   "outputs": [
    {
     "data": {
      "image/png": "[encoded data removed]",
      "text/plain": [
       "<Figure size 640x480 with 4 Axes>"
      ]
     },
     "metadata": {},
     "output_type": "display_data"
    }
   ],
   "source": [
    "import matplotlib.pyplot as plt\n",
    "\n",
    "s.plot()\n",
    "#plt.clf()\n",
    "#s.plot()\n",
    "plt.show();"
   ]
  },
  {
   "cell_type": "markdown",
   "id": "65e949a9",
   "metadata": {
    "id": "65e949a9"
   },
   "source": [
    "- 뚜렷한 추세보다는 강한 계절성 포착\n",
    "- 승법모형의 경우 rasidual이 1에서 안정적이지만 양수에서 일종의 패턴을 보임. 즉, random하다고 보기 어려우므로 가법모형 사용"
   ]
  },
  {
   "cell_type": "markdown",
   "id": "1e5022f8",
   "metadata": {
    "id": "1e5022f8"
   },
   "source": [
    "## 정상성 검정"
   ]
  },
  {
   "cell_type": "code",
   "execution_count": 46,
   "id": "80dc2fca",
   "metadata": {
    "executionInfo": {
     "elapsed": 338,
     "status": "ok",
     "timestamp": 1707832920602,
     "user": {
      "displayName": "Jeong Gyu Lee",
      "userId": "08214646354511941606"
     },
     "user_tz": -540
    },
    "id": "80dc2fca"
   },
   "outputs": [],
   "source": [
    "from statsmodels.graphics.tsaplots import plot_acf, plot_pacf"
   ]
  },
  {
   "cell_type": "code",
   "execution_count": 47,
   "id": "188b2fa6",
   "metadata": {
    "colab": {
     "base_uri": "https://localhost:8080/",
     "height": 887
    },
    "executionInfo": {
     "elapsed": 678,
     "status": "ok",
     "timestamp": 1707832922599,
     "user": {
      "displayName": "Jeong Gyu Lee",
      "userId": "08214646354511941606"
     },
     "user_tz": -540
    },
    "id": "188b2fa6",
    "outputId": "d00a209c-4f9e-4c3c-e293-963aa85c82d2"
   },
   "outputs": [
    {
     "data": {
      "image/png": "[encoded data removed]",
      "text/plain": [
       "<Figure size 640x480 with 1 Axes>"
      ]
     },
     "metadata": {},
     "output_type": "display_data"
    },
    {
     "data": {
      "image/png": "[encoded data removed]",
      "text/plain": [
       "<Figure size 640x480 with 1 Axes>"
      ]
     },
     "metadata": {},
     "output_type": "display_data"
    }
   ],
   "source": [
    "plot_acf(conversion_rate['conversion'])\n",
    "plt.show()\n",
    "\n",
    "plot_pacf(conversion_rate['conversion'])\n",
    "plt.show()"
   ]
  },
  {
   "cell_type": "markdown",
   "id": "5895f10a",
   "metadata": {
    "id": "5895f10a"
   },
   "source": [
    "- 디키풀러 테스트\n",
    "    - 귀무가설: 시계열 자료가 정상 시계열이 아니다.\n",
    "    - 대립가설: 시계열 자료가 정상 시계열이다.\n",
    "    \n",
    "- Kpass 테스트\n",
    "    - 귀무가설: 시계열 자료가 정상 시계열이다.\n",
    "    - 대립가설: 시계열 자료가 정상 시계열이 아니다.    "
   ]
  },
  {
   "cell_type": "code",
   "execution_count": 48,
   "id": "b895796d",
   "metadata": {
    "executionInfo": {
     "elapsed": 339,
     "status": "ok",
     "timestamp": 1707832929352,
     "user": {
      "displayName": "Jeong Gyu Lee",
      "userId": "08214646354511941606"
     },
     "user_tz": -540
    },
    "id": "b895796d"
   },
   "outputs": [],
   "source": [
    "from statsmodels.tsa.stattools import adfuller\n",
    "from statsmodels.tsa.stattools import kpss\n",
    "\n",
    "# Dickey-Fuller test\n",
    "def stationarity_test(x):\n",
    "    result_aic = adfuller(x, autolag='AIC')\n",
    "    print('디키풀러 테스트(AIC)')\n",
    "    print('-' * 100)\n",
    "    print('Test statistic: ' , result_aic[0])\n",
    "    print('p-value: '  ,result_aic[1])\n",
    "    print('Critical Values:' ,result_aic[4])\n",
    "    print('-' * 100)\n",
    "\n",
    "    print('')\n",
    "\n",
    "    kpss_test = kpss(x, regression='ct', nlags='auto')\n",
    "    print('Kpass 테스트')\n",
    "    print('-' * 100)\n",
    "    print('Test statistic: ' , kpss_test[0])\n",
    "    print('p-value: '  ,kpss_test[1])\n",
    "    print('Critical Values:' ,kpss_test[3])\n",
    "    print('-' * 100)\n",
    "\n",
    "# Check mean & std\n",
    "def check_mean_std(x):\n",
    "\n",
    "    rolmean = x.rolling(window = 5).mean()\n",
    "    rolstd = x.rolling(window = 5).std()\n",
    "\n",
    "    plt.figure(figsize=(22,10))\n",
    "    orig = plt.plot(x, color='red',label='Original')\n",
    "    mean = plt.plot(rolmean, color='black', label='Rolling Mean')\n",
    "    std = plt.plot(rolstd, color='green', label = 'Rolling Std')\n",
    "    plt.xlabel(\"Date\")\n",
    "    plt.ylabel(\"conversion rate\")\n",
    "    plt.title('Rolling Mean & Standard Deviation', fontsize = 20)\n",
    "    plt.xticks(rotation = 90)\n",
    "    plt.legend()\n",
    "    plt.show()"
   ]
  },
  {
   "cell_type": "code",
   "execution_count": 49,
   "id": "fbc83420",
   "metadata": {
    "colab": {
     "base_uri": "https://localhost:8080/",
     "height": 952
    },
    "executionInfo": {
     "elapsed": 1363,
     "status": "ok",
     "timestamp": 1707832933254,
     "user": {
      "displayName": "Jeong Gyu Lee",
      "userId": "08214646354511941606"
     },
     "user_tz": -540
    },
    "id": "fbc83420",
    "outputId": "73bcc068-17c1-4e40-af96-bfc8a7a104cd"
   },
   "outputs": [
    {
     "name": "stdout",
     "output_type": "stream",
     "text": [
      "디키풀러 테스트(AIC)\n",
      "----------------------------------------------------------------------------------------------------\n",
      "Test statistic:  -5.60633586809553\n",
      "p-value:  1.231806188701551e-06\n",
      "Critical Values: {'1%': -3.506944401824286, '5%': -2.894989819214876, '10%': -2.584614550619835}\n",
      "----------------------------------------------------------------------------------------------------\n",
      "\n",
      "Kpass 테스트\n",
      "----------------------------------------------------------------------------------------------------\n",
      "Test statistic:  0.07766411850518205\n",
      "p-value:  0.1\n",
      "Critical Values: {'10%': 0.119, '5%': 0.146, '2.5%': 0.176, '1%': 0.216}\n",
      "----------------------------------------------------------------------------------------------------\n"
     ]
    },
    {
     "name": "stderr",
     "output_type": "stream",
     "text": [
      "C:\\Users\\LG\\AppData\\Local\\Temp\\ipykernel_36436\\4117159445.py:16: InterpolationWarning: The test statistic is outside of the range of p-values available in the\n",
      "look-up table. The actual p-value is greater than the p-value returned.\n",
      "\n",
      "  kpss_test = kpss(x, regression='ct', nlags='auto')\n"
     ]
    },
    {
     "data": {
      "image/png": "[encoded data removed]",
      "text/plain": [
       "<Figure size 2200x1000 with 1 Axes>"
      ]
     },
     "metadata": {},
     "output_type": "display_data"
    }
   ],
   "source": [
    "stationarity_test(conversion_rate)\n",
    "check_mean_std(conversion_rate.conversion)"
   ]
  },
  {
   "cell_type": "markdown",
   "id": "450deb84",
   "metadata": {
    "id": "450deb84"
   },
   "source": [
    "- 디키풀러 test에서는 정상성을 만족하는 것으로 보임\n",
    "- 다만, ACF&PACF의 형태, Kpass 결과 등에 근거하여 1차 차분을 진행하기로 함"
   ]
  },
  {
   "cell_type": "code",
   "execution_count": 50,
   "id": "Bkd4WBvTxvX4",
   "metadata": {
    "colab": {
     "base_uri": "https://localhost:8080/"
    },
    "executionInfo": {
     "elapsed": 8384,
     "status": "ok",
     "timestamp": 1707832994000,
     "user": {
      "displayName": "Jeong Gyu Lee",
      "userId": "08214646354511941606"
     },
     "user_tz": -540
    },
    "id": "Bkd4WBvTxvX4",
    "outputId": "576cd9e7-7c2a-46e4-89d2-0aa126be1dbc"
   },
   "outputs": [
    {
     "name": "stdout",
     "output_type": "stream",
     "text": [
      "Requirement already satisfied: pmdarima in c:\\programdata\\anaconda3\\lib\\site-packages (2.0.4)\n",
      "Requirement already satisfied: joblib>=0.11 in c:\\programdata\\anaconda3\\lib\\site-packages (from pmdarima) (1.2.0)\n",
      "Requirement already satisfied: Cython!=0.29.18,!=0.29.31,>=0.29 in c:\\programdata\\anaconda3\\lib\\site-packages (from pmdarima) (3.0.8)\n",
      "Requirement already satisfied: numpy>=1.21.2 in c:\\programdata\\anaconda3\\lib\\site-packages (from pmdarima) (1.24.3)\n",
      "Requirement already satisfied: pandas>=0.19 in c:\\programdata\\anaconda3\\lib\\site-packages (from pmdarima) (2.0.3)\n",
      "Requirement already satisfied: scikit-learn>=0.22 in c:\\programdata\\anaconda3\\lib\\site-packages (from pmdarima) (1.3.0)\n",
      "Requirement already satisfied: scipy>=1.3.2 in c:\\programdata\\anaconda3\\lib\\site-packages (from pmdarima) (1.11.1)\n",
      "Requirement already satisfied: statsmodels>=0.13.2 in c:\\programdata\\anaconda3\\lib\\site-packages (from pmdarima) (0.14.0)\n",
      "Requirement already satisfied: urllib3 in c:\\programdata\\anaconda3\\lib\\site-packages (from pmdarima) (1.26.16)\n",
      "Requirement already satisfied: setuptools!=50.0.0,>=38.6.0 in c:\\programdata\\anaconda3\\lib\\site-packages (from pmdarima) (68.0.0)\n",
      "Requirement already satisfied: packaging>=17.1 in c:\\programdata\\anaconda3\\lib\\site-packages (from pmdarima) (23.1)\n",
      "Requirement already satisfied: python-dateutil>=2.8.2 in c:\\programdata\\anaconda3\\lib\\site-packages (from pandas>=0.19->pmdarima) (2.8.2)\n",
      "Requirement already satisfied: pytz>=2020.1 in c:\\programdata\\anaconda3\\lib\\site-packages (from pandas>=0.19->pmdarima) (2023.3.post1)\n",
      "Requirement already satisfied: tzdata>=2022.1 in c:\\programdata\\anaconda3\\lib\\site-packages (from pandas>=0.19->pmdarima) (2023.3)\n",
      "Requirement already satisfied: threadpoolctl>=2.0.0 in c:\\programdata\\anaconda3\\lib\\site-packages (from scikit-learn>=0.22->pmdarima) (2.2.0)\n",
      "Requirement already satisfied: patsy>=0.5.2 in c:\\programdata\\anaconda3\\lib\\site-packages (from statsmodels>=0.13.2->pmdarima) (0.5.3)\n",
      "Requirement already satisfied: six in c:\\programdata\\anaconda3\\lib\\site-packages (from patsy>=0.5.2->statsmodels>=0.13.2->pmdarima) (1.16.0)\n"
     ]
    }
   ],
   "source": [
    "!pip install pmdarima"
   ]
  },
  {
   "cell_type": "code",
   "execution_count": 52,
   "id": "ZBU3GFZzMowz",
   "metadata": {
    "colab": {
     "base_uri": "https://localhost:8080/"
    },
    "executionInfo": {
     "elapsed": 337,
     "status": "ok",
     "timestamp": 1707833145120,
     "user": {
      "displayName": "Jeong Gyu Lee",
      "userId": "08214646354511941606"
     },
     "user_tz": -540
    },
    "id": "ZBU3GFZzMowz",
    "outputId": "7a0c96a7-ee9e-4f17-cc55-5d3adef03872"
   },
   "outputs": [
    {
     "name": "stdout",
     "output_type": "stream",
     "text": [
      "디키풀러에 의한 최적 차분 차수 :  0\n"
     ]
    }
   ],
   "source": [
    "import pmdarima as pm\n",
    "from pmdarima.arima import ndiffs\n",
    "\n",
    "adf_diffs = ndiffs(conversion_rate.values, alpha=0.05, test='adf', max_d=6)\n",
    "\n",
    "print(\"디키풀러에 의한 최적 차분 차수 : \", adf_diffs)"
   ]
  },
  {
   "cell_type": "markdown",
   "id": "ff58ea05",
   "metadata": {
    "id": "ff58ea05"
   },
   "source": [
    "# 시계열 예측"
   ]
  },
  {
   "cell_type": "markdown",
   "id": "s7DXNU8QO-Nh",
   "metadata": {
    "id": "s7DXNU8QO-Nh"
   },
   "source": [
    "## DATA SPLIT"
   ]
  },
  {
   "cell_type": "code",
   "execution_count": 53,
   "id": "QhvO0ZA3OnM_",
   "metadata": {
    "executionInfo": {
     "elapsed": 2,
     "status": "ok",
     "timestamp": 1707833066682,
     "user": {
      "displayName": "Jeong Gyu Lee",
      "userId": "08214646354511941606"
     },
     "user_tz": -540
    },
    "id": "QhvO0ZA3OnM_"
   },
   "outputs": [],
   "source": [
    "from sklearn.model_selection import train_test_split\n",
    "train, test = train_test_split(conversion_rate['conversion'], test_size = 0.3, shuffle = False)"
   ]
  },
  {
   "cell_type": "code",
   "execution_count": 54,
   "id": "LvbQFrYlVxSw",
   "metadata": {
    "colab": {
     "base_uri": "https://localhost:8080/"
    },
    "executionInfo": {
     "elapsed": 3,
     "status": "ok",
     "timestamp": 1707833067900,
     "user": {
      "displayName": "Jeong Gyu Lee",
      "userId": "08214646354511941606"
     },
     "user_tz": -540
    },
    "id": "LvbQFrYlVxSw",
    "outputId": "d79b3abe-e878-46d1-af32-2362815d23d7"
   },
   "outputs": [
    {
     "data": {
      "text/plain": [
       "Date\n",
       "2020-11-15    3.963084\n",
       "2020-11-16    4.466859\n",
       "2020-11-17    4.289668\n",
       "2020-11-18    5.085125\n",
       "2020-11-19    4.130010\n",
       "2020-11-20    4.326923\n",
       "2020-11-21    3.710625\n",
       "2020-11-22    4.154863\n",
       "2020-11-23    4.892761\n",
       "2020-11-24    5.207969\n",
       "Name: conversion, dtype: float64"
      ]
     },
     "execution_count": 54,
     "metadata": {},
     "output_type": "execute_result"
    }
   ],
   "source": [
    "train.tail(10)"
   ]
  },
  {
   "cell_type": "code",
   "execution_count": 55,
   "id": "4MvmWAVNVz6B",
   "metadata": {
    "colab": {
     "base_uri": "https://localhost:8080/"
    },
    "executionInfo": {
     "elapsed": 2,
     "status": "ok",
     "timestamp": 1707833068930,
     "user": {
      "displayName": "Jeong Gyu Lee",
      "userId": "08214646354511941606"
     },
     "user_tz": -540
    },
    "id": "4MvmWAVNVz6B",
    "outputId": "6aed5cee-e998-4e4e-f833-9667c2f2e127"
   },
   "outputs": [
    {
     "data": {
      "text/plain": [
       "Date\n",
       "2020-11-25    4.699739\n",
       "2020-11-26    4.118616\n",
       "2020-11-27    4.232633\n",
       "2020-11-28    3.620274\n",
       "2020-11-29    5.003940\n",
       "2020-11-30    5.676411\n",
       "2020-12-01    5.043541\n",
       "2020-12-02    4.245451\n",
       "2020-12-03    5.021994\n",
       "2020-12-04    3.774290\n",
       "Name: conversion, dtype: float64"
      ]
     },
     "execution_count": 55,
     "metadata": {},
     "output_type": "execute_result"
    }
   ],
   "source": [
    "test.head(10)"
   ]
  },
  {
   "cell_type": "markdown",
   "id": "640e12af",
   "metadata": {
    "id": "640e12af"
   },
   "source": [
    "## ARIMA"
   ]
  },
  {
   "cell_type": "code",
   "execution_count": 56,
   "id": "bba70d3a",
   "metadata": {
    "executionInfo": {
     "elapsed": 450,
     "status": "ok",
     "timestamp": 1707833173337,
     "user": {
      "displayName": "Jeong Gyu Lee",
      "userId": "08214646354511941606"
     },
     "user_tz": -540
    },
    "id": "bba70d3a",
    "scrolled": true
   },
   "outputs": [],
   "source": [
    "import pmdarima as pm"
   ]
  },
  {
   "cell_type": "markdown",
   "id": "mcioVxA0UvSP",
   "metadata": {
    "id": "mcioVxA0UvSP"
   },
   "source": [
    "### 모델링"
   ]
  },
  {
   "cell_type": "code",
   "execution_count": 57,
   "id": "f118f382",
   "metadata": {
    "colab": {
     "base_uri": "https://localhost:8080/"
    },
    "executionInfo": {
     "elapsed": 2597,
     "status": "ok",
     "timestamp": 1707838631453,
     "user": {
      "displayName": "Jeong Gyu Lee",
      "userId": "08214646354511941606"
     },
     "user_tz": -540
    },
    "id": "f118f382",
    "outputId": "de21305c-50c4-40ab-ce0c-2292a6f79105"
   },
   "outputs": [
    {
     "name": "stdout",
     "output_type": "stream",
     "text": [
      "Performing stepwise search to minimize aic\n",
      " ARIMA(0,1,0)(0,0,0)[0] intercept   : AIC=107.350, Time=0.02 sec\n",
      " ARIMA(1,1,0)(0,0,0)[0] intercept   : AIC=104.925, Time=0.02 sec\n",
      " ARIMA(0,1,1)(0,0,0)[0] intercept   : AIC=inf, Time=0.09 sec\n",
      " ARIMA(0,1,0)(0,0,0)[0]             : AIC=105.421, Time=0.01 sec\n",
      " ARIMA(2,1,0)(0,0,0)[0] intercept   : AIC=101.822, Time=0.02 sec\n",
      " ARIMA(3,1,0)(0,0,0)[0] intercept   : AIC=100.038, Time=0.03 sec\n",
      " ARIMA(4,1,0)(0,0,0)[0] intercept   : AIC=101.329, Time=0.04 sec\n",
      " ARIMA(3,1,1)(0,0,0)[0] intercept   : AIC=inf, Time=0.19 sec\n",
      " ARIMA(2,1,1)(0,0,0)[0] intercept   : AIC=inf, Time=0.20 sec\n",
      " ARIMA(4,1,1)(0,0,0)[0] intercept   : AIC=inf, Time=0.24 sec\n",
      " ARIMA(3,1,0)(0,0,0)[0]             : AIC=98.264, Time=0.02 sec\n",
      " ARIMA(2,1,0)(0,0,0)[0]             : AIC=99.976, Time=0.01 sec\n",
      " ARIMA(4,1,0)(0,0,0)[0]             : AIC=99.578, Time=0.03 sec\n",
      " ARIMA(3,1,1)(0,0,0)[0]             : AIC=94.187, Time=0.06 sec\n",
      " ARIMA(2,1,1)(0,0,0)[0]             : AIC=92.209, Time=0.06 sec\n",
      " ARIMA(1,1,1)(0,0,0)[0]             : AIC=90.595, Time=0.05 sec\n",
      " ARIMA(0,1,1)(0,0,0)[0]             : AIC=95.269, Time=0.02 sec\n",
      " ARIMA(1,1,0)(0,0,0)[0]             : AIC=103.030, Time=0.01 sec\n",
      " ARIMA(1,1,2)(0,0,0)[0]             : AIC=92.215, Time=0.09 sec\n",
      " ARIMA(0,1,2)(0,0,0)[0]             : AIC=90.495, Time=0.04 sec\n",
      " ARIMA(0,1,3)(0,0,0)[0]             : AIC=92.167, Time=0.05 sec\n",
      " ARIMA(1,1,3)(0,0,0)[0]             : AIC=92.336, Time=0.14 sec\n",
      " ARIMA(0,1,2)(0,0,0)[0] intercept   : AIC=inf, Time=0.10 sec\n",
      "\n",
      "Best model:  ARIMA(0,1,2)(0,0,0)[0]          \n",
      "Total fit time: 1.546 seconds\n"
     ]
    }
   ],
   "source": [
    "model_arima = pm.auto_arima(train.values,\n",
    "                   start_p=0,\n",
    "                   start_q=0,\n",
    "                   max_p=6,\n",
    "                   max_q=6,\n",
    "                   m=1,\n",
    "                   d=1,\n",
    "                   seasonal=True,\n",
    "                   start_P=0,\n",
    "                   D=None,\n",
    "                   trace=True,\n",
    "                   error_action='ignore',\n",
    "                   suppress_warnings=True,\n",
    "                   stepwise=True)"
   ]
  },
  {
   "cell_type": "code",
   "execution_count": 58,
   "id": "QKu6RHuMLhIQ",
   "metadata": {
    "colab": {
     "base_uri": "https://localhost:8080/"
    },
    "executionInfo": {
     "elapsed": 3,
     "status": "ok",
     "timestamp": 1707838631453,
     "user": {
      "displayName": "Jeong Gyu Lee",
      "userId": "08214646354511941606"
     },
     "user_tz": -540
    },
    "id": "QKu6RHuMLhIQ",
    "outputId": "794eb8a8-dda8-48c9-b114-f508b898cf56"
   },
   "outputs": [
    {
     "name": "stdout",
     "output_type": "stream",
     "text": [
      "                               SARIMAX Results                                \n",
      "==============================================================================\n",
      "Dep. Variable:                      y   No. Observations:                   62\n",
      "Model:               SARIMAX(0, 1, 2)   Log Likelihood                 -42.247\n",
      "Date:                Sat, 17 Feb 2024   AIC                             90.495\n",
      "Time:                        01:52:05   BIC                             96.827\n",
      "Sample:                             0   HQIC                            92.976\n",
      "                                 - 62                                         \n",
      "Covariance Type:                  opg                                         \n",
      "==============================================================================\n",
      "                 coef    std err          z      P>|z|      [0.025      0.975]\n",
      "------------------------------------------------------------------------------\n",
      "ma.L1         -0.5935      0.111     -5.352      0.000      -0.811      -0.376\n",
      "ma.L2         -0.3243      0.144     -2.251      0.024      -0.607      -0.042\n",
      "sigma2         0.2275      0.050      4.546      0.000       0.129       0.326\n",
      "===================================================================================\n",
      "Ljung-Box (L1) (Q):                   0.00   Jarque-Bera (JB):                 1.93\n",
      "Prob(Q):                              0.96   Prob(JB):                         0.38\n",
      "Heteroskedasticity (H):               1.14   Skew:                             0.25\n",
      "Prob(H) (two-sided):                  0.77   Kurtosis:                         2.29\n",
      "===================================================================================\n",
      "\n",
      "Warnings:\n",
      "[1] Covariance matrix calculated using the outer product of gradients (complex-step).\n"
     ]
    }
   ],
   "source": [
    "print(model_arima.summary())"
   ]
  },
  {
   "cell_type": "markdown",
   "id": "NRib8SvCRfdL",
   "metadata": {
    "id": "NRib8SvCRfdL"
   },
   "source": [
    "- Ljung-box = 0.00\n",
    "    - 자기상관이 있는 것으로 보이나 추가로 차분을 진행하지는 않기로 함(추가 차분 시 MAPE 커지고 신뢰구간 확대됨 - 정보손실)\n",
    "- Jarque-bera = 1.93\n",
    "    - 귀무가설 채택, 정규분포 형태라고 판단\n",
    "- Heterokedasticity = 1.14\n",
    "    - 귀무가설 채택, 등분산성을 갖는다고 판단"
   ]
  },
  {
   "cell_type": "code",
   "execution_count": 59,
   "id": "9Z6djehgURao",
   "metadata": {
    "colab": {
     "base_uri": "https://localhost:8080/",
     "height": 646
    },
    "executionInfo": {
     "elapsed": 1646,
     "status": "ok",
     "timestamp": 1707838633098,
     "user": {
      "displayName": "Jeong Gyu Lee",
      "userId": "08214646354511941606"
     },
     "user_tz": -540
    },
    "id": "9Z6djehgURao",
    "outputId": "c632114e-4a19-4b14-987a-8f17eeacb2ef"
   },
   "outputs": [
    {
     "data": {
      "image/png": "[encoded data removed]",
      "text/plain": [
       "<Figure size 1600x800 with 4 Axes>"
      ]
     },
     "metadata": {},
     "output_type": "display_data"
    }
   ],
   "source": [
    "model_arima.plot_diagnostics(figsize=(16, 8))\n",
    "plt.show()"
   ]
  },
  {
   "cell_type": "markdown",
   "id": "uB9S1hOyU1tE",
   "metadata": {
    "id": "uB9S1hOyU1tE"
   },
   "source": [
    "### 평가"
   ]
  },
  {
   "cell_type": "code",
   "execution_count": 60,
   "id": "Ly8Nl4BKUUc7",
   "metadata": {
    "executionInfo": {
     "elapsed": 551,
     "status": "ok",
     "timestamp": 1707838633642,
     "user": {
      "displayName": "Jeong Gyu Lee",
      "userId": "08214646354511941606"
     },
     "user_tz": -540
    },
    "id": "Ly8Nl4BKUUc7"
   },
   "outputs": [],
   "source": [
    "def forecast_one_step():\n",
    "    fc, conf_int = model_arima.predict(n_periods=1, return_conf_int=True)\n",
    "    # fc는 결과물, conf_int는 신뢰구간이며 tuple의 형태로 2열로 생성\n",
    "    # return_conf_int : 신뢰구간 출력 여부\n",
    "    # fc, conf_int로 저장한 결과\n",
    "    return (\n",
    "        fc.tolist()[0],\n",
    "        np.asarray(conf_int).tolist()[0]\n",
    "        # 각 리스트에 대해 맨 처음 데이터만을 출력한다.\n",
    "    )\n",
    "\n",
    "pred_arima = []\n",
    "pred_upper = []\n",
    "pred_lower = []\n",
    "\n",
    "for new_ob in test:\n",
    "    fc, conf = forecast_one_step()\n",
    "\n",
    "    pred_arima.append(fc)\n",
    "    pred_upper.append(conf[1])\n",
    "    pred_lower.append(conf[0])\n",
    "\n",
    "    model_arima.update(new_ob) # 새로운 관측치 업데이트"
   ]
  },
  {
   "cell_type": "code",
   "execution_count": 61,
   "id": "fEIcOrFOUnWz",
   "metadata": {
    "colab": {
     "base_uri": "https://localhost:8080/"
    },
    "executionInfo": {
     "elapsed": 2,
     "status": "ok",
     "timestamp": 1707838633642,
     "user": {
      "displayName": "Jeong Gyu Lee",
      "userId": "08214646354511941606"
     },
     "user_tz": -540
    },
    "id": "fEIcOrFOUnWz",
    "outputId": "e3af2e53-1bb6-4a4d-9018-49fc564acec9"
   },
   "outputs": [
    {
     "data": {
      "text/plain": [
       "Date\n",
       "2020-11-25    4.710828\n",
       "2020-11-26    4.516886\n",
       "2020-11-27    4.354433\n",
       "2020-11-28    4.433738\n",
       "2020-11-29    4.128366\n",
       "2020-11-30    4.711790\n",
       "2020-12-01    4.820778\n",
       "2020-12-02    4.586774\n",
       "2020-12-03    4.381628\n",
       "2020-12-04    4.763777\n",
       "2020-12-05    4.184860\n",
       "2020-12-06    4.524269\n",
       "2020-12-07    4.290262\n",
       "2020-12-08    4.663069\n",
       "2020-12-09    4.534469\n",
       "2020-12-10    4.530485\n",
       "2020-12-11    4.452605\n",
       "2020-12-12    4.402426\n",
       "2020-12-13    4.678117\n",
       "2020-12-14    4.563280\n",
       "2020-12-15    4.946532\n",
       "2020-12-16    4.580582\n",
       "2020-12-17    4.911039\n",
       "2020-12-18    5.045481\n",
       "2020-12-19    5.146675\n",
       "2020-12-20    5.301641\n",
       "2020-12-21    4.915110\n",
       "Name: pred, dtype: float64"
      ]
     },
     "execution_count": 61,
     "metadata": {},
     "output_type": "execute_result"
    }
   ],
   "source": [
    "test_predict_arima = pd.DataFrame({\"test\": test, \"pred\": pred_arima})\n",
    "predict_arima = test_predict_arima['pred']\n",
    "predict_arima"
   ]
  },
  {
   "cell_type": "code",
   "execution_count": 62,
   "id": "Gs0XvMk5qoVX",
   "metadata": {
    "colab": {
     "base_uri": "https://localhost:8080/",
     "height": 522
    },
    "executionInfo": {
     "elapsed": 671,
     "status": "ok",
     "timestamp": 1707838634311,
     "user": {
      "displayName": "Jeong Gyu Lee",
      "userId": "08214646354511941606"
     },
     "user_tz": -540
    },
    "id": "Gs0XvMk5qoVX",
    "outputId": "06ae630a-f66c-4d0d-adae-ffd5fc8d26fa"
   },
   "outputs": [
    {
     "data": {
      "image/png": "[encoded data removed]",
      "text/plain": [
       "<Figure size 1200x600 with 1 Axes>"
      ]
     },
     "metadata": {},
     "output_type": "display_data"
    }
   ],
   "source": [
    "pred_idx_date = list(test.index)\n",
    "pred_idx_int = range(int(0.7*len(conversion_rate)), int(len(conversion_rate)), 1)\n",
    "train_idx_int = range(0, int(len(conversion_rate)), 1)\n",
    "\n",
    "fig, ax = plt.subplots(figsize = (12, 6))\n",
    "\n",
    "ax.plot(train_idx_int, conversion_rate.values)\n",
    "ax.vlines(pred_idx_int[0], 2, 7, linestyle = '--', color = 'r', label = \"Start of Forecast\")\n",
    "ax.plot(pred_idx_int, predict_arima, label = \"Prediction\")\n",
    "ax.fill_between(pred_idx_int, pred_lower, pred_upper, color = 'k', alpha = 0.1, label = '0.95 Prediction Interval')\n",
    "plt.legend(loc = 2)\n",
    "plt.show()"
   ]
  },
  {
   "cell_type": "code",
   "execution_count": 63,
   "id": "53vTBiYMbV0j",
   "metadata": {
    "colab": {
     "base_uri": "https://localhost:8080/"
    },
    "executionInfo": {
     "elapsed": 6,
     "status": "ok",
     "timestamp": 1707838634311,
     "user": {
      "displayName": "Jeong Gyu Lee",
      "userId": "08214646354511941606"
     },
     "user_tz": -540
    },
    "id": "53vTBiYMbV0j",
    "outputId": "4ca66492-064b-4619-f47e-653909f5dd4f"
   },
   "outputs": [
    {
     "name": "stdout",
     "output_type": "stream",
     "text": [
      "MAPE (%): 10.062\n"
     ]
    }
   ],
   "source": [
    "def MAPE(test, pred):\n",
    "\treturn np.mean(np.abs((test - pred) / test)) * 100\n",
    "\n",
    "print(f\"MAPE (%): {MAPE(test, predict_arima):.3f}\")"
   ]
  },
  {
   "cell_type": "markdown",
   "id": "Cdgqa1pdFuXv",
   "metadata": {
    "id": "Cdgqa1pdFuXv"
   },
   "source": [
    "### 예측"
   ]
  },
  {
   "cell_type": "code",
   "execution_count": 64,
   "id": "IDn2P4Yv43jf",
   "metadata": {
    "colab": {
     "base_uri": "https://localhost:8080/"
    },
    "executionInfo": {
     "elapsed": 8,
     "status": "ok",
     "timestamp": 1707840269046,
     "user": {
      "displayName": "Jeong Gyu Lee",
      "userId": "08214646354511941606"
     },
     "user_tz": -540
    },
    "id": "IDn2P4Yv43jf",
    "outputId": "bde9f750-66d9-4fbe-9122-6ac7a9810a96"
   },
   "outputs": [
    {
     "name": "stdout",
     "output_type": "stream",
     "text": [
      "2020-12-22 예측값\n",
      "점추정 :  5.110303906226632\n",
      "신뢰구간 :  [4.101036162302563, 6.119571650150702]\n"
     ]
    }
   ],
   "source": [
    "from datetime import datetime, timedelta\n",
    "\n",
    "def forecast_one_step():\n",
    "    fc, conf_int = model_arima.predict(n_periods=1, return_conf_int=True)\n",
    "    # fc는 결과물, conf_int는 신뢰구간이며 tuple의 형태로 2열로 생성\n",
    "    # return_conf_int : 신뢰구간 출력 여부\n",
    "    # fc, conf_int로 저장한 결과\n",
    "    return (\n",
    "        fc.tolist()[0],\n",
    "        np.asarray(conf_int).tolist()[0]\n",
    "        # 각 리스트에 대해 맨 처음 데이터만을 출력한다.\n",
    "    )\n",
    "\n",
    "def forecast_step_arima():\n",
    "\n",
    "    fc, conf = forecast_one_step()\n",
    "\n",
    "    conf_list = [conf[0], conf[1]]\n",
    "\n",
    "    time_index = conversion_rate.index[-1] + timedelta(days = 1)\n",
    "\n",
    "    print(time_index.date(), \"예측값\")\n",
    "    print(\"점추정 : \", fc)\n",
    "    print(\"신뢰구간 : \", conf_list)\n",
    "\n",
    "forecast_step_arima()"
   ]
  }
 ],
 "metadata": {
  "colab": {
   "provenance": [],
   "toc_visible": true
  },
  "kernelspec": {
   "display_name": "Python 3 (ipykernel)",
   "language": "python",
   "name": "python3"
  },
  "language_info": {
   "codemirror_mode": {
    "name": "ipython",
    "version": 3
   },
   "file_extension": ".py",
   "mimetype": "text/x-python",
   "name": "python",
   "nbconvert_exporter": "python",
   "pygments_lexer": "ipython3",
   "version": "3.11.5"
  },
  "toc": {
   "base_numbering": 1,
   "nav_menu": {},
   "number_sections": true,
   "sideBar": true,
   "skip_h1_title": false,
   "title_cell": "Table of Contents",
   "title_sidebar": "Contents",
   "toc_cell": false,
   "toc_position": {
    "height": "calc(100% - 180px)",
    "left": "10px",
    "top": "150px",
    "width": "255.594px"
   },
   "toc_section_display": true,
   "toc_window_display": true
  }
 },
 "nbformat": 4,
 "nbformat_minor": 5
}
