{
 "cells": [
  {
   "cell_type": "markdown",
   "id": "187ae1bb",
   "metadata": {},
   "source": [
    "# Football 데이터분석"
   ]
  },
  {
   "cell_type": "markdown",
   "id": "24c05e6d",
   "metadata": {},
   "source": [
    "## 아이디어"
   ]
  },
  {
   "cell_type": "markdown",
   "id": "bfb9ff1e",
   "metadata": {},
   "source": [
    "- 경기 결과(승/패/무)에 대해 예측하는 모델\n",
    "    - 로지스틱 회귀\n",
    "    - 그래디언트 부스트\n",
    "    - 나이브 베이즈\n",
    "    - 다층 퍼셉트론(MLP)\n",
    "- 독립변수로 아래 항목들을 포함한 게임 데이터 활용\n",
    "    - 각 팀의 직전 5개 게임 평균 골 횟수\n",
    "    - 각 팀의 직전 5개 게임 평균 어시스트 수\n",
    "    - 각 팀의 직전 5개 게임 평균 반칙 횟수\n",
    "    - 각 팀의 포메이션\n",
    "- 아래 데이터셋 활용\n",
    "    - games\n",
    "    - game_event\n",
    "    - player_valuations"
   ]
  },
  {
   "cell_type": "markdown",
   "id": "2e57e267",
   "metadata": {},
   "source": [
    "## EDA for each dataset"
   ]
  },
  {
   "cell_type": "code",
   "execution_count": 330,
   "id": "a120271d",
   "metadata": {},
   "outputs": [
    {
     "name": "stdout",
     "output_type": "stream",
     "text": [
      "Requirement already satisfied: missingno in c:\\programdata\\anaconda3\\lib\\site-packages (0.5.2)\n",
      "Requirement already satisfied: numpy in c:\\programdata\\anaconda3\\lib\\site-packages (from missingno) (1.24.3)\n",
      "Requirement already satisfied: matplotlib in c:\\programdata\\anaconda3\\lib\\site-packages (from missingno) (3.7.2)\n",
      "Requirement already satisfied: scipy in c:\\programdata\\anaconda3\\lib\\site-packages (from missingno) (1.11.1)\n",
      "Requirement already satisfied: seaborn in c:\\programdata\\anaconda3\\lib\\site-packages (from missingno) (0.12.2)\n",
      "Requirement already satisfied: contourpy>=1.0.1 in c:\\programdata\\anaconda3\\lib\\site-packages (from matplotlib->missingno) (1.0.5)\n",
      "Requirement already satisfied: cycler>=0.10 in c:\\programdata\\anaconda3\\lib\\site-packages (from matplotlib->missingno) (0.11.0)\n",
      "Requirement already satisfied: fonttools>=4.22.0 in c:\\programdata\\anaconda3\\lib\\site-packages (from matplotlib->missingno) (4.25.0)\n",
      "Requirement already satisfied: kiwisolver>=1.0.1 in c:\\programdata\\anaconda3\\lib\\site-packages (from matplotlib->missingno) (1.4.4)\n",
      "Requirement already satisfied: packaging>=20.0 in c:\\programdata\\anaconda3\\lib\\site-packages (from matplotlib->missingno) (23.1)\n",
      "Requirement already satisfied: pillow>=6.2.0 in c:\\programdata\\anaconda3\\lib\\site-packages (from matplotlib->missingno) (10.2.0)\n",
      "Requirement already satisfied: pyparsing<3.1,>=2.3.1 in c:\\programdata\\anaconda3\\lib\\site-packages (from matplotlib->missingno) (3.0.9)\n",
      "Requirement already satisfied: python-dateutil>=2.7 in c:\\programdata\\anaconda3\\lib\\site-packages (from matplotlib->missingno) (2.8.2)\n",
      "Requirement already satisfied: pandas>=0.25 in c:\\programdata\\anaconda3\\lib\\site-packages (from seaborn->missingno) (2.0.3)\n",
      "Requirement already satisfied: pytz>=2020.1 in c:\\programdata\\anaconda3\\lib\\site-packages (from pandas>=0.25->seaborn->missingno) (2023.3.post1)\n",
      "Requirement already satisfied: tzdata>=2022.1 in c:\\programdata\\anaconda3\\lib\\site-packages (from pandas>=0.25->seaborn->missingno) (2023.3)\n",
      "Requirement already satisfied: six>=1.5 in c:\\programdata\\anaconda3\\lib\\site-packages (from python-dateutil>=2.7->matplotlib->missingno) (1.16.0)\n",
      "Note: you may need to restart the kernel to use updated packages.\n"
     ]
    }
   ],
   "source": [
    "pip install missingno"
   ]
  },
  {
   "cell_type": "code",
   "execution_count": 664,
   "id": "cd6dc143",
   "metadata": {},
   "outputs": [],
   "source": [
    "import pandas as pd\n",
    "import numpy as np\n",
    "import missingno as msno\n",
    "import matplotlib.pyplot as plt\n",
    "from matplotlib import rcParams\n",
    "import seaborn as sns\n",
    "from scipy.stats import norm\n",
    "import statsmodels.api as sm\n",
    "from scipy.stats import shapiro\n",
    "from scipy.stats import anderson\n",
    "import os"
   ]
  },
  {
   "cell_type": "markdown",
   "id": "a520e7c7",
   "metadata": {},
   "source": [
    "### DATA 불러오기"
   ]
  },
  {
   "cell_type": "code",
   "execution_count": 332,
   "id": "3a2d7328",
   "metadata": {},
   "outputs": [
    {
     "name": "stderr",
     "output_type": "stream",
     "text": [
      "C:\\Users\\LG\\AppData\\Local\\Temp\\ipykernel_16332\\3831399221.py:11: DtypeWarning: Columns (4) have mixed types. Specify dtype option on import or set low_memory=False.\n",
      "  globals()[file_names[i]] = pd.read_csv(main_folder + \"/\" + file_list[i])\n"
     ]
    },
    {
     "data": {
      "text/plain": [
       "['appearances',\n",
       " 'clubs',\n",
       " 'club_games',\n",
       " 'competitions',\n",
       " 'games',\n",
       " 'game_events',\n",
       " 'game_lineups',\n",
       " 'players',\n",
       " 'player_valuations']"
      ]
     },
     "execution_count": 332,
     "metadata": {},
     "output_type": "execute_result"
    }
   ],
   "source": [
    "main_folder = r'C:/Users/LG/PythonDataWorkspace/DATA STUDY/240222 FOOTBAL DATA/DATA'\n",
    "\n",
    "file_list = os.listdir(main_folder)\n",
    "\n",
    "file_names = []\n",
    "for name in file_list:\n",
    "    parts = name.split(\".\")\n",
    "    file_names.append(parts[0])\n",
    "\n",
    "for i in range(len(file_list)):\n",
    "    globals()[file_names[i]] = pd.read_csv(main_folder + \"/\" + file_list[i])\n",
    "    \n",
    "file_names"
   ]
  },
  {
   "cell_type": "markdown",
   "id": "77a25d54",
   "metadata": {},
   "source": [
    "### EDA 함수"
   ]
  },
  {
   "cell_type": "markdown",
   "id": "073aac27",
   "metadata": {},
   "source": [
    "#### 결측치 확인"
   ]
  },
  {
   "cell_type": "code",
   "execution_count": 333,
   "id": "e5b901e2",
   "metadata": {},
   "outputs": [],
   "source": [
    "# 결측치 확인\n",
    "def null_check(df):\n",
    "    \n",
    "    print('[ 결측치 확인 ]')\n",
    "    print('')\n",
    "    print('-' * 35)\n",
    "\n",
    "    for column in df.columns:\n",
    "        if df[column].isna().sum() == 0:\n",
    "            pass\n",
    "        else:\n",
    "            print(column + \" 결측치 비율:\")\n",
    "            print(round(df[column].isna().sum() / len(df) * 100, 2), \"%\")\n",
    "            print('-' * 35)\n",
    "\n",
    "    msno.matrix(df = df, figsize = (5, 5), color = (0.8, 0.5, 0.2), fontsize = 7);"
   ]
  },
  {
   "cell_type": "markdown",
   "id": "32534589",
   "metadata": {},
   "source": [
    "#### 범주형 자료 value별 비율 확인"
   ]
  },
  {
   "cell_type": "code",
   "execution_count": 546,
   "id": "2b158593",
   "metadata": {},
   "outputs": [],
   "source": [
    "# 범주형자료 value별 비율 확인1\n",
    "def pie(data_column): #dataset.result\n",
    "    \n",
    "    pie_list = data_column.value_counts()\n",
    "\n",
    "    labels = []\n",
    "    ratio = []\n",
    "\n",
    "    for label in pie_list.index:    \n",
    "        labels.append(label)\n",
    "    for numbers in pie_list.values:\n",
    "        ratio.append(numbers)\n",
    "\n",
    "    plt.figure(figsize = (8, 6))\n",
    "    wedgeprops = {'width': 0.7, 'edgecolor': 'w', 'linewidth': 5}\n",
    "    colors = ['#ff9999', '#ffc000', '#c0c0c0']\n",
    "\n",
    "    plt.rc('font', family = 'Malgun Gothic')\n",
    "    plt.title(data_column.name + ' 비율', size = 20)\n",
    "    plt.pie(ratio, labels = labels, autopct = '%.1f%%', startangle = 260, \n",
    "            counterclock = False, colors = colors,\n",
    "            wedgeprops = wedgeprops, textprops = {'fontsize': 15})\n",
    "    plt.legend(labels)\n",
    "    plt.show()"
   ]
  },
  {
   "cell_type": "code",
   "execution_count": null,
   "id": "32d0bc8e",
   "metadata": {},
   "outputs": [],
   "source": [
    "# 범주형자료 value별 비율 확인2(값이 많은 경우)\n",
    "def bar(data_column):\n",
    "    \n",
    "    bar_list = data_column.value_counts()\n",
    "\n",
    "    labels = []\n",
    "    numbers = []\n",
    "    ratio = []\n",
    "    \n",
    "    for label in bar_list.index:    \n",
    "        labels.append(label)\n",
    "    for number in bar_list.values:\n",
    "        numbers.append(number)\n",
    "    for number in numbers:\n",
    "        ratio.append(round(number / sum(numbers) * 100, 1))\n",
    "    \n",
    "    plt.figure(figsize = (14, 8))\n",
    "    plt.bar(labels, ratio, width = 0.5, color = '#d2b48c', label = data_column.name)\n",
    "    plt.rc('font', family = 'Malgun Gothic')\n",
    "    plt.title(data_column.name + ' 비율', size = 20)\n",
    "    plt.xticks(rotation=90)\n",
    "    plt.xlabel(\"values\", size = 15)\n",
    "    plt.ylabel(\"percentage\", size = 15)\n",
    "    \n",
    "    for x, value in enumerate(ratio):\n",
    "        if value > 0.5:\n",
    "            plt.text(x, value*1.01, value)\n",
    "        else:\n",
    "            pass\n",
    "    \n",
    "    plt.show()"
   ]
  },
  {
   "cell_type": "markdown",
   "id": "f216da2f",
   "metadata": {},
   "source": [
    "#### 수치형 데이터 분포 확인"
   ]
  },
  {
   "cell_type": "code",
   "execution_count": 665,
   "id": "a7217411",
   "metadata": {},
   "outputs": [],
   "source": [
    "def dist(data_column):\n",
    "\n",
    "    sns.set_theme(style=\"darkgrid\")\n",
    "\n",
    "    data = data_column.dropna().values.tolist()\n",
    "\n",
    "    plt.rc('font', family = 'Malgun Gothic')\n",
    "    plt.figure(figsize = (8, 6))\n",
    "    sns.distplot(data, kde = False, fit=norm)\n",
    "    plt.title(data_column.name + \" 분포\", size = 20)\n",
    "    plt.show();"
   ]
  },
  {
   "cell_type": "markdown",
   "id": "2527fe3b",
   "metadata": {},
   "source": [
    "#### 정규성 검정"
   ]
  },
  {
   "cell_type": "code",
   "execution_count": 663,
   "id": "02d65840",
   "metadata": {},
   "outputs": [],
   "source": [
    "def norm_check(data, columns):\n",
    "    \n",
    "    print(\"[column별 샤피로 윌크 검정]\")\n",
    "    print(\"\")\n",
    "    \n",
    "    for column in columns:\n",
    "\n",
    "        sha_stat, sha_pvalue = shapiro(data[column])\n",
    "        and_result = anderson(data[column])       \n",
    "        \n",
    "        print('-'*40)\n",
    "        print(\"\")\n",
    "        print(column + \" 검정\")\n",
    "        print(\"샤피로-윌크 검정 통계량:\", sha_stat)\n",
    "        print(\"p-값:\", sha_pvalue)\n",
    "        print(\"\")"
   ]
  },
  {
   "cell_type": "markdown",
   "id": "59a04f38",
   "metadata": {},
   "source": [
    "#### 이상치 확인"
   ]
  },
  {
   "cell_type": "code",
   "execution_count": 682,
   "id": "85fa0e0c",
   "metadata": {},
   "outputs": [],
   "source": [
    "def outlier(data):\n",
    "    \n",
    "    sns.set_theme(style=\"darkgrid\")\n",
    "    rcParams['figure.figsize'] = 12,8\n",
    "    ax = sns.boxplot(data=data, palette=\"Pastel1\")\n",
    "    plt.title(\"Outliers for each column\")\n",
    "    plt.show();"
   ]
  },
  {
   "cell_type": "markdown",
   "id": "889e8e00",
   "metadata": {},
   "source": [
    "### players valuation data"
   ]
  },
  {
   "cell_type": "code",
   "execution_count": 334,
   "id": "7ce90c29",
   "metadata": {},
   "outputs": [
    {
     "data": {
      "text/html": [
       "<div>\n",
       "<style scoped>\n",
       "    .dataframe tbody tr th:only-of-type {\n",
       "        vertical-align: middle;\n",
       "    }\n",
       "\n",
       "    .dataframe tbody tr th {\n",
       "        vertical-align: top;\n",
       "    }\n",
       "\n",
       "    .dataframe thead th {\n",
       "        text-align: right;\n",
       "    }\n",
       "</style>\n",
       "<table border=\"1\" class=\"dataframe\">\n",
       "  <thead>\n",
       "    <tr style=\"text-align: right;\">\n",
       "      <th></th>\n",
       "      <th>player_id</th>\n",
       "      <th>date</th>\n",
       "      <th>market_value_in_eur</th>\n",
       "      <th>current_club_id</th>\n",
       "    </tr>\n",
       "  </thead>\n",
       "  <tbody>\n",
       "    <tr>\n",
       "      <th>0</th>\n",
       "      <td>405973</td>\n",
       "      <td>2000-01-20</td>\n",
       "      <td>150000</td>\n",
       "      <td>3057</td>\n",
       "    </tr>\n",
       "    <tr>\n",
       "      <th>1</th>\n",
       "      <td>342216</td>\n",
       "      <td>2001-07-20</td>\n",
       "      <td>100000</td>\n",
       "      <td>1241</td>\n",
       "    </tr>\n",
       "    <tr>\n",
       "      <th>2</th>\n",
       "      <td>3132</td>\n",
       "      <td>2003-12-09</td>\n",
       "      <td>400000</td>\n",
       "      <td>126</td>\n",
       "    </tr>\n",
       "    <tr>\n",
       "      <th>3</th>\n",
       "      <td>6893</td>\n",
       "      <td>2003-12-15</td>\n",
       "      <td>900000</td>\n",
       "      <td>984</td>\n",
       "    </tr>\n",
       "    <tr>\n",
       "      <th>4</th>\n",
       "      <td>10</td>\n",
       "      <td>2004-10-04</td>\n",
       "      <td>7000000</td>\n",
       "      <td>398</td>\n",
       "    </tr>\n",
       "    <tr>\n",
       "      <th>...</th>\n",
       "      <td>...</td>\n",
       "      <td>...</td>\n",
       "      <td>...</td>\n",
       "      <td>...</td>\n",
       "    </tr>\n",
       "    <tr>\n",
       "      <th>465316</th>\n",
       "      <td>1201294</td>\n",
       "      <td>2024-02-12</td>\n",
       "      <td>50000</td>\n",
       "      <td>3840</td>\n",
       "    </tr>\n",
       "    <tr>\n",
       "      <th>465317</th>\n",
       "      <td>551505</td>\n",
       "      <td>2024-02-21</td>\n",
       "      <td>7000000</td>\n",
       "      <td>969</td>\n",
       "    </tr>\n",
       "    <tr>\n",
       "      <th>465318</th>\n",
       "      <td>754037</td>\n",
       "      <td>2024-02-21</td>\n",
       "      <td>5000000</td>\n",
       "      <td>2410</td>\n",
       "    </tr>\n",
       "    <tr>\n",
       "      <th>465319</th>\n",
       "      <td>763079</td>\n",
       "      <td>2024-02-21</td>\n",
       "      <td>2000000</td>\n",
       "      <td>826</td>\n",
       "    </tr>\n",
       "    <tr>\n",
       "      <th>465320</th>\n",
       "      <td>214070</td>\n",
       "      <td>2024-02-22</td>\n",
       "      <td>550000</td>\n",
       "      <td>7378</td>\n",
       "    </tr>\n",
       "  </tbody>\n",
       "</table>\n",
       "<p>465321 rows × 4 columns</p>\n",
       "</div>"
      ],
      "text/plain": [
       "        player_id        date  market_value_in_eur  current_club_id\n",
       "0          405973  2000-01-20               150000             3057\n",
       "1          342216  2001-07-20               100000             1241\n",
       "2            3132  2003-12-09               400000              126\n",
       "3            6893  2003-12-15               900000              984\n",
       "4              10  2004-10-04              7000000              398\n",
       "...           ...         ...                  ...              ...\n",
       "465316    1201294  2024-02-12                50000             3840\n",
       "465317     551505  2024-02-21              7000000              969\n",
       "465318     754037  2024-02-21              5000000             2410\n",
       "465319     763079  2024-02-21              2000000              826\n",
       "465320     214070  2024-02-22               550000             7378\n",
       "\n",
       "[465321 rows x 4 columns]"
      ]
     },
     "execution_count": 334,
     "metadata": {},
     "output_type": "execute_result"
    }
   ],
   "source": [
    "# 데이터 확인\n",
    "player_value = player_valuations.drop(['player_club_domestic_competition_id'], axis = 1)\n",
    "player_value"
   ]
  },
  {
   "cell_type": "code",
   "execution_count": 335,
   "id": "b68debf9",
   "metadata": {},
   "outputs": [
    {
     "name": "stdout",
     "output_type": "stream",
     "text": [
      "[ 결측치 확인 ]\n",
      "\n",
      "-----------------------------------\n"
     ]
    },
    {
     "data": {
      "image/png": "[encoded data removed]",
      "text/plain": [
       "<Figure size 500x500 with 2 Axes>"
      ]
     },
     "metadata": {},
     "output_type": "display_data"
    }
   ],
   "source": [
    "# 결측치 확인\n",
    "null_check(player_value)"
   ]
  },
  {
   "cell_type": "markdown",
   "id": "97b93fbf",
   "metadata": {},
   "source": [
    "### games data"
   ]
  },
  {
   "cell_type": "code",
   "execution_count": 398,
   "id": "3d61bb2f",
   "metadata": {},
   "outputs": [
    {
     "data": {
      "text/html": [
       "<div>\n",
       "<style scoped>\n",
       "    .dataframe tbody tr th:only-of-type {\n",
       "        vertical-align: middle;\n",
       "    }\n",
       "\n",
       "    .dataframe tbody tr th {\n",
       "        vertical-align: top;\n",
       "    }\n",
       "\n",
       "    .dataframe thead th {\n",
       "        text-align: right;\n",
       "    }\n",
       "</style>\n",
       "<table border=\"1\" class=\"dataframe\">\n",
       "  <thead>\n",
       "    <tr style=\"text-align: right;\">\n",
       "      <th></th>\n",
       "      <th>game_id</th>\n",
       "      <th>date</th>\n",
       "      <th>home_club_id</th>\n",
       "      <th>away_club_id</th>\n",
       "      <th>home_club_goals</th>\n",
       "      <th>away_club_goals</th>\n",
       "      <th>home_club_formation</th>\n",
       "      <th>away_club_formation</th>\n",
       "    </tr>\n",
       "  </thead>\n",
       "  <tbody>\n",
       "    <tr>\n",
       "      <th>13042</th>\n",
       "      <td>2234412</td>\n",
       "      <td>2012-07-03</td>\n",
       "      <td>24832</td>\n",
       "      <td>10694</td>\n",
       "      <td>0</td>\n",
       "      <td>6</td>\n",
       "      <td>NaN</td>\n",
       "      <td>NaN</td>\n",
       "    </tr>\n",
       "    <tr>\n",
       "      <th>9313</th>\n",
       "      <td>2235764</td>\n",
       "      <td>2012-07-03</td>\n",
       "      <td>1167</td>\n",
       "      <td>5594</td>\n",
       "      <td>0</td>\n",
       "      <td>0</td>\n",
       "      <td>NaN</td>\n",
       "      <td>NaN</td>\n",
       "    </tr>\n",
       "    <tr>\n",
       "      <th>41321</th>\n",
       "      <td>2231978</td>\n",
       "      <td>2012-07-03</td>\n",
       "      <td>853</td>\n",
       "      <td>10747</td>\n",
       "      <td>7</td>\n",
       "      <td>0</td>\n",
       "      <td>NaN</td>\n",
       "      <td>NaN</td>\n",
       "    </tr>\n",
       "    <tr>\n",
       "      <th>45069</th>\n",
       "      <td>2231982</td>\n",
       "      <td>2012-07-03</td>\n",
       "      <td>6335</td>\n",
       "      <td>28958</td>\n",
       "      <td>8</td>\n",
       "      <td>0</td>\n",
       "      <td>NaN</td>\n",
       "      <td>NaN</td>\n",
       "    </tr>\n",
       "    <tr>\n",
       "      <th>13037</th>\n",
       "      <td>2231979</td>\n",
       "      <td>2012-07-03</td>\n",
       "      <td>3471</td>\n",
       "      <td>10532</td>\n",
       "      <td>0</td>\n",
       "      <td>0</td>\n",
       "      <td>NaN</td>\n",
       "      <td>NaN</td>\n",
       "    </tr>\n",
       "    <tr>\n",
       "      <th>...</th>\n",
       "      <td>...</td>\n",
       "      <td>...</td>\n",
       "      <td>...</td>\n",
       "      <td>...</td>\n",
       "      <td>...</td>\n",
       "      <td>...</td>\n",
       "      <td>...</td>\n",
       "      <td>...</td>\n",
       "    </tr>\n",
       "    <tr>\n",
       "      <th>63801</th>\n",
       "      <td>4243722</td>\n",
       "      <td>2024-02-22</td>\n",
       "      <td>415</td>\n",
       "      <td>294</td>\n",
       "      <td>0</td>\n",
       "      <td>0</td>\n",
       "      <td>3-4-2-1</td>\n",
       "      <td>4-2-3-1</td>\n",
       "    </tr>\n",
       "    <tr>\n",
       "      <th>26737</th>\n",
       "      <td>4243721</td>\n",
       "      <td>2024-02-22</td>\n",
       "      <td>336</td>\n",
       "      <td>452</td>\n",
       "      <td>1</td>\n",
       "      <td>1</td>\n",
       "      <td>3-4-3</td>\n",
       "      <td>4-2-3-1</td>\n",
       "    </tr>\n",
       "    <tr>\n",
       "      <th>46119</th>\n",
       "      <td>4243719</td>\n",
       "      <td>2024-02-22</td>\n",
       "      <td>273</td>\n",
       "      <td>5</td>\n",
       "      <td>3</td>\n",
       "      <td>2</td>\n",
       "      <td>4-3-3 Attacking</td>\n",
       "      <td>4-2-3-1</td>\n",
       "    </tr>\n",
       "    <tr>\n",
       "      <th>58444</th>\n",
       "      <td>4243723</td>\n",
       "      <td>2024-02-22</td>\n",
       "      <td>10625</td>\n",
       "      <td>1075</td>\n",
       "      <td>2</td>\n",
       "      <td>3</td>\n",
       "      <td>4-2-3-1</td>\n",
       "      <td>4-4-2</td>\n",
       "    </tr>\n",
       "    <tr>\n",
       "      <th>10408</th>\n",
       "      <td>4243720</td>\n",
       "      <td>2024-02-22</td>\n",
       "      <td>60</td>\n",
       "      <td>826</td>\n",
       "      <td>3</td>\n",
       "      <td>2</td>\n",
       "      <td>3-4-3</td>\n",
       "      <td>3-4-1-2</td>\n",
       "    </tr>\n",
       "  </tbody>\n",
       "</table>\n",
       "<p>66685 rows × 8 columns</p>\n",
       "</div>"
      ],
      "text/plain": [
       "       game_id        date  home_club_id  away_club_id  home_club_goals  \\\n",
       "13042  2234412  2012-07-03         24832         10694                0   \n",
       "9313   2235764  2012-07-03          1167          5594                0   \n",
       "41321  2231978  2012-07-03           853         10747                7   \n",
       "45069  2231982  2012-07-03          6335         28958                8   \n",
       "13037  2231979  2012-07-03          3471         10532                0   \n",
       "...        ...         ...           ...           ...              ...   \n",
       "63801  4243722  2024-02-22           415           294                0   \n",
       "26737  4243721  2024-02-22           336           452                1   \n",
       "46119  4243719  2024-02-22           273             5                3   \n",
       "58444  4243723  2024-02-22         10625          1075                2   \n",
       "10408  4243720  2024-02-22            60           826                3   \n",
       "\n",
       "       away_club_goals home_club_formation away_club_formation  \n",
       "13042                6                 NaN                 NaN  \n",
       "9313                 0                 NaN                 NaN  \n",
       "41321                0                 NaN                 NaN  \n",
       "45069                0                 NaN                 NaN  \n",
       "13037                0                 NaN                 NaN  \n",
       "...                ...                 ...                 ...  \n",
       "63801                0             3-4-2-1             4-2-3-1  \n",
       "26737                1               3-4-3             4-2-3-1  \n",
       "46119                2     4-3-3 Attacking             4-2-3-1  \n",
       "58444                3             4-2-3-1               4-4-2  \n",
       "10408                2               3-4-3             3-4-1-2  \n",
       "\n",
       "[66685 rows x 8 columns]"
      ]
     },
     "execution_count": 398,
     "metadata": {},
     "output_type": "execute_result"
    }
   ],
   "source": [
    "# 데이터 확인\n",
    "games_data = games.drop(['competition_id', 'season', 'round', 'home_club_position', 'away_club_position', 'home_club_manager_name', 'away_club_manager_name', 'referee', 'stadium', 'attendance', 'url', 'home_club_name', 'away_club_name', 'aggregate', 'competition_type'], axis = 1).sort_values(by = 'date')\n",
    "games_data"
   ]
  },
  {
   "cell_type": "code",
   "execution_count": 337,
   "id": "eda833ce",
   "metadata": {},
   "outputs": [
    {
     "name": "stdout",
     "output_type": "stream",
     "text": [
      "[ 결측치 확인 ]\n",
      "\n",
      "-----------------------------------\n",
      "home_club_formation 결측치 비율:\n",
      "9.4 %\n",
      "-----------------------------------\n",
      "away_club_formation 결측치 비율:\n",
      "9.18 %\n",
      "-----------------------------------\n"
     ]
    },
    {
     "data": {
      "image/png": "[encoded data removed]",
      "text/plain": [
       "<Figure size 500x500 with 2 Axes>"
      ]
     },
     "metadata": {},
     "output_type": "display_data"
    }
   ],
   "source": [
    "null_check(games_data)"
   ]
  },
  {
   "cell_type": "markdown",
   "id": "6b2baf8d",
   "metadata": {},
   "source": [
    "### game event data"
   ]
  },
  {
   "cell_type": "code",
   "execution_count": 338,
   "id": "487036b4",
   "metadata": {},
   "outputs": [
    {
     "data": {
      "text/html": [
       "<div>\n",
       "<style scoped>\n",
       "    .dataframe tbody tr th:only-of-type {\n",
       "        vertical-align: middle;\n",
       "    }\n",
       "\n",
       "    .dataframe tbody tr th {\n",
       "        vertical-align: top;\n",
       "    }\n",
       "\n",
       "    .dataframe thead th {\n",
       "        text-align: right;\n",
       "    }\n",
       "</style>\n",
       "<table border=\"1\" class=\"dataframe\">\n",
       "  <thead>\n",
       "    <tr style=\"text-align: right;\">\n",
       "      <th></th>\n",
       "      <th>date</th>\n",
       "      <th>game_id</th>\n",
       "      <th>type</th>\n",
       "      <th>club_id</th>\n",
       "      <th>player_id</th>\n",
       "    </tr>\n",
       "  </thead>\n",
       "  <tbody>\n",
       "    <tr>\n",
       "      <th>0</th>\n",
       "      <td>2012-07-03</td>\n",
       "      <td>2231978</td>\n",
       "      <td>Goals</td>\n",
       "      <td>853</td>\n",
       "      <td>38004.0</td>\n",
       "    </tr>\n",
       "    <tr>\n",
       "      <th>1</th>\n",
       "      <td>2012-07-03</td>\n",
       "      <td>2231978</td>\n",
       "      <td>Goals</td>\n",
       "      <td>853</td>\n",
       "      <td>21679.0</td>\n",
       "    </tr>\n",
       "    <tr>\n",
       "      <th>2</th>\n",
       "      <td>2012-07-03</td>\n",
       "      <td>2231978</td>\n",
       "      <td>Goals</td>\n",
       "      <td>853</td>\n",
       "      <td>21679.0</td>\n",
       "    </tr>\n",
       "    <tr>\n",
       "      <th>3</th>\n",
       "      <td>2012-07-03</td>\n",
       "      <td>2231978</td>\n",
       "      <td>assist</td>\n",
       "      <td>853</td>\n",
       "      <td>79860.0</td>\n",
       "    </tr>\n",
       "    <tr>\n",
       "      <th>4</th>\n",
       "      <td>2012-07-03</td>\n",
       "      <td>2231978</td>\n",
       "      <td>assist</td>\n",
       "      <td>853</td>\n",
       "      <td>82883.0</td>\n",
       "    </tr>\n",
       "    <tr>\n",
       "      <th>...</th>\n",
       "      <td>...</td>\n",
       "      <td>...</td>\n",
       "      <td>...</td>\n",
       "      <td>...</td>\n",
       "      <td>...</td>\n",
       "    </tr>\n",
       "    <tr>\n",
       "      <th>289205</th>\n",
       "      <td>2024-02-22</td>\n",
       "      <td>4243719</td>\n",
       "      <td>Goals</td>\n",
       "      <td>273</td>\n",
       "      <td>266359.0</td>\n",
       "    </tr>\n",
       "    <tr>\n",
       "      <th>289206</th>\n",
       "      <td>2024-02-22</td>\n",
       "      <td>4243719</td>\n",
       "      <td>Goals</td>\n",
       "      <td>273</td>\n",
       "      <td>266359.0</td>\n",
       "    </tr>\n",
       "    <tr>\n",
       "      <th>289207</th>\n",
       "      <td>2024-02-22</td>\n",
       "      <td>4243719</td>\n",
       "      <td>Goals</td>\n",
       "      <td>5</td>\n",
       "      <td>357164.0</td>\n",
       "    </tr>\n",
       "    <tr>\n",
       "      <th>289208</th>\n",
       "      <td>2024-02-22</td>\n",
       "      <td>4243719</td>\n",
       "      <td>Cards</td>\n",
       "      <td>5</td>\n",
       "      <td>48859.0</td>\n",
       "    </tr>\n",
       "    <tr>\n",
       "      <th>289209</th>\n",
       "      <td>2024-02-22</td>\n",
       "      <td>4243720</td>\n",
       "      <td>Cards</td>\n",
       "      <td>60</td>\n",
       "      <td>248999.0</td>\n",
       "    </tr>\n",
       "  </tbody>\n",
       "</table>\n",
       "<p>289210 rows × 5 columns</p>\n",
       "</div>"
      ],
      "text/plain": [
       "              date  game_id    type  club_id  player_id\n",
       "0       2012-07-03  2231978   Goals      853    38004.0\n",
       "1       2012-07-03  2231978   Goals      853    21679.0\n",
       "2       2012-07-03  2231978   Goals      853    21679.0\n",
       "3       2012-07-03  2231978  assist      853    79860.0\n",
       "4       2012-07-03  2231978  assist      853    82883.0\n",
       "...            ...      ...     ...      ...        ...\n",
       "289205  2024-02-22  4243719   Goals      273   266359.0\n",
       "289206  2024-02-22  4243719   Goals      273   266359.0\n",
       "289207  2024-02-22  4243719   Goals        5   357164.0\n",
       "289208  2024-02-22  4243719   Cards        5    48859.0\n",
       "289209  2024-02-22  4243720   Cards       60   248999.0\n",
       "\n",
       "[289210 rows x 5 columns]"
      ]
     },
     "execution_count": 338,
     "metadata": {},
     "output_type": "execute_result"
    }
   ],
   "source": [
    "# 데이터 확인\n",
    "events = game_events.drop(['game_event_id', 'minute', 'description', 'player_in_id'], axis = 1)\n",
    "events = events[events['type'] != 'Substitutions']\n",
    "\n",
    "assist = events.player_assist_id.mask(events.player_assist_id > 0, 'assist')\n",
    "\n",
    "assist_temp = pd.DataFrame({'date' : events.date,\n",
    "                       'game_id' : events.game_id,\n",
    "                       'type' : assist,\n",
    "                       'club_id' : events.club_id,\n",
    "                       'player_id' : events.player_assist_id.values})\n",
    "assist_data = assist_temp.dropna(axis = 0)\n",
    "\n",
    "events_data = pd.concat((events.drop(['player_assist_id'], axis = 1), assist_data), ignore_index = True, sort = False)\n",
    "events_data = events_data.sort_values(by = 'date')\n",
    "events_data = events_data.reset_index(drop = True)\n",
    "\n",
    "events_data"
   ]
  },
  {
   "cell_type": "code",
   "execution_count": 339,
   "id": "f2f3cb2b",
   "metadata": {},
   "outputs": [
    {
     "data": {
      "text/plain": [
       "array(['Goals', 'assist', 'Cards', 'Shootout'], dtype=object)"
      ]
     },
     "execution_count": 339,
     "metadata": {},
     "output_type": "execute_result"
    }
   ],
   "source": [
    "events_data.type.unique()"
   ]
  },
  {
   "cell_type": "code",
   "execution_count": 340,
   "id": "72dcaec4",
   "metadata": {},
   "outputs": [
    {
     "name": "stdout",
     "output_type": "stream",
     "text": [
      "[ 결측치 확인 ]\n",
      "\n",
      "-----------------------------------\n"
     ]
    },
    {
     "data": {
      "image/png": "[encoded data removed]",
      "text/plain": [
       "<Figure size 500x500 with 2 Axes>"
      ]
     },
     "metadata": {},
     "output_type": "display_data"
    }
   ],
   "source": [
    "null_check(events_data)"
   ]
  },
  {
   "cell_type": "markdown",
   "id": "cb4f0384",
   "metadata": {},
   "source": [
    "## EDA for merged dataset"
   ]
  },
  {
   "cell_type": "markdown",
   "id": "8fdc47f0",
   "metadata": {},
   "source": [
    "### merge"
   ]
  },
  {
   "cell_type": "markdown",
   "id": "b7fc8e72",
   "metadata": {},
   "source": [
    "#### events data 준비"
   ]
  },
  {
   "cell_type": "markdown",
   "id": "97cfc9a1",
   "metadata": {},
   "source": [
    "- events_data 에서 club_id가 현재 club이 아닌 게임 당시의 club으로 표시된 것인지 확인\n",
    "    - 아래에서 동일한 선수(38004)에 대해 여러개의 club_id(4개)가 할당되어 있으므로 club_id 컬럼은 해당 date 또는 해당 game에서 뛰었던 선수의 그 당시 club을 나타내고 있음을 알 수 있다."
   ]
  },
  {
   "cell_type": "code",
   "execution_count": 341,
   "id": "aa28f883",
   "metadata": {},
   "outputs": [
    {
     "data": {
      "text/html": [
       "<div>\n",
       "<style scoped>\n",
       "    .dataframe tbody tr th:only-of-type {\n",
       "        vertical-align: middle;\n",
       "    }\n",
       "\n",
       "    .dataframe tbody tr th {\n",
       "        vertical-align: top;\n",
       "    }\n",
       "\n",
       "    .dataframe thead th {\n",
       "        text-align: right;\n",
       "    }\n",
       "</style>\n",
       "<table border=\"1\" class=\"dataframe\">\n",
       "  <thead>\n",
       "    <tr style=\"text-align: right;\">\n",
       "      <th></th>\n",
       "      <th>date</th>\n",
       "      <th>game_id</th>\n",
       "      <th>type</th>\n",
       "      <th>club_id</th>\n",
       "      <th>player_id</th>\n",
       "    </tr>\n",
       "  </thead>\n",
       "  <tbody>\n",
       "    <tr>\n",
       "      <th>0</th>\n",
       "      <td>2012-07-03</td>\n",
       "      <td>2231978</td>\n",
       "      <td>Goals</td>\n",
       "      <td>853</td>\n",
       "      <td>38004.0</td>\n",
       "    </tr>\n",
       "    <tr>\n",
       "      <th>1</th>\n",
       "      <td>2012-07-03</td>\n",
       "      <td>2231978</td>\n",
       "      <td>Goals</td>\n",
       "      <td>853</td>\n",
       "      <td>21679.0</td>\n",
       "    </tr>\n",
       "    <tr>\n",
       "      <th>2</th>\n",
       "      <td>2012-07-03</td>\n",
       "      <td>2231978</td>\n",
       "      <td>Goals</td>\n",
       "      <td>853</td>\n",
       "      <td>21679.0</td>\n",
       "    </tr>\n",
       "    <tr>\n",
       "      <th>3</th>\n",
       "      <td>2012-07-03</td>\n",
       "      <td>2231978</td>\n",
       "      <td>assist</td>\n",
       "      <td>853</td>\n",
       "      <td>79860.0</td>\n",
       "    </tr>\n",
       "    <tr>\n",
       "      <th>4</th>\n",
       "      <td>2012-07-03</td>\n",
       "      <td>2231978</td>\n",
       "      <td>assist</td>\n",
       "      <td>853</td>\n",
       "      <td>82883.0</td>\n",
       "    </tr>\n",
       "    <tr>\n",
       "      <th>...</th>\n",
       "      <td>...</td>\n",
       "      <td>...</td>\n",
       "      <td>...</td>\n",
       "      <td>...</td>\n",
       "      <td>...</td>\n",
       "    </tr>\n",
       "    <tr>\n",
       "      <th>289205</th>\n",
       "      <td>2024-02-22</td>\n",
       "      <td>4243719</td>\n",
       "      <td>Goals</td>\n",
       "      <td>273</td>\n",
       "      <td>266359.0</td>\n",
       "    </tr>\n",
       "    <tr>\n",
       "      <th>289206</th>\n",
       "      <td>2024-02-22</td>\n",
       "      <td>4243719</td>\n",
       "      <td>Goals</td>\n",
       "      <td>273</td>\n",
       "      <td>266359.0</td>\n",
       "    </tr>\n",
       "    <tr>\n",
       "      <th>289207</th>\n",
       "      <td>2024-02-22</td>\n",
       "      <td>4243719</td>\n",
       "      <td>Goals</td>\n",
       "      <td>5</td>\n",
       "      <td>357164.0</td>\n",
       "    </tr>\n",
       "    <tr>\n",
       "      <th>289208</th>\n",
       "      <td>2024-02-22</td>\n",
       "      <td>4243719</td>\n",
       "      <td>Cards</td>\n",
       "      <td>5</td>\n",
       "      <td>48859.0</td>\n",
       "    </tr>\n",
       "    <tr>\n",
       "      <th>289209</th>\n",
       "      <td>2024-02-22</td>\n",
       "      <td>4243720</td>\n",
       "      <td>Cards</td>\n",
       "      <td>60</td>\n",
       "      <td>248999.0</td>\n",
       "    </tr>\n",
       "  </tbody>\n",
       "</table>\n",
       "<p>289210 rows × 5 columns</p>\n",
       "</div>"
      ],
      "text/plain": [
       "              date  game_id    type  club_id  player_id\n",
       "0       2012-07-03  2231978   Goals      853    38004.0\n",
       "1       2012-07-03  2231978   Goals      853    21679.0\n",
       "2       2012-07-03  2231978   Goals      853    21679.0\n",
       "3       2012-07-03  2231978  assist      853    79860.0\n",
       "4       2012-07-03  2231978  assist      853    82883.0\n",
       "...            ...      ...     ...      ...        ...\n",
       "289205  2024-02-22  4243719   Goals      273   266359.0\n",
       "289206  2024-02-22  4243719   Goals      273   266359.0\n",
       "289207  2024-02-22  4243719   Goals        5   357164.0\n",
       "289208  2024-02-22  4243719   Cards        5    48859.0\n",
       "289209  2024-02-22  4243720   Cards       60   248999.0\n",
       "\n",
       "[289210 rows x 5 columns]"
      ]
     },
     "execution_count": 341,
     "metadata": {},
     "output_type": "execute_result"
    }
   ],
   "source": [
    "events_data"
   ]
  },
  {
   "cell_type": "code",
   "execution_count": 342,
   "id": "eabb41e5",
   "metadata": {},
   "outputs": [
    {
     "data": {
      "text/plain": [
       "array([853, 403, 202, 235], dtype=int64)"
      ]
     },
     "execution_count": 342,
     "metadata": {},
     "output_type": "execute_result"
    }
   ],
   "source": [
    "events_data[events_data.player_id == 38004.0].club_id.unique()"
   ]
  },
  {
   "cell_type": "code",
   "execution_count": null,
   "id": "1140be1f",
   "metadata": {},
   "outputs": [],
   "source": [
    "events_data_grouped.type.unique()"
   ]
  },
  {
   "cell_type": "code",
   "execution_count": 350,
   "id": "dc0afe1d",
   "metadata": {},
   "outputs": [
    {
     "data": {
      "text/html": [
       "<div>\n",
       "<style scoped>\n",
       "    .dataframe tbody tr th:only-of-type {\n",
       "        vertical-align: middle;\n",
       "    }\n",
       "\n",
       "    .dataframe tbody tr th {\n",
       "        vertical-align: top;\n",
       "    }\n",
       "\n",
       "    .dataframe thead th {\n",
       "        text-align: right;\n",
       "    }\n",
       "</style>\n",
       "<table border=\"1\" class=\"dataframe\">\n",
       "  <thead>\n",
       "    <tr style=\"text-align: right;\">\n",
       "      <th></th>\n",
       "      <th>game_id</th>\n",
       "      <th>club_id</th>\n",
       "      <th>Goals</th>\n",
       "      <th>assist</th>\n",
       "      <th>Cards</th>\n",
       "      <th>Shootout</th>\n",
       "    </tr>\n",
       "    <tr>\n",
       "      <th>date</th>\n",
       "      <th></th>\n",
       "      <th></th>\n",
       "      <th></th>\n",
       "      <th></th>\n",
       "      <th></th>\n",
       "      <th></th>\n",
       "    </tr>\n",
       "  </thead>\n",
       "  <tbody>\n",
       "    <tr>\n",
       "      <th>2012-07-03</th>\n",
       "      <td>2235764</td>\n",
       "      <td>5594</td>\n",
       "      <td>0</td>\n",
       "      <td>0</td>\n",
       "      <td>1</td>\n",
       "      <td>0</td>\n",
       "    </tr>\n",
       "    <tr>\n",
       "      <th>2012-07-03</th>\n",
       "      <td>2231982</td>\n",
       "      <td>28958</td>\n",
       "      <td>0</td>\n",
       "      <td>0</td>\n",
       "      <td>2</td>\n",
       "      <td>0</td>\n",
       "    </tr>\n",
       "    <tr>\n",
       "      <th>2012-07-03</th>\n",
       "      <td>2231982</td>\n",
       "      <td>6335</td>\n",
       "      <td>8</td>\n",
       "      <td>7</td>\n",
       "      <td>0</td>\n",
       "      <td>0</td>\n",
       "    </tr>\n",
       "    <tr>\n",
       "      <th>2012-07-03</th>\n",
       "      <td>2235764</td>\n",
       "      <td>1167</td>\n",
       "      <td>0</td>\n",
       "      <td>0</td>\n",
       "      <td>1</td>\n",
       "      <td>0</td>\n",
       "    </tr>\n",
       "    <tr>\n",
       "      <th>2012-07-03</th>\n",
       "      <td>2234412</td>\n",
       "      <td>10694</td>\n",
       "      <td>6</td>\n",
       "      <td>6</td>\n",
       "      <td>0</td>\n",
       "      <td>0</td>\n",
       "    </tr>\n",
       "    <tr>\n",
       "      <th>...</th>\n",
       "      <td>...</td>\n",
       "      <td>...</td>\n",
       "      <td>...</td>\n",
       "      <td>...</td>\n",
       "      <td>...</td>\n",
       "      <td>...</td>\n",
       "    </tr>\n",
       "    <tr>\n",
       "      <th>2024-02-22</th>\n",
       "      <td>4243719</td>\n",
       "      <td>5</td>\n",
       "      <td>2</td>\n",
       "      <td>1</td>\n",
       "      <td>2</td>\n",
       "      <td>0</td>\n",
       "    </tr>\n",
       "    <tr>\n",
       "      <th>2024-02-22</th>\n",
       "      <td>4243718</td>\n",
       "      <td>234</td>\n",
       "      <td>1</td>\n",
       "      <td>0</td>\n",
       "      <td>4</td>\n",
       "      <td>4</td>\n",
       "    </tr>\n",
       "    <tr>\n",
       "      <th>2024-02-22</th>\n",
       "      <td>4243718</td>\n",
       "      <td>12</td>\n",
       "      <td>1</td>\n",
       "      <td>1</td>\n",
       "      <td>3</td>\n",
       "      <td>5</td>\n",
       "    </tr>\n",
       "    <tr>\n",
       "      <th>2024-02-22</th>\n",
       "      <td>4243725</td>\n",
       "      <td>660</td>\n",
       "      <td>1</td>\n",
       "      <td>1</td>\n",
       "      <td>5</td>\n",
       "      <td>0</td>\n",
       "    </tr>\n",
       "    <tr>\n",
       "      <th>2024-02-22</th>\n",
       "      <td>4243725</td>\n",
       "      <td>244</td>\n",
       "      <td>3</td>\n",
       "      <td>2</td>\n",
       "      <td>1</td>\n",
       "      <td>0</td>\n",
       "    </tr>\n",
       "  </tbody>\n",
       "</table>\n",
       "<p>103556 rows × 6 columns</p>\n",
       "</div>"
      ],
      "text/plain": [
       "            game_id  club_id  Goals  assist  Cards  Shootout\n",
       "date                                                        \n",
       "2012-07-03  2235764     5594      0       0      1         0\n",
       "2012-07-03  2231982    28958      0       0      2         0\n",
       "2012-07-03  2231982     6335      8       7      0         0\n",
       "2012-07-03  2235764     1167      0       0      1         0\n",
       "2012-07-03  2234412    10694      6       6      0         0\n",
       "...             ...      ...    ...     ...    ...       ...\n",
       "2024-02-22  4243719        5      2       1      2         0\n",
       "2024-02-22  4243718      234      1       0      4         4\n",
       "2024-02-22  4243718       12      1       1      3         5\n",
       "2024-02-22  4243725      660      1       1      5         0\n",
       "2024-02-22  4243725      244      3       2      1         0\n",
       "\n",
       "[103556 rows x 6 columns]"
      ]
     },
     "execution_count": 350,
     "metadata": {},
     "output_type": "execute_result"
    }
   ],
   "source": [
    "events_data_temp = events_data.drop(['player_id'], axis = 1)\n",
    "\n",
    "event_list = events_data_temp.type.unique()\n",
    "\n",
    "for i in range(len(event_list)):\n",
    "    temp_event = np.where(events_data_temp.type.values == event_list[i], 1, np.NaN)\n",
    "    events_data_temp[event_list[i]] = temp_event\n",
    "\n",
    "events_data_grouped_temp = events_data_temp.drop(['type'], axis = 1).groupby(['game_id', 'club_id', 'date']).count()\n",
    "events_data_grouped = events_data_grouped_temp.reset_index().sort_values(by = 'date').set_index('date', drop = True)\n",
    "events_data_grouped"
   ]
  },
  {
   "cell_type": "code",
   "execution_count": 345,
   "id": "330bbf27",
   "metadata": {},
   "outputs": [
    {
     "data": {
      "text/plain": [
       "2350"
      ]
     },
     "execution_count": 345,
     "metadata": {},
     "output_type": "execute_result"
    }
   ],
   "source": [
    "# club 수 확인\n",
    "len(events_data_grouped.club_id.unique())"
   ]
  },
  {
   "cell_type": "code",
   "execution_count": 508,
   "id": "2b303b1d",
   "metadata": {},
   "outputs": [
    {
     "data": {
      "text/html": [
       "<div>\n",
       "<style scoped>\n",
       "    .dataframe tbody tr th:only-of-type {\n",
       "        vertical-align: middle;\n",
       "    }\n",
       "\n",
       "    .dataframe tbody tr th {\n",
       "        vertical-align: top;\n",
       "    }\n",
       "\n",
       "    .dataframe thead th {\n",
       "        text-align: right;\n",
       "    }\n",
       "</style>\n",
       "<table border=\"1\" class=\"dataframe\">\n",
       "  <thead>\n",
       "    <tr style=\"text-align: right;\">\n",
       "      <th></th>\n",
       "      <th>game_id</th>\n",
       "      <th>club_id</th>\n",
       "      <th>Goals</th>\n",
       "      <th>assist</th>\n",
       "      <th>Cards</th>\n",
       "    </tr>\n",
       "    <tr>\n",
       "      <th>date</th>\n",
       "      <th></th>\n",
       "      <th></th>\n",
       "      <th></th>\n",
       "      <th></th>\n",
       "      <th></th>\n",
       "    </tr>\n",
       "  </thead>\n",
       "  <tbody>\n",
       "    <tr>\n",
       "      <th>2012-07-03</th>\n",
       "      <td>2235764.0</td>\n",
       "      <td>5594.0</td>\n",
       "      <td>NaN</td>\n",
       "      <td>NaN</td>\n",
       "      <td>NaN</td>\n",
       "    </tr>\n",
       "    <tr>\n",
       "      <th>2012-07-03</th>\n",
       "      <td>2234412.0</td>\n",
       "      <td>10694.0</td>\n",
       "      <td>NaN</td>\n",
       "      <td>NaN</td>\n",
       "      <td>NaN</td>\n",
       "    </tr>\n",
       "    <tr>\n",
       "      <th>2012-07-03</th>\n",
       "      <td>2231979.0</td>\n",
       "      <td>10532.0</td>\n",
       "      <td>NaN</td>\n",
       "      <td>NaN</td>\n",
       "      <td>NaN</td>\n",
       "    </tr>\n",
       "    <tr>\n",
       "      <th>2012-07-03</th>\n",
       "      <td>2231978.0</td>\n",
       "      <td>853.0</td>\n",
       "      <td>NaN</td>\n",
       "      <td>NaN</td>\n",
       "      <td>NaN</td>\n",
       "    </tr>\n",
       "    <tr>\n",
       "      <th>2012-07-03</th>\n",
       "      <td>2235764.0</td>\n",
       "      <td>1167.0</td>\n",
       "      <td>NaN</td>\n",
       "      <td>NaN</td>\n",
       "      <td>NaN</td>\n",
       "    </tr>\n",
       "    <tr>\n",
       "      <th>...</th>\n",
       "      <td>...</td>\n",
       "      <td>...</td>\n",
       "      <td>...</td>\n",
       "      <td>...</td>\n",
       "      <td>...</td>\n",
       "    </tr>\n",
       "    <tr>\n",
       "      <th>2024-02-22</th>\n",
       "      <td>4243721.0</td>\n",
       "      <td>452.0</td>\n",
       "      <td>1.0</td>\n",
       "      <td>0.6</td>\n",
       "      <td>2.8</td>\n",
       "    </tr>\n",
       "    <tr>\n",
       "      <th>2024-02-22</th>\n",
       "      <td>4243720.0</td>\n",
       "      <td>60.0</td>\n",
       "      <td>1.6</td>\n",
       "      <td>1.0</td>\n",
       "      <td>2.0</td>\n",
       "    </tr>\n",
       "    <tr>\n",
       "      <th>2024-02-22</th>\n",
       "      <td>4243724.0</td>\n",
       "      <td>141.0</td>\n",
       "      <td>2.4</td>\n",
       "      <td>1.8</td>\n",
       "      <td>1.6</td>\n",
       "    </tr>\n",
       "    <tr>\n",
       "      <th>2024-02-22</th>\n",
       "      <td>4243722.0</td>\n",
       "      <td>294.0</td>\n",
       "      <td>3.4</td>\n",
       "      <td>2.8</td>\n",
       "      <td>1.2</td>\n",
       "    </tr>\n",
       "    <tr>\n",
       "      <th>2024-02-22</th>\n",
       "      <td>4243720.0</td>\n",
       "      <td>826.0</td>\n",
       "      <td>1.4</td>\n",
       "      <td>1.0</td>\n",
       "      <td>2.4</td>\n",
       "    </tr>\n",
       "  </tbody>\n",
       "</table>\n",
       "<p>103556 rows × 5 columns</p>\n",
       "</div>"
      ],
      "text/plain": [
       "              game_id  club_id  Goals  assist  Cards\n",
       "date                                                \n",
       "2012-07-03  2235764.0   5594.0    NaN     NaN    NaN\n",
       "2012-07-03  2234412.0  10694.0    NaN     NaN    NaN\n",
       "2012-07-03  2231979.0  10532.0    NaN     NaN    NaN\n",
       "2012-07-03  2231978.0    853.0    NaN     NaN    NaN\n",
       "2012-07-03  2235764.0   1167.0    NaN     NaN    NaN\n",
       "...               ...      ...    ...     ...    ...\n",
       "2024-02-22  4243721.0    452.0    1.0     0.6    2.8\n",
       "2024-02-22  4243720.0     60.0    1.6     1.0    2.0\n",
       "2024-02-22  4243724.0    141.0    2.4     1.8    1.6\n",
       "2024-02-22  4243722.0    294.0    3.4     2.8    1.2\n",
       "2024-02-22  4243720.0    826.0    1.4     1.0    2.4\n",
       "\n",
       "[103556 rows x 5 columns]"
      ]
     },
     "execution_count": 508,
     "metadata": {},
     "output_type": "execute_result"
    }
   ],
   "source": [
    "window = 5\n",
    "\n",
    "events_dataset = pd.DataFrame({'game_id' : np.NaN,\n",
    "                               'club_id' : np.NaN,\n",
    "                               'Goals' : np.NaN,\n",
    "                              'assist' : np.NaN,\n",
    "                              'Cards' : np.NaN}, index = [0])\n",
    "events_dataset.index.name = 'date'\n",
    "\n",
    "club_list = events_data_grouped.club_id.unique()\n",
    "\n",
    "# 각 event type에 대해 직전 5개 경기의 이동평균값으로 대체\n",
    "for i in range(len(club_list)):\n",
    "    \n",
    "    temp_df_1 = events_data_grouped[events_data_grouped.club_id == club_list[i]]\n",
    "\n",
    "    temp_df_2 = pd.DataFrame({'Goals' : temp_df_1.Goals,\n",
    "                             'assist' : temp_df_1.assist,\n",
    "                             'Cards' : temp_df_1.Cards})\n",
    "    \n",
    "    temp_df_shifted = temp_df_2.shift(axis = 0, fill_value = np.nan)\n",
    "    \n",
    "    temp_rolling = temp_df_shifted.rolling(window).mean()\n",
    "    temp_df_3 = temp_df_1.drop(['Goals', 'assist', 'Cards', 'Shootout'], axis = 1)\n",
    "    temp_finish = temp_df_3.join(temp_rolling, how = 'left')\n",
    "\n",
    "    events_dataset = pd.concat((events_dataset, temp_finish), sort = False)\n",
    "    \n",
    "events_dataset = events_dataset.drop(index = 0).sort_values(by = 'date')\n",
    "events_dataset"
   ]
  },
  {
   "cell_type": "markdown",
   "id": "c6cf576a",
   "metadata": {},
   "source": [
    "- 한계점: 위와 같이 처리할 경우 각 클럽의 맨 앞 5개 데이터는 NaN값으로 처리되며, 클럽 당 게임 수가 5이하인 클럽은 모두 NaN값으로 처리됨. 해당 NaN값들은 차후 전처리 필요"
   ]
  },
  {
   "cell_type": "code",
   "execution_count": 509,
   "id": "218e1dfc",
   "metadata": {},
   "outputs": [
    {
     "name": "stdout",
     "output_type": "stream",
     "text": [
      "클럽 당 게임 수가 5 이하인 경우 :  count\n",
      "False    1221\n",
      "True     1129\n",
      "Name: count, dtype: int64\n",
      "         count\n",
      "club_id       \n",
      "131      False\n",
      "418      False\n",
      "281      False\n",
      "27       False\n",
      "506      False\n",
      "...        ...\n",
      "4096      True\n",
      "345       True\n",
      "4113      True\n",
      "21934     True\n",
      "726       True\n",
      "\n",
      "[2350 rows x 1 columns]\n"
     ]
    }
   ],
   "source": [
    "temp_club_count = pd.DataFrame(events_data_grouped.club_id.value_counts() < 6)\n",
    "print(\"클럽 당 게임 수가 5 이하인 경우 : \", temp_club_count.value_counts())\n",
    "print(temp_club_count)"
   ]
  },
  {
   "cell_type": "code",
   "execution_count": 510,
   "id": "69e45997",
   "metadata": {},
   "outputs": [
    {
     "data": {
      "text/plain": [
       "2350"
      ]
     },
     "execution_count": 510,
     "metadata": {},
     "output_type": "execute_result"
    }
   ],
   "source": [
    "# club 수 확인\n",
    "len(events_dataset.club_id.unique())"
   ]
  },
  {
   "cell_type": "markdown",
   "id": "359074d5",
   "metadata": {},
   "source": [
    "#### game data 준비"
   ]
  },
  {
   "cell_type": "code",
   "execution_count": 511,
   "id": "b0485b29",
   "metadata": {},
   "outputs": [
    {
     "data": {
      "text/html": [
       "<div>\n",
       "<style scoped>\n",
       "    .dataframe tbody tr th:only-of-type {\n",
       "        vertical-align: middle;\n",
       "    }\n",
       "\n",
       "    .dataframe tbody tr th {\n",
       "        vertical-align: top;\n",
       "    }\n",
       "\n",
       "    .dataframe thead th {\n",
       "        text-align: right;\n",
       "    }\n",
       "</style>\n",
       "<table border=\"1\" class=\"dataframe\">\n",
       "  <thead>\n",
       "    <tr style=\"text-align: right;\">\n",
       "      <th></th>\n",
       "      <th>game_id</th>\n",
       "      <th>date</th>\n",
       "      <th>home_club_id</th>\n",
       "      <th>away_club_id</th>\n",
       "      <th>home_club_goals</th>\n",
       "      <th>away_club_goals</th>\n",
       "      <th>home_club_formation</th>\n",
       "      <th>away_club_formation</th>\n",
       "    </tr>\n",
       "  </thead>\n",
       "  <tbody>\n",
       "    <tr>\n",
       "      <th>13042</th>\n",
       "      <td>2234412</td>\n",
       "      <td>2012-07-03</td>\n",
       "      <td>24832</td>\n",
       "      <td>10694</td>\n",
       "      <td>0</td>\n",
       "      <td>6</td>\n",
       "      <td>NaN</td>\n",
       "      <td>NaN</td>\n",
       "    </tr>\n",
       "    <tr>\n",
       "      <th>9313</th>\n",
       "      <td>2235764</td>\n",
       "      <td>2012-07-03</td>\n",
       "      <td>1167</td>\n",
       "      <td>5594</td>\n",
       "      <td>0</td>\n",
       "      <td>0</td>\n",
       "      <td>NaN</td>\n",
       "      <td>NaN</td>\n",
       "    </tr>\n",
       "    <tr>\n",
       "      <th>41321</th>\n",
       "      <td>2231978</td>\n",
       "      <td>2012-07-03</td>\n",
       "      <td>853</td>\n",
       "      <td>10747</td>\n",
       "      <td>7</td>\n",
       "      <td>0</td>\n",
       "      <td>NaN</td>\n",
       "      <td>NaN</td>\n",
       "    </tr>\n",
       "    <tr>\n",
       "      <th>45069</th>\n",
       "      <td>2231982</td>\n",
       "      <td>2012-07-03</td>\n",
       "      <td>6335</td>\n",
       "      <td>28958</td>\n",
       "      <td>8</td>\n",
       "      <td>0</td>\n",
       "      <td>NaN</td>\n",
       "      <td>NaN</td>\n",
       "    </tr>\n",
       "    <tr>\n",
       "      <th>13037</th>\n",
       "      <td>2231979</td>\n",
       "      <td>2012-07-03</td>\n",
       "      <td>3471</td>\n",
       "      <td>10532</td>\n",
       "      <td>0</td>\n",
       "      <td>0</td>\n",
       "      <td>NaN</td>\n",
       "      <td>NaN</td>\n",
       "    </tr>\n",
       "    <tr>\n",
       "      <th>...</th>\n",
       "      <td>...</td>\n",
       "      <td>...</td>\n",
       "      <td>...</td>\n",
       "      <td>...</td>\n",
       "      <td>...</td>\n",
       "      <td>...</td>\n",
       "      <td>...</td>\n",
       "      <td>...</td>\n",
       "    </tr>\n",
       "    <tr>\n",
       "      <th>63801</th>\n",
       "      <td>4243722</td>\n",
       "      <td>2024-02-22</td>\n",
       "      <td>415</td>\n",
       "      <td>294</td>\n",
       "      <td>0</td>\n",
       "      <td>0</td>\n",
       "      <td>3-4-2-1</td>\n",
       "      <td>4-2-3-1</td>\n",
       "    </tr>\n",
       "    <tr>\n",
       "      <th>26737</th>\n",
       "      <td>4243721</td>\n",
       "      <td>2024-02-22</td>\n",
       "      <td>336</td>\n",
       "      <td>452</td>\n",
       "      <td>1</td>\n",
       "      <td>1</td>\n",
       "      <td>3-4-3</td>\n",
       "      <td>4-2-3-1</td>\n",
       "    </tr>\n",
       "    <tr>\n",
       "      <th>46119</th>\n",
       "      <td>4243719</td>\n",
       "      <td>2024-02-22</td>\n",
       "      <td>273</td>\n",
       "      <td>5</td>\n",
       "      <td>3</td>\n",
       "      <td>2</td>\n",
       "      <td>4-3-3 Attacking</td>\n",
       "      <td>4-2-3-1</td>\n",
       "    </tr>\n",
       "    <tr>\n",
       "      <th>58444</th>\n",
       "      <td>4243723</td>\n",
       "      <td>2024-02-22</td>\n",
       "      <td>10625</td>\n",
       "      <td>1075</td>\n",
       "      <td>2</td>\n",
       "      <td>3</td>\n",
       "      <td>4-2-3-1</td>\n",
       "      <td>4-4-2</td>\n",
       "    </tr>\n",
       "    <tr>\n",
       "      <th>10408</th>\n",
       "      <td>4243720</td>\n",
       "      <td>2024-02-22</td>\n",
       "      <td>60</td>\n",
       "      <td>826</td>\n",
       "      <td>3</td>\n",
       "      <td>2</td>\n",
       "      <td>3-4-3</td>\n",
       "      <td>3-4-1-2</td>\n",
       "    </tr>\n",
       "  </tbody>\n",
       "</table>\n",
       "<p>66685 rows × 8 columns</p>\n",
       "</div>"
      ],
      "text/plain": [
       "       game_id        date  home_club_id  away_club_id  home_club_goals  \\\n",
       "13042  2234412  2012-07-03         24832         10694                0   \n",
       "9313   2235764  2012-07-03          1167          5594                0   \n",
       "41321  2231978  2012-07-03           853         10747                7   \n",
       "45069  2231982  2012-07-03          6335         28958                8   \n",
       "13037  2231979  2012-07-03          3471         10532                0   \n",
       "...        ...         ...           ...           ...              ...   \n",
       "63801  4243722  2024-02-22           415           294                0   \n",
       "26737  4243721  2024-02-22           336           452                1   \n",
       "46119  4243719  2024-02-22           273             5                3   \n",
       "58444  4243723  2024-02-22         10625          1075                2   \n",
       "10408  4243720  2024-02-22            60           826                3   \n",
       "\n",
       "       away_club_goals home_club_formation away_club_formation  \n",
       "13042                6                 NaN                 NaN  \n",
       "9313                 0                 NaN                 NaN  \n",
       "41321                0                 NaN                 NaN  \n",
       "45069                0                 NaN                 NaN  \n",
       "13037                0                 NaN                 NaN  \n",
       "...                ...                 ...                 ...  \n",
       "63801                0             3-4-2-1             4-2-3-1  \n",
       "26737                1               3-4-3             4-2-3-1  \n",
       "46119                2     4-3-3 Attacking             4-2-3-1  \n",
       "58444                3             4-2-3-1               4-4-2  \n",
       "10408                2               3-4-3             3-4-1-2  \n",
       "\n",
       "[66685 rows x 8 columns]"
      ]
     },
     "execution_count": 511,
     "metadata": {},
     "output_type": "execute_result"
    }
   ],
   "source": [
    "games_data"
   ]
  },
  {
   "cell_type": "code",
   "execution_count": 512,
   "id": "1c7bbef4",
   "metadata": {},
   "outputs": [
    {
     "data": {
      "text/plain": [
       "6271"
      ]
     },
     "execution_count": 512,
     "metadata": {},
     "output_type": "execute_result"
    }
   ],
   "source": [
    "games_data.home_club_formation.isna().sum()"
   ]
  },
  {
   "cell_type": "code",
   "execution_count": 513,
   "id": "ede9f2dd",
   "metadata": {},
   "outputs": [
    {
     "data": {
      "text/plain": [
       "Index(['game_id', 'date', 'home_club_id', 'away_club_id', 'home_club_goals',\n",
       "       'away_club_goals', 'home_club_formation', 'away_club_formation'],\n",
       "      dtype='object')"
      ]
     },
     "execution_count": 513,
     "metadata": {},
     "output_type": "execute_result"
    }
   ],
   "source": [
    "games_data.columns"
   ]
  },
  {
   "cell_type": "code",
   "execution_count": 514,
   "id": "412e48dc",
   "metadata": {},
   "outputs": [
    {
     "data": {
      "text/plain": [
       "13042    2012-07-03\n",
       "9313     2012-07-03\n",
       "41321    2012-07-03\n",
       "45069    2012-07-03\n",
       "13037    2012-07-03\n",
       "            ...    \n",
       "63801    2024-02-22\n",
       "26737    2024-02-22\n",
       "46119    2024-02-22\n",
       "58444    2024-02-22\n",
       "10408    2024-02-22\n",
       "Name: date, Length: 66685, dtype: object"
      ]
     },
     "execution_count": 514,
     "metadata": {},
     "output_type": "execute_result"
    }
   ],
   "source": [
    "games_data.date"
   ]
  },
  {
   "cell_type": "markdown",
   "id": "d6ec9596",
   "metadata": {},
   "source": [
    "#### merge"
   ]
  },
  {
   "cell_type": "code",
   "execution_count": 515,
   "id": "2fd17df2",
   "metadata": {},
   "outputs": [
    {
     "name": "stdout",
     "output_type": "stream",
     "text": [
      "       game_id        date  home_club_id  home_club_goals home_club_formation  \\\n",
      "0      2234412  2012-07-03         24832                0                 NaN   \n",
      "1      2235764  2012-07-03          1167                0                 NaN   \n",
      "2      2231978  2012-07-03           853                7                 NaN   \n",
      "3      2231982  2012-07-03          6335                8                 NaN   \n",
      "4      2231979  2012-07-03          3471                0                 NaN   \n",
      "...        ...         ...           ...              ...                 ...   \n",
      "66680  4243722  2024-02-22           415                0             3-4-2-1   \n",
      "66681  4243721  2024-02-22           336                1               3-4-3   \n",
      "66682  4243719  2024-02-22           273                3     4-3-3 Attacking   \n",
      "66683  4243723  2024-02-22         10625                2             4-2-3-1   \n",
      "66684  4243720  2024-02-22            60                3               3-4-3   \n",
      "\n",
      "       pre_home_goals  pre_home_assist  pre_home_cards  \n",
      "0                 NaN              NaN             NaN  \n",
      "1                 NaN              NaN             NaN  \n",
      "2                 NaN              NaN             NaN  \n",
      "3                 NaN              NaN             NaN  \n",
      "4                 NaN              NaN             NaN  \n",
      "...               ...              ...             ...  \n",
      "66680             1.4              0.6             3.6  \n",
      "66681             3.6              2.6             0.8  \n",
      "66682             1.8              1.4             1.8  \n",
      "66683             1.8              1.0             2.6  \n",
      "66684             1.6              1.0             2.0  \n",
      "\n",
      "[66685 rows x 8 columns]\n",
      "       game_id        date  away_club_id  away_club_goals away_club_formation  \\\n",
      "0      2234412  2012-07-03         10694                6                 NaN   \n",
      "1      2235764  2012-07-03          5594                0                 NaN   \n",
      "2      2231978  2012-07-03         10747                0                 NaN   \n",
      "3      2231982  2012-07-03         28958                0                 NaN   \n",
      "4      2231979  2012-07-03         10532                0                 NaN   \n",
      "...        ...         ...           ...              ...                 ...   \n",
      "66680  4243722  2024-02-22           294                0             4-2-3-1   \n",
      "66681  4243721  2024-02-22           452                1             4-2-3-1   \n",
      "66682  4243719  2024-02-22             5                2             4-2-3-1   \n",
      "66683  4243723  2024-02-22          1075                3               4-4-2   \n",
      "66684  4243720  2024-02-22           826                2             3-4-1-2   \n",
      "\n",
      "       pre_away_goals  pre_away_assist  pre_away_cards  \n",
      "0                 NaN              NaN             NaN  \n",
      "1                 NaN              NaN             NaN  \n",
      "2                 NaN              NaN             NaN  \n",
      "3                 NaN              NaN             NaN  \n",
      "4                 NaN              NaN             NaN  \n",
      "...               ...              ...             ...  \n",
      "66680             3.4              2.8             1.2  \n",
      "66681             1.0              0.6             2.8  \n",
      "66682             2.2              1.8             2.2  \n",
      "66683             1.4              0.6             2.2  \n",
      "66684             1.4              1.0             2.4  \n",
      "\n",
      "[66685 rows x 8 columns]\n"
     ]
    }
   ],
   "source": [
    "temp_home = games_data.drop(['away_club_id', 'away_club_goals', 'away_club_formation'], axis = 1)\n",
    "temp_away = games_data.drop(['home_club_id', 'home_club_goals', 'home_club_formation'], axis = 1)\n",
    "\n",
    "temp_home.columns = ['game_id', 'date', 'club_id', 'home_club_goals', 'home_club_formation']\n",
    "temp_away.columns = ['game_id', 'date', 'club_id', 'away_club_goals', 'away_club_formation']\n",
    "\n",
    "temp_home = pd.merge(temp_home, events_dataset, on = [\"game_id\", \"club_id\"], how = \"left\")\n",
    "temp_away = pd.merge(temp_away, events_dataset, on = [\"game_id\", \"club_id\"], how = \"left\")\n",
    "\n",
    "temp_home.columns = ['game_id', 'date', 'home_club_id', 'home_club_goals', 'home_club_formation', 'pre_home_goals', 'pre_home_assist', 'pre_home_cards']\n",
    "temp_away.columns = ['game_id', 'date', 'away_club_id', 'away_club_goals', 'away_club_formation', 'pre_away_goals', 'pre_away_assist', 'pre_away_cards']\n",
    "\n",
    "print(temp_home)\n",
    "print(temp_away)"
   ]
  },
  {
   "cell_type": "markdown",
   "id": "54ddd7ac",
   "metadata": {},
   "source": [
    "#### result column 추가"
   ]
  },
  {
   "cell_type": "code",
   "execution_count": 516,
   "id": "f1ce74de",
   "metadata": {},
   "outputs": [
    {
     "name": "stdout",
     "output_type": "stream",
     "text": [
      "home club goals 결측치 수 :  0\n",
      "away club goals 결측치 수 :  0\n"
     ]
    }
   ],
   "source": [
    "print(\"home club goals 결측치 수 : \", temp_home.home_club_goals.isna().sum())\n",
    "print(\"away club goals 결측치 수 : \", temp_away.away_club_goals.isna().sum())"
   ]
  },
  {
   "cell_type": "code",
   "execution_count": 517,
   "id": "64856d16",
   "metadata": {},
   "outputs": [
    {
     "data": {
      "text/html": [
       "<div>\n",
       "<style scoped>\n",
       "    .dataframe tbody tr th:only-of-type {\n",
       "        vertical-align: middle;\n",
       "    }\n",
       "\n",
       "    .dataframe tbody tr th {\n",
       "        vertical-align: top;\n",
       "    }\n",
       "\n",
       "    .dataframe thead th {\n",
       "        text-align: right;\n",
       "    }\n",
       "</style>\n",
       "<table border=\"1\" class=\"dataframe\">\n",
       "  <thead>\n",
       "    <tr style=\"text-align: right;\">\n",
       "      <th></th>\n",
       "      <th>game_id</th>\n",
       "      <th>date</th>\n",
       "      <th>home_club_id</th>\n",
       "      <th>home_club_formation</th>\n",
       "      <th>pre_home_goals</th>\n",
       "      <th>pre_home_assist</th>\n",
       "      <th>pre_home_cards</th>\n",
       "      <th>away_club_id</th>\n",
       "      <th>away_club_formation</th>\n",
       "      <th>pre_away_goals</th>\n",
       "      <th>pre_away_assist</th>\n",
       "      <th>pre_away_cards</th>\n",
       "      <th>result</th>\n",
       "    </tr>\n",
       "  </thead>\n",
       "  <tbody>\n",
       "    <tr>\n",
       "      <th>0</th>\n",
       "      <td>2234412</td>\n",
       "      <td>2012-07-03</td>\n",
       "      <td>24832</td>\n",
       "      <td>NaN</td>\n",
       "      <td>NaN</td>\n",
       "      <td>NaN</td>\n",
       "      <td>NaN</td>\n",
       "      <td>10694</td>\n",
       "      <td>NaN</td>\n",
       "      <td>NaN</td>\n",
       "      <td>NaN</td>\n",
       "      <td>NaN</td>\n",
       "      <td>away</td>\n",
       "    </tr>\n",
       "    <tr>\n",
       "      <th>1</th>\n",
       "      <td>2235764</td>\n",
       "      <td>2012-07-03</td>\n",
       "      <td>1167</td>\n",
       "      <td>NaN</td>\n",
       "      <td>NaN</td>\n",
       "      <td>NaN</td>\n",
       "      <td>NaN</td>\n",
       "      <td>5594</td>\n",
       "      <td>NaN</td>\n",
       "      <td>NaN</td>\n",
       "      <td>NaN</td>\n",
       "      <td>NaN</td>\n",
       "      <td>draw</td>\n",
       "    </tr>\n",
       "    <tr>\n",
       "      <th>2</th>\n",
       "      <td>2231978</td>\n",
       "      <td>2012-07-03</td>\n",
       "      <td>853</td>\n",
       "      <td>NaN</td>\n",
       "      <td>NaN</td>\n",
       "      <td>NaN</td>\n",
       "      <td>NaN</td>\n",
       "      <td>10747</td>\n",
       "      <td>NaN</td>\n",
       "      <td>NaN</td>\n",
       "      <td>NaN</td>\n",
       "      <td>NaN</td>\n",
       "      <td>home</td>\n",
       "    </tr>\n",
       "    <tr>\n",
       "      <th>3</th>\n",
       "      <td>2231982</td>\n",
       "      <td>2012-07-03</td>\n",
       "      <td>6335</td>\n",
       "      <td>NaN</td>\n",
       "      <td>NaN</td>\n",
       "      <td>NaN</td>\n",
       "      <td>NaN</td>\n",
       "      <td>28958</td>\n",
       "      <td>NaN</td>\n",
       "      <td>NaN</td>\n",
       "      <td>NaN</td>\n",
       "      <td>NaN</td>\n",
       "      <td>home</td>\n",
       "    </tr>\n",
       "    <tr>\n",
       "      <th>4</th>\n",
       "      <td>2231979</td>\n",
       "      <td>2012-07-03</td>\n",
       "      <td>3471</td>\n",
       "      <td>NaN</td>\n",
       "      <td>NaN</td>\n",
       "      <td>NaN</td>\n",
       "      <td>NaN</td>\n",
       "      <td>10532</td>\n",
       "      <td>NaN</td>\n",
       "      <td>NaN</td>\n",
       "      <td>NaN</td>\n",
       "      <td>NaN</td>\n",
       "      <td>draw</td>\n",
       "    </tr>\n",
       "    <tr>\n",
       "      <th>...</th>\n",
       "      <td>...</td>\n",
       "      <td>...</td>\n",
       "      <td>...</td>\n",
       "      <td>...</td>\n",
       "      <td>...</td>\n",
       "      <td>...</td>\n",
       "      <td>...</td>\n",
       "      <td>...</td>\n",
       "      <td>...</td>\n",
       "      <td>...</td>\n",
       "      <td>...</td>\n",
       "      <td>...</td>\n",
       "      <td>...</td>\n",
       "    </tr>\n",
       "    <tr>\n",
       "      <th>66680</th>\n",
       "      <td>4243722</td>\n",
       "      <td>2024-02-22</td>\n",
       "      <td>415</td>\n",
       "      <td>3-4-2-1</td>\n",
       "      <td>1.4</td>\n",
       "      <td>0.6</td>\n",
       "      <td>3.6</td>\n",
       "      <td>294</td>\n",
       "      <td>4-2-3-1</td>\n",
       "      <td>3.4</td>\n",
       "      <td>2.8</td>\n",
       "      <td>1.2</td>\n",
       "      <td>draw</td>\n",
       "    </tr>\n",
       "    <tr>\n",
       "      <th>66681</th>\n",
       "      <td>4243721</td>\n",
       "      <td>2024-02-22</td>\n",
       "      <td>336</td>\n",
       "      <td>3-4-3</td>\n",
       "      <td>3.6</td>\n",
       "      <td>2.6</td>\n",
       "      <td>0.8</td>\n",
       "      <td>452</td>\n",
       "      <td>4-2-3-1</td>\n",
       "      <td>1.0</td>\n",
       "      <td>0.6</td>\n",
       "      <td>2.8</td>\n",
       "      <td>draw</td>\n",
       "    </tr>\n",
       "    <tr>\n",
       "      <th>66682</th>\n",
       "      <td>4243719</td>\n",
       "      <td>2024-02-22</td>\n",
       "      <td>273</td>\n",
       "      <td>4-3-3 Attacking</td>\n",
       "      <td>1.8</td>\n",
       "      <td>1.4</td>\n",
       "      <td>1.8</td>\n",
       "      <td>5</td>\n",
       "      <td>4-2-3-1</td>\n",
       "      <td>2.2</td>\n",
       "      <td>1.8</td>\n",
       "      <td>2.2</td>\n",
       "      <td>home</td>\n",
       "    </tr>\n",
       "    <tr>\n",
       "      <th>66683</th>\n",
       "      <td>4243723</td>\n",
       "      <td>2024-02-22</td>\n",
       "      <td>10625</td>\n",
       "      <td>4-2-3-1</td>\n",
       "      <td>1.8</td>\n",
       "      <td>1.0</td>\n",
       "      <td>2.6</td>\n",
       "      <td>1075</td>\n",
       "      <td>4-4-2</td>\n",
       "      <td>1.4</td>\n",
       "      <td>0.6</td>\n",
       "      <td>2.2</td>\n",
       "      <td>away</td>\n",
       "    </tr>\n",
       "    <tr>\n",
       "      <th>66684</th>\n",
       "      <td>4243720</td>\n",
       "      <td>2024-02-22</td>\n",
       "      <td>60</td>\n",
       "      <td>3-4-3</td>\n",
       "      <td>1.6</td>\n",
       "      <td>1.0</td>\n",
       "      <td>2.0</td>\n",
       "      <td>826</td>\n",
       "      <td>3-4-1-2</td>\n",
       "      <td>1.4</td>\n",
       "      <td>1.0</td>\n",
       "      <td>2.4</td>\n",
       "      <td>home</td>\n",
       "    </tr>\n",
       "  </tbody>\n",
       "</table>\n",
       "<p>66685 rows × 13 columns</p>\n",
       "</div>"
      ],
      "text/plain": [
       "       game_id        date  home_club_id home_club_formation  pre_home_goals  \\\n",
       "0      2234412  2012-07-03         24832                 NaN             NaN   \n",
       "1      2235764  2012-07-03          1167                 NaN             NaN   \n",
       "2      2231978  2012-07-03           853                 NaN             NaN   \n",
       "3      2231982  2012-07-03          6335                 NaN             NaN   \n",
       "4      2231979  2012-07-03          3471                 NaN             NaN   \n",
       "...        ...         ...           ...                 ...             ...   \n",
       "66680  4243722  2024-02-22           415             3-4-2-1             1.4   \n",
       "66681  4243721  2024-02-22           336               3-4-3             3.6   \n",
       "66682  4243719  2024-02-22           273     4-3-3 Attacking             1.8   \n",
       "66683  4243723  2024-02-22         10625             4-2-3-1             1.8   \n",
       "66684  4243720  2024-02-22            60               3-4-3             1.6   \n",
       "\n",
       "       pre_home_assist  pre_home_cards  away_club_id away_club_formation  \\\n",
       "0                  NaN             NaN         10694                 NaN   \n",
       "1                  NaN             NaN          5594                 NaN   \n",
       "2                  NaN             NaN         10747                 NaN   \n",
       "3                  NaN             NaN         28958                 NaN   \n",
       "4                  NaN             NaN         10532                 NaN   \n",
       "...                ...             ...           ...                 ...   \n",
       "66680              0.6             3.6           294             4-2-3-1   \n",
       "66681              2.6             0.8           452             4-2-3-1   \n",
       "66682              1.4             1.8             5             4-2-3-1   \n",
       "66683              1.0             2.6          1075               4-4-2   \n",
       "66684              1.0             2.0           826             3-4-1-2   \n",
       "\n",
       "       pre_away_goals  pre_away_assist  pre_away_cards result  \n",
       "0                 NaN              NaN             NaN   away  \n",
       "1                 NaN              NaN             NaN   draw  \n",
       "2                 NaN              NaN             NaN   home  \n",
       "3                 NaN              NaN             NaN   home  \n",
       "4                 NaN              NaN             NaN   draw  \n",
       "...               ...              ...             ...    ...  \n",
       "66680             3.4              2.8             1.2   draw  \n",
       "66681             1.0              0.6             2.8   draw  \n",
       "66682             2.2              1.8             2.2   home  \n",
       "66683             1.4              0.6             2.2   away  \n",
       "66684             1.4              1.0             2.4   home  \n",
       "\n",
       "[66685 rows x 13 columns]"
      ]
     },
     "execution_count": 517,
     "metadata": {},
     "output_type": "execute_result"
    }
   ],
   "source": [
    "dataset = pd.merge(temp_home, temp_away, on = [\"game_id\", \"date\"], how = \"inner\")\n",
    "\n",
    "result = []\n",
    "\n",
    "for home, away in zip(dataset.home_club_goals.values, dataset.away_club_goals.values):\n",
    "    if home > away:\n",
    "        result.append(\"home\")\n",
    "    elif away > home:\n",
    "        result.append(\"away\")\n",
    "    else:\n",
    "        result.append(\"draw\")\n",
    "        \n",
    "dataset['result'] = result\n",
    "dataset = dataset.drop([\"home_club_goals\", \"away_club_goals\"], axis = 1)\n",
    "dataset"
   ]
  },
  {
   "cell_type": "markdown",
   "id": "0f6284c9",
   "metadata": {},
   "source": [
    "### 결측치 확인"
   ]
  },
  {
   "cell_type": "code",
   "execution_count": 518,
   "id": "a77e6f09",
   "metadata": {},
   "outputs": [
    {
     "name": "stdout",
     "output_type": "stream",
     "text": [
      "[ 결측치 확인 ]\n",
      "\n",
      "-----------------------------------\n",
      "home_club_formation 결측치 비율:\n",
      "9.4 %\n",
      "-----------------------------------\n",
      "pre_home_goals 결측치 비율:\n",
      "26.58 %\n",
      "-----------------------------------\n",
      "pre_home_assist 결측치 비율:\n",
      "26.58 %\n",
      "-----------------------------------\n",
      "pre_home_cards 결측치 비율:\n",
      "26.58 %\n",
      "-----------------------------------\n",
      "away_club_formation 결측치 비율:\n",
      "9.18 %\n",
      "-----------------------------------\n",
      "pre_away_goals 결측치 비율:\n",
      "31.07 %\n",
      "-----------------------------------\n",
      "pre_away_assist 결측치 비율:\n",
      "31.07 %\n",
      "-----------------------------------\n",
      "pre_away_cards 결측치 비율:\n",
      "31.07 %\n",
      "-----------------------------------\n"
     ]
    },
    {
     "data": {
      "image/png": "[encoded data removed]",
      "text/plain": [
       "<Figure size 500x500 with 2 Axes>"
      ]
     },
     "metadata": {},
     "output_type": "display_data"
    }
   ],
   "source": [
    "null_check(dataset)"
   ]
  },
  {
   "cell_type": "markdown",
   "id": "ff4b9a98",
   "metadata": {},
   "source": [
    "### 범주형자료"
   ]
  },
  {
   "cell_type": "code",
   "execution_count": 545,
   "id": "83408f27",
   "metadata": {},
   "outputs": [
    {
     "data": {
      "image/png": "[encoded data removed]",
      "text/plain": [
       "<Figure size 800x600 with 1 Axes>"
      ]
     },
     "metadata": {},
     "output_type": "display_data"
    }
   ],
   "source": [
    "pie(dataset.result)"
   ]
  },
  {
   "cell_type": "code",
   "execution_count": 600,
   "id": "22455b35",
   "metadata": {},
   "outputs": [
    {
     "data": {
      "image/png": "[encoded data removed]",
      "text/plain": [
       "<Figure size 1400x800 with 1 Axes>"
      ]
     },
     "metadata": {},
     "output_type": "display_data"
    }
   ],
   "source": [
    "bar(dataset.home_club_formation)"
   ]
  },
  {
   "cell_type": "code",
   "execution_count": 601,
   "id": "06bd9a22",
   "metadata": {},
   "outputs": [
    {
     "data": {
      "image/png": "[encoded data removed]",
      "text/plain": [
       "<Figure size 1400x800 with 1 Axes>"
      ]
     },
     "metadata": {},
     "output_type": "display_data"
    }
   ],
   "source": [
    "bar(dataset.away_club_formation)"
   ]
  },
  {
   "cell_type": "markdown",
   "id": "284d9a4b",
   "metadata": {},
   "source": [
    "### 수치형 자료"
   ]
  },
  {
   "cell_type": "markdown",
   "id": "4ccf2d78",
   "metadata": {},
   "source": [
    "#### 정규성"
   ]
  },
  {
   "cell_type": "code",
   "execution_count": 666,
   "id": "37b741d6",
   "metadata": {},
   "outputs": [
    {
     "name": "stderr",
     "output_type": "stream",
     "text": [
      "C:\\Users\\LG\\AppData\\Local\\Temp\\ipykernel_16332\\1260687035.py:9: UserWarning: \n",
      "\n",
      "`distplot` is a deprecated function and will be removed in seaborn v0.14.0.\n",
      "\n",
      "Please adapt your code to use either `displot` (a figure-level function with\n",
      "similar flexibility) or `histplot` (an axes-level function for histograms).\n",
      "\n",
      "For a guide to updating your code to use the new functions, please see\n",
      "https://gist.github.com/mwaskom/de44147ed2974457ad6372750bbe5751\n",
      "\n",
      "  sns.distplot(data, kde = False, fit=norm)\n"
     ]
    },
    {
     "data": {
      "image/png": "[encoded data removed]",
      "text/plain": [
       "<Figure size 800x600 with 1 Axes>"
      ]
     },
     "metadata": {},
     "output_type": "display_data"
    }
   ],
   "source": [
    "dist(dataset.pre_home_goals)"
   ]
  },
  {
   "cell_type": "code",
   "execution_count": 667,
   "id": "bb21f336",
   "metadata": {},
   "outputs": [
    {
     "name": "stderr",
     "output_type": "stream",
     "text": [
      "C:\\Users\\LG\\AppData\\Local\\Temp\\ipykernel_16332\\1260687035.py:9: UserWarning: \n",
      "\n",
      "`distplot` is a deprecated function and will be removed in seaborn v0.14.0.\n",
      "\n",
      "Please adapt your code to use either `displot` (a figure-level function with\n",
      "similar flexibility) or `histplot` (an axes-level function for histograms).\n",
      "\n",
      "For a guide to updating your code to use the new functions, please see\n",
      "https://gist.github.com/mwaskom/de44147ed2974457ad6372750bbe5751\n",
      "\n",
      "  sns.distplot(data, kde = False, fit=norm)\n"
     ]
    },
    {
     "data": {
      "image/png": "[encoded data removed]",
      "text/plain": [
       "<Figure size 800x600 with 1 Axes>"
      ]
     },
     "metadata": {},
     "output_type": "display_data"
    }
   ],
   "source": [
    "dist(dataset.pre_home_cards)"
   ]
  },
  {
   "cell_type": "markdown",
   "id": "235d49a0",
   "metadata": {},
   "source": [
    "#### 이상치"
   ]
  },
  {
   "cell_type": "code",
   "execution_count": 685,
   "id": "ca10951b",
   "metadata": {},
   "outputs": [
    {
     "data": {
      "image/png": "[encoded data removed]",
      "text/plain": [
       "<Figure size 1200x800 with 1 Axes>"
      ]
     },
     "metadata": {},
     "output_type": "display_data"
    },
    {
     "data": {
      "image/png": "[encoded data removed]",
      "text/plain": [
       "<Figure size 1200x800 with 1 Axes>"
      ]
     },
     "metadata": {},
     "output_type": "display_data"
    }
   ],
   "source": [
    "eda_home = temp_home.drop(['game_id','date','home_club_id','home_club_formation'], axis = 1)\n",
    "eda_away = temp_away.drop(['game_id','date','away_club_id','away_club_formation'], axis = 1)\n",
    "outlier(eda_home)\n",
    "outlier(eda_away)"
   ]
  },
  {
   "cell_type": "code",
   "execution_count": null,
   "id": "999c3d90",
   "metadata": {},
   "outputs": [],
   "source": []
  }
 ],
 "metadata": {
  "kernelspec": {
   "display_name": "Python 3 (ipykernel)",
   "language": "python",
   "name": "python3"
  },
  "language_info": {
   "codemirror_mode": {
    "name": "ipython",
    "version": 3
   },
   "file_extension": ".py",
   "mimetype": "text/x-python",
   "name": "python",
   "nbconvert_exporter": "python",
   "pygments_lexer": "ipython3",
   "version": "3.11.5"
  },
  "toc": {
   "base_numbering": 1,
   "nav_menu": {},
   "number_sections": true,
   "sideBar": true,
   "skip_h1_title": false,
   "title_cell": "Table of Contents",
   "title_sidebar": "Contents",
   "toc_cell": false,
   "toc_position": {},
   "toc_section_display": true,
   "toc_window_display": false
  }
 },
 "nbformat": 4,
 "nbformat_minor": 5
}
